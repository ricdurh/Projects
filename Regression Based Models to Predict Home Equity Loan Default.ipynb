{
 "cells": [
  {
   "cell_type": "markdown",
   "id": "018bb9be",
   "metadata": {},
   "source": [
    "# Download and Prep Data"
   ]
  },
  {
   "cell_type": "code",
   "execution_count": 79,
   "id": "e28978f2",
   "metadata": {},
   "outputs": [],
   "source": [
    "import os\n",
    "import pandas as pd\n",
    "import numpy as np\n",
    "\n",
    "import matplotlib.pyplot as plt\n",
    "import seaborn as sns\n",
    "\n",
    "import math\n",
    "from operator import itemgetter\n",
    "\n",
    "from sklearn.model_selection import train_test_split\n",
    "import sklearn.metrics as metrics\n",
    "\n",
    "from sklearn import tree\n",
    "from sklearn.tree import _tree\n",
    "\n",
    "from sklearn.ensemble import RandomForestRegressor \n",
    "from sklearn.ensemble import RandomForestClassifier \n",
    "\n",
    "from sklearn.ensemble import GradientBoostingRegressor \n",
    "from sklearn.ensemble import GradientBoostingClassifier \n",
    "\n",
    "from sklearn.model_selection import GridSearchCV     \n",
    "from sklearn.model_selection import cross_val_score \n",
    "\n",
    "from sklearn.linear_model  import LinearRegression\n",
    "from sklearn.linear_model  import LogisticRegression\n",
    "from sklearn.metrics import confusion_matrix , classification_report\n",
    "\n",
    "from mlxtend.feature_selection import SequentialFeatureSelector as SFS\n",
    "from mlxtend.plotting import plot_sequential_feature_selection as plot_sfs\n",
    "\n",
    "import warnings\n",
    "warnings.filterwarnings(\"ignore\")\n",
    "\n",
    "\n",
    "sns.set()\n",
    "pd.set_option('display.max_rows', None)\n",
    "pd.set_option('display.max_columns', None)\n",
    "pd.set_option('display.width', None)\n",
    "pd.set_option('display.max_colwidth', None)\n",
    "\n",
    "INFILE = \"C:\\\\Users\\\\richd\\\\data\\\\HMEQ_Loss.csv\"\n",
    "\n",
    "TARGET_F = \"TARGET_BAD_FLAG\"                         # whether or not the Home Equity Loan defaulted\n",
    "TARGET_A = \"TARGET_LOSS_AMT\"                         # amount of money lost for loans that went bad\n",
    "\n",
    "df = pd.read_csv(INFILE)\n",
    "\n",
    "dt = df.dtypes\n",
    "\n",
    "objList = []\n",
    "numList = []\n",
    "\n",
    "for i in dt.index :\n",
    "    if i in ( [ TARGET_F, TARGET_A ] ) : continue       # if target info, move on\n",
    "    if dt[i] in ([\"object\"]) : objList.append( i )\n",
    "    if dt[i] in ([\"float64\", \"int64\"]) : numList.append( i )"
   ]
  },
  {
   "cell_type": "markdown",
   "id": "cf8b725b",
   "metadata": {},
   "source": [
    "### Missing Imputation"
   ]
  },
  {
   "cell_type": "code",
   "execution_count": 80,
   "id": "a96150a9",
   "metadata": {},
   "outputs": [],
   "source": [
    "# CATEGORICAL IMPUTATION\n",
    "# Fill in missing with \"Missing\"\n",
    "\n",
    "df['IMP_REASON'] = df['REASON']    # create IMP_REASON column\n",
    "df['IMP_REASON'] = df['IMP_REASON'].fillna(\"DebtCon\")    # replace missing with \"DebtCon\"\n",
    "\n",
    "df['IMP_JOB'] = df['JOB']    # create IMP_JOB column\n",
    "df['IMP_JOB'] = df['IMP_JOB'].fillna(\"MISSING\")      # replace missing jobs with \"MISSING\"\n",
    "\n",
    "df = df.drop(['REASON', 'JOB'], axis=1)\n",
    "\n",
    "objList.append('IMP_REASON')\n",
    "objList.append('IMP_JOB')\n",
    "objList.remove('REASON')\n",
    "objList.remove( 'JOB')\n",
    "\n",
    "# hot encode/dummies\n",
    "\n",
    "y = pd.get_dummies(df['IMP_REASON'], prefix=\"z_\", drop_first=True)\n",
    "y_2 = pd.get_dummies(df['IMP_JOB'], prefix=\"z_\", dummy_na=False)\n",
    "df = pd.concat([df, y, y_2], axis=1)\n",
    "df = df.drop(['IMP_REASON', 'IMP_JOB'], axis=1)\n",
    "\n",
    "\n",
    "# NUMERICAL IMPUTATION\n",
    "# Create mortdue at 72% of value\n",
    "\n",
    "mort_perc_of_val = 0.72\n",
    "\n",
    "# MORTDUE\n",
    "df['M_MORTDUE'] = df['MORTDUE'].isna() + 0               # creates the missing flag\n",
    "df['IMP_MORTDUE'] = df['MORTDUE']\n",
    "\n",
    "df['IMP_MORTDUE'] = df['IMP_MORTDUE'].fillna(df['VALUE'] * mort_perc_of_val)             # set MORTDUE at 70% VALUE\n",
    "df['IMP_MORTDUE'] = df['IMP_MORTDUE'].fillna(df['IMP_MORTDUE'].median())    # if VALUE null, set MORTDUE to median\n",
    "\n",
    "\n",
    "# VALUE\n",
    "df['M_VALUE'] = df['VALUE'].isna() + 0                   # creates the missing flag\n",
    "df['IMP_VALUE'] = df['VALUE']\n",
    "\n",
    "df['IMP_VALUE'] = df['IMP_VALUE'].fillna(df['MORTDUE'] * mort_perc_of_val)             # set VALUE so MORTDUE is 72% of VALUE\n",
    "df['IMP_VALUE'] = df['IMP_VALUE'].fillna(df['IMP_VALUE'].median())           # if VALUE null, set VALUE to median\n",
    "\n",
    "# drop MORTDUE and VALUE from df and numList\n",
    "df = df.drop(['MORTDUE', 'VALUE'], axis=1)\n",
    "numList.remove('MORTDUE')\n",
    "numList.remove('VALUE')\n",
    "\n",
    "\n",
    "# fill in mode as missing values for Derog, Delinq, and Ninq\n",
    "\n",
    "fill_as_mode = ['DEROG', 'DELINQ', 'NINQ']\n",
    "\n",
    "for i in fill_as_mode :\n",
    "    if df[i].isna().sum() == 0 : continue    # are any values missing? If no, move along\n",
    "    FLAG = \"M_\" + i                          # M_ is  \"I fixed missing and this is it\"\n",
    "    IMP = \"IMP_\" + i                         # IMP_    imputed value\n",
    "    df[ FLAG ] = df[i].isna() + 0              # creates 1/0 missing flag\n",
    "    df[ IMP ] = df[i]\n",
    "    df.loc[ df[IMP].isna(), IMP ] = df[i].mode()[0]        # replaces with mode\n",
    "    df = df.drop(i, axis=1)                                # drop the extra \n",
    "    \n",
    "\n",
    "# fill in median as missing values for Clage, Clino, Debtinc\n",
    "\n",
    "fill_as_median = ['YOJ', 'CLAGE', 'CLNO', 'DEBTINC']\n",
    "\n",
    "for i in fill_as_median :\n",
    "    if df[i].isna().sum() == 0 : continue    # are any values missing? If no, move along\n",
    "    FLAG = \"M_\" + i                          # M_ is  \"I fixed missing and this is it\"\n",
    "    IMP = \"IMP_\" + i                         # IMP_    imputed value\n",
    "    df[ FLAG ] = df[i].isna() + 0              # creates 1/0 missing flag\n",
    "    df[ IMP ] = df[i]\n",
    "    df.loc[ df[IMP].isna(), IMP ] = df[i].median()         # replaces with median\n",
    "    df = df.drop(i, axis=1)                                # drop the extra "
   ]
  },
  {
   "cell_type": "markdown",
   "id": "fab39e4f",
   "metadata": {},
   "source": [
    "### Handling Outliers"
   ]
  },
  {
   "cell_type": "code",
   "execution_count": 81,
   "id": "8869740d",
   "metadata": {},
   "outputs": [],
   "source": [
    "# upper and lower bounds from 1.5 * IQR\n",
    "dt = df.dtypes\n",
    "numList = []\n",
    "for i in dt.index:\n",
    "    if i in ( [TARGET_F, TARGET_A ] ) : continue\n",
    "    if dt[i] in ([\"float64\", \"int64\"]) : numList.append( i )\n",
    "        \n",
    "for i in numList :\n",
    "    theMean = df[i].mean()\n",
    "    theSD = df[i].std()\n",
    "    theMax = df[i].max()\n",
    "    theMin = df[i].min()\n",
    "    Q1 = df[i].quantile(0.25)\n",
    "    Q3 = df[i].quantile(0.75)\n",
    "    IQR = Q3 - Q1\n",
    "    S = 1.5 * IQR\n",
    "    LB = Q1 - S\n",
    "    UB = Q3 + S\n",
    "    if (theMax <= UB) & (theMin >= LB) : continue\n",
    "    FLAG = \"O_\" + i\n",
    "    TRUNC = \"TRUNC_\" + i\n",
    "    df[ FLAG ] = (( df[i] > UB ) | ( df[i] < LB ) ) + 0\n",
    "    df[ TRUNC ] = df[ i ]\n",
    "    df.loc[ df[TRUNC] > UB, TRUNC ] = UB\n",
    "    df.loc[ df[TRUNC] < LB, TRUNC ] = LB\n",
    "    df = df.drop( i, axis=1 )\n"
   ]
  },
  {
   "cell_type": "markdown",
   "id": "862dc73e",
   "metadata": {},
   "source": [
    "*** \n",
    "I've removed all outliers with the criteria of an outlier being IQR * 1.5. The lower bound is probably not necessary given most data has 0 as a lower bound and doesn't contain any lower bound outliers. That being said, I wanted to have the code in case future data was added. \n",
    "***"
   ]
  },
  {
   "cell_type": "code",
   "execution_count": 82,
   "id": "9f3c3e5f",
   "metadata": {},
   "outputs": [],
   "source": [
    "X = df.copy()\n",
    "X = X.drop( TARGET_F, axis=1)\n",
    "X = X.drop( TARGET_A, axis=1)\n",
    "\n",
    "Y = df[ [TARGET_F, TARGET_A]]\n",
    "\n",
    "X_train, X_test, Y_train, Y_test = train_test_split(X, Y, train_size = 0.8, test_size = 0.2, random_state=1)\n",
    "\n",
    "F = ~ Y_train[ TARGET_A ].isna()\n",
    "W_train = X_train[F].copy()\n",
    "Z_train = Y_train[F].copy()\n",
    "\n",
    "F = ~ Y_test[ TARGET_A ].isna()\n",
    "W_test = X_test[F].copy()\n",
    "Z_test = Y_test[F].copy()"
   ]
  },
  {
   "cell_type": "markdown",
   "id": "123220c9",
   "metadata": {},
   "source": [
    "### Formulas"
   ]
  },
  {
   "cell_type": "code",
   "execution_count": 1,
   "id": "b76ddb68",
   "metadata": {},
   "outputs": [],
   "source": [
    "# equation for decision tree variable selection\n",
    "def getTreeVars( TREE, varNames ) :\n",
    "    tree_ = TREE.tree_\n",
    "    varName = [ varNames[i] if i != _tree.TREE_UNDEFINED else \"undefined!\" for i in tree_.feature ]\n",
    "\n",
    "    nameSet = set()\n",
    "    for i in tree_.feature :\n",
    "        if i != _tree.TREE_UNDEFINED :\n",
    "            nameSet.add( i )\n",
    "    nameList = list( nameSet )\n",
    "    parameter_list = list()\n",
    "    for i in nameList :\n",
    "        parameter_list.append( varNames[i] )\n",
    "    return parameter_list\n",
    "\n",
    "# equation for random forest variable selection\n",
    "def getEnsembleTreeVars( ENSTREE, varNames ) :\n",
    "    importance = ENSTREE.feature_importances_\n",
    "    index = np.argsort(importance)\n",
    "    theList = []\n",
    "    for i in index :\n",
    "        imp_val = importance[i]\n",
    "        if imp_val > np.average( ENSTREE.feature_importances_ ) :\n",
    "            v = int( imp_val / np.max( ENSTREE.feature_importances_ ) * 100 )\n",
    "            theList.append( ( varNames[i], v ) )\n",
    "    theList = sorted(theList,key=itemgetter(1),reverse=True)\n",
    "    return theList\n",
    "\n",
    "# MODEL ACCURACY ------------------------------------------------------------------------------------------\n",
    "# model acc_score/fpr/tpr/auc\n",
    "def getProbAccuracyScores( NAME, MODEL, X, Y ):     # name a list, provide model, X input vars, y target var\n",
    "    pred = MODEL.predict( X )                   # given the model and X, what are the predictions for y  [1/0]\n",
    "    probs = MODEL.predict_proba( X )            # given the model and X, probabilities of y classification [%]\n",
    "    acc_score = metrics.accuracy_score( Y, pred )  # how accurate were predictions compared to actual [[n%, y%]]\n",
    "    p1 = probs[:, 1]                               # probability yes %\n",
    "    fpr, tpr, threshold = metrics.roc_curve( Y, p1 )  \n",
    "    auc = metrics.auc( fpr, tpr )                    \n",
    "    return [NAME, acc_score, fpr, tpr, auc]     # send list \n",
    "\n",
    "# ROC Curve \n",
    "def print_ROC_Curve( TITLE, LIST ):               # give ROC a title and list of things to print\n",
    "    fig = plt.figure( figsize = (6,4) )\n",
    "    plt.title( TITLE )\n",
    "    for theResults in LIST:\n",
    "        NAME = theResults[0]\n",
    "        fpr = theResults[2]\n",
    "        tpr = theResults[3]\n",
    "        auc = theResults[4]\n",
    "        theLabel = \"AUC \" + NAME + ' %0.2f' % auc\n",
    "        plt.plot(fpr, tpr, label = theLabel)\n",
    "    plt.legend(loc = 'lower right')\n",
    "    plt.plot([0,1], [0,1], 'r--')\n",
    "    plt.xlim([0,1])\n",
    "    plt.ylim([0,1])\n",
    "    plt.ylabel('True Positive Rate')\n",
    "    plt.xlabel('False Positive Rate')\n",
    "    plt.show()\n",
    "    \n",
    "# model accuracy\n",
    "def print_Accuracy( TITLE, LIST ):       # take a title, give a list, output is the accuracy\n",
    "    print( TITLE )\n",
    "    print( \"=======\")\n",
    "    for theResults in LIST:\n",
    "        NAME = theResults[0]\n",
    "        ACC = theResults[1]\n",
    "        print( NAME, \" = \", ACC )\n",
    "    print( \"-------\\n\\n\" )\n",
    "\n",
    "\n",
    "# model amt accuracy\n",
    "def getAmtAccuracyScores( NAME, MODEL, X, Y ):   #  take a title, given the model, x w/o missing (W), y w/o missing (Z); get RMSE and mean\n",
    "    pred = MODEL.predict( X )\n",
    "    MEAN = Y.mean()\n",
    "    RMSE = math.sqrt( metrics.mean_squared_error( Y, pred))\n",
    "    return [NAME, RMSE, MEAN]\n",
    "\n",
    "\n",
    "## REGRESSION --------------------------------------------------------------------------------------------\n",
    "#  Logistic Regression\n",
    "def getCoefLogit( MODEL, TRAIN_DATA ):                   # send a model into this function, give coefficients for all variables\n",
    "    varNames = list( TRAIN_DATA.columns.values )\n",
    "    coef_dict = {}\n",
    "    coef_dict[\"INTERCEPT\"] = MODEL.intercept_[0]\n",
    "    for coef, feat in zip(MODEL.coef_[0], varNames):\n",
    "        coef_dict[feat] = coef\n",
    "    print(\"\\nLOAN DEFAULT\")\n",
    "    print(\"---------\")\n",
    "    print(\"Total Variables: \", len( coef_dict ) )\n",
    "    for i in coef_dict :\n",
    "        print( i, \" = \", coef_dict[i] )\n",
    "        \n",
    "# Linear Regression                                      # send a model into this function, give coefficients for all variables\n",
    "def getCoefLinear( MODEL, TRAIN_DATA ):\n",
    "    varNames = list( TRAIN_DATA.columns.values )\n",
    "    coef_dict = {}\n",
    "    coef_dict[\"INTERCEPT\"] = MODEL.intercept_\n",
    "    for coef, feat in zip(MODEL.coef_, varNames):\n",
    "        coef_dict[feat] = coef\n",
    "    print(\"\\nLOAN DEFAULT LOSSES\")\n",
    "    print(\"---------\")\n",
    "    print(\"Total Variables: \", len( coef_dict ))\n",
    "    for i in coef_dict :\n",
    "        print( i, \" = \", coef_dict[i] )\n",
    "# ---------------------------------------------------------------------------------------------------      \n",
    "    "
   ]
  },
  {
   "cell_type": "markdown",
   "id": "7bf17db2",
   "metadata": {},
   "source": [
    "# Logistic Regression  -  Probability of a Loan Default\n",
    "### Log Regression All Variables"
   ]
  },
  {
   "cell_type": "code",
   "execution_count": 84,
   "id": "b76ce21a",
   "metadata": {
    "scrolled": true
   },
   "outputs": [
    {
     "data": {
      "image/png": "[encoded data removed]",
      "text/plain": [
       "<Figure size 432x288 with 1 Axes>"
      ]
     },
     "metadata": {},
     "output_type": "display_data"
    },
    {
     "name": "stdout",
     "output_type": "stream",
     "text": [
      "REG_ALL CLASSIFICATION ACCURACY\n",
      "=======\n",
      "REG_ALL_Train  =  0.8949244966442953\n",
      "REG_ALL  =  0.8951342281879194\n",
      "-------\n",
      "\n",
      "\n"
     ]
    }
   ],
   "source": [
    "WHO = \"REG_ALL\"\n",
    "\n",
    "CLM = LogisticRegression( solver = 'newton-cg', max_iter = 1000)\n",
    "CLM = CLM.fit( X_train, Y_train[ TARGET_F ] )\n",
    "\n",
    "TRAIN_CLM = getProbAccuracyScores( WHO + \"_Train\", CLM, X_train, Y_train[ TARGET_F ] )\n",
    "TEST_CLM = getProbAccuracyScores( WHO, CLM, X_test, Y_test[ TARGET_F ] )\n",
    "\n",
    "print_ROC_Curve( WHO, [ TRAIN_CLM, TEST_CLM ] )\n",
    "print_Accuracy( WHO + \" CLASSIFICATION ACCURACY\", [ TRAIN_CLM, TEST_CLM ] )\n",
    "\n",
    "REG_ALL_CLM = TEST_CLM.copy()"
   ]
  },
  {
   "cell_type": "markdown",
   "id": "06546eb6",
   "metadata": {},
   "source": [
    "### Log Regression Decision Tree"
   ]
  },
  {
   "cell_type": "code",
   "execution_count": 85,
   "id": "195bf71f",
   "metadata": {},
   "outputs": [],
   "source": [
    "# Decision Tree\n",
    "WHO = \"TREE\"\n",
    "\n",
    "CLM = tree.DecisionTreeClassifier( max_depth = 4 , random_state = 1)\n",
    "CLM = CLM.fit( X_train, Y_train[ TARGET_F ] )\n",
    "\n",
    "feature_cols = list(X.columns.values)\n",
    "vars_tree_flag = getTreeVars(CLM, feature_cols)"
   ]
  },
  {
   "cell_type": "code",
   "execution_count": 86,
   "id": "a9c9b4eb",
   "metadata": {},
   "outputs": [
    {
     "data": {
      "image/png": "[encoded data removed]",
      "text/plain": [
       "<Figure size 432x288 with 1 Axes>"
      ]
     },
     "metadata": {},
     "output_type": "display_data"
    },
    {
     "name": "stdout",
     "output_type": "stream",
     "text": [
      "REG_TREE CLASSIFICATION ACCURACY\n",
      "=======\n",
      "REG_TREE_Train  =  0.8779362416107382\n",
      "REG_TREE  =  0.8842281879194631\n",
      "-------\n",
      "\n",
      "\n",
      "\n",
      "LOAN DEFAULT\n",
      "---------\n",
      "Total Variables:  11\n",
      "INTERCEPT  =  -5.496504277642648\n",
      "TRUNC_IMP_CLAGE  =  -0.006408870679868532\n",
      "TRUNC_IMP_DEBTINC  =  0.1195958220830562\n",
      "M_VALUE  =  3.8418726562961676\n",
      "M_DEROG  =  -0.9030092603543634\n",
      "M_YOJ  =  -0.40415570440221765\n",
      "M_DEBTINC  =  2.7723504922337274\n",
      "TRUNC_LOAN  =  -5.899533198995598e-06\n",
      "TRUNC_IMP_MORTDUE  =  -1.8118375072700154e-06\n",
      "O_IMP_DELINQ  =  1.4376676908434876\n",
      "TRUNC_IMP_YOJ  =  -0.018202577883599847\n"
     ]
    }
   ],
   "source": [
    "# Decision Tree Logistic Regression Model\n",
    "WHO = \"REG_TREE\"\n",
    "\n",
    "CLM = LogisticRegression( solver='newton-cg', max_iter=1000)\n",
    "CLM.fit( X_train[vars_tree_flag], Y_train[ TARGET_F ] )\n",
    "\n",
    "TRAIN_CLM = getProbAccuracyScores( WHO + \"_Train\", CLM, X_train[vars_tree_flag], Y_train[ TARGET_F ] )\n",
    "TEST_CLM = getProbAccuracyScores( WHO, CLM, X_test[vars_tree_flag], Y_test[ TARGET_F ])\n",
    "\n",
    "print_ROC_Curve( WHO, [TRAIN_CLM, TEST_CLM ] )\n",
    "print_Accuracy( WHO + \" CLASSIFICATION ACCURACY\", [ TRAIN_CLM, TEST_CLM ] )\n",
    "\n",
    "REG_TREE_CLM = TEST_CLM.copy()\n",
    "\n",
    "REG_TREE_CLM_COEF = getCoefLogit(CLM, X_train[vars_tree_flag])\n"
   ]
  },
  {
   "cell_type": "markdown",
   "id": "677e2c53",
   "metadata": {},
   "source": [
    "### Log Regression Random Forest"
   ]
  },
  {
   "cell_type": "code",
   "execution_count": 87,
   "id": "02d83a01",
   "metadata": {},
   "outputs": [],
   "source": [
    "# Random Forest parameters and model\n",
    "rf = RandomForestClassifier(n_jobs = - 1, random_state=1)\n",
    "params = {\n",
    "    'n_estimators': [5, 50, 100, 250],\n",
    "    'max_depth': [2, 4, 8, 16, 32, None]\n",
    "}\n",
    "\n",
    "CLM = GridSearchCV(estimator = rf, param_grid = params, cv=5)\n",
    "CLM.fit(X_train, Y_train[ TARGET_F ])\n",
    "\n",
    "CLM = CLM.best_estimator_\n",
    "\n",
    "feature_cols = list( X.columns.values )\n",
    "vars_RF_flag = getEnsembleTreeVars( CLM, feature_cols)"
   ]
  },
  {
   "cell_type": "code",
   "execution_count": 88,
   "id": "61e9fc35",
   "metadata": {},
   "outputs": [
    {
     "data": {
      "image/png": "[encoded data removed]",
      "text/plain": [
       "<Figure size 432x288 with 1 Axes>"
      ]
     },
     "metadata": {},
     "output_type": "display_data"
    },
    {
     "name": "stdout",
     "output_type": "stream",
     "text": [
      "REG_RF CLASSIFICATION ACCURACY\n",
      "=======\n",
      "REG_RF_Train  =  0.8743708053691275\n",
      "REG_RF  =  0.8691275167785235\n",
      "-------\n",
      "\n",
      "\n",
      "\n",
      "LOAN DEFAULT\n",
      "---------\n",
      "Total Variables:  12\n",
      "INTERCEPT  =  -5.3412233193786705\n",
      "M_DEBTINC  =  2.761918949762073\n",
      "TRUNC_IMP_DEBTINC  =  0.10994686241939265\n",
      "TRUNC_IMP_CLAGE  =  -0.0058017132471112915\n",
      "TRUNC_LOAN  =  -2.3788346922361393e-06\n",
      "TRUNC_IMP_VALUE  =  -4.8951863241696515e-06\n",
      "TRUNC_IMP_MORTDUE  =  5.212077933545603e-06\n",
      "TRUNC_IMP_CLNO  =  -0.018746580418309677\n",
      "TRUNC_IMP_YOJ  =  -0.008852986231003288\n",
      "O_IMP_DELINQ  =  1.3413413390963045\n",
      "TRUNC_IMP_NINQ  =  0.10789745641013053\n",
      "O_IMP_DEROG  =  1.1063305596192978\n"
     ]
    }
   ],
   "source": [
    "# Random Forest Logistic Regression Model\n",
    "WHO = \"REG_RF\"\n",
    "\n",
    "RF_flag = []\n",
    "for i in vars_RF_flag:\n",
    "    theVar = i[0]\n",
    "    RF_flag.append( theVar )\n",
    "\n",
    "CLM = LogisticRegression( solver='newton-cg', max_iter=1000)\n",
    "CLM.fit( X_train[RF_flag], Y_train[ TARGET_F ] )\n",
    "\n",
    "TRAIN_CLM = getProbAccuracyScores( WHO + \"_Train\", CLM, X_train[RF_flag], Y_train[ TARGET_F ] )\n",
    "TEST_CLM = getProbAccuracyScores( WHO, CLM, X_test[RF_flag], Y_test[ TARGET_F ])\n",
    "\n",
    "print_ROC_Curve( WHO, [TRAIN_CLM, TEST_CLM ] )\n",
    "print_Accuracy( WHO + \" CLASSIFICATION ACCURACY\", [ TRAIN_CLM, TEST_CLM ] )\n",
    "\n",
    "RF_CLM = TEST_CLM.copy()\n",
    "\n",
    "REG_RF_CLM_COEF = getCoefLogit( CLM, X_train[RF_flag] )"
   ]
  },
  {
   "cell_type": "markdown",
   "id": "913921d8",
   "metadata": {},
   "source": [
    "### Log Regression Gradient Boosting"
   ]
  },
  {
   "cell_type": "code",
   "execution_count": 89,
   "id": "cfdd1ab4",
   "metadata": {},
   "outputs": [],
   "source": [
    "# Gradient Boosting parameters and model\n",
    "gb = GradientBoostingClassifier(random_state=1)\n",
    "params = {\n",
    "    'n_estimators': [5,50,250,500],\n",
    "    'max_depth': [1,3,5,7,9],\n",
    "    'learning_rate': [0.01, 0.1, 1, 10, 100]\n",
    "}\n",
    "\n",
    "CLM = GridSearchCV(estimator = gb, param_grid = params, cv=5)\n",
    "CLM.fit(X_train, Y_train[ TARGET_F ])\n",
    "\n",
    "CLM = CLM.best_estimator_\n",
    "\n",
    "feature_cols = list( X.columns.values )\n",
    "vars_GB_flag = getEnsembleTreeVars( CLM, feature_cols)"
   ]
  },
  {
   "cell_type": "code",
   "execution_count": 90,
   "id": "be2ef3af",
   "metadata": {},
   "outputs": [
    {
     "data": {
      "image/png": "[encoded data removed]",
      "text/plain": [
       "<Figure size 432x288 with 1 Axes>"
      ]
     },
     "metadata": {},
     "output_type": "display_data"
    },
    {
     "name": "stdout",
     "output_type": "stream",
     "text": [
      "REG_GB CLASSIFICATION ACCURACY\n",
      "=======\n",
      "REG_GB_Train  =  0.8712248322147651\n",
      "REG_GB  =  0.8708053691275168\n",
      "-------\n",
      "\n",
      "\n",
      "\n",
      "LOAN DEFAULT\n",
      "---------\n",
      "Total Variables:  11\n",
      "INTERCEPT  =  -5.165701180746141\n",
      "M_DEBTINC  =  2.785464767757853\n",
      "TRUNC_IMP_DEBTINC  =  0.10801921827460281\n",
      "TRUNC_IMP_CLAGE  =  -0.005956789108412114\n",
      "TRUNC_IMP_MORTDUE  =  4.460957563948973e-06\n",
      "TRUNC_LOAN  =  -3.297684190284758e-07\n",
      "TRUNC_IMP_VALUE  =  -4.72007979428013e-06\n",
      "O_IMP_DELINQ  =  1.464925803265794\n",
      "TRUNC_IMP_CLNO  =  -0.017304891778489057\n",
      "TRUNC_IMP_YOJ  =  -0.011782692721964857\n",
      "TRUNC_IMP_NINQ  =  0.1490717879902143\n"
     ]
    }
   ],
   "source": [
    "# Gradient Boosting Logistic Regression Model\n",
    "WHO = \"REG_GB\"\n",
    "\n",
    "GB_flag = []\n",
    "for i in vars_GB_flag:\n",
    "    theVar = i[0]\n",
    "    GB_flag.append( theVar )\n",
    "\n",
    "CLM = LogisticRegression( solver='newton-cg', max_iter=1000)\n",
    "CLM.fit( X_train[GB_flag], Y_train[ TARGET_F ] )\n",
    "\n",
    "TRAIN_CLM = getProbAccuracyScores( WHO + \"_Train\", CLM, X_train[GB_flag], Y_train[ TARGET_F ] )\n",
    "TEST_CLM = getProbAccuracyScores( WHO, CLM, X_test[GB_flag], Y_test[ TARGET_F ])\n",
    "\n",
    "print_ROC_Curve( WHO, [TRAIN_CLM, TEST_CLM ] )\n",
    "print_Accuracy( WHO + \" CLASSIFICATION ACCURACY\", [ TRAIN_CLM, TEST_CLM ] )\n",
    "\n",
    "GB_CLM = TEST_CLM.copy()\n",
    "\n",
    "REG_GB_CLM_COEF = getCoefLogit( CLM, X_train[GB_flag] )"
   ]
  },
  {
   "cell_type": "markdown",
   "id": "1e24e6cf",
   "metadata": {},
   "source": [
    "### Log Regression Stepwise Selection"
   ]
  },
  {
   "cell_type": "code",
   "execution_count": 91,
   "id": "746e7528",
   "metadata": {},
   "outputs": [
    {
     "data": {
      "image/png": "[encoded data removed]",
      "text/plain": [
       "<Figure size 432x288 with 1 Axes>"
      ]
     },
     "metadata": {},
     "output_type": "display_data"
    },
    {
     "name": "stdout",
     "output_type": "stream",
     "text": [
      " ....... \n",
      "argmax\n",
      "feature_names    (0, 1, 2, 3, 5, 7, 8)\n",
      "avg_score                     0.878146\n",
      "Name: 7, dtype: object\n",
      " ......... \n"
     ]
    }
   ],
   "source": [
    "# use Decision Tree vars to use stepwise logistic regression \n",
    "U_train = X_train[ vars_tree_flag ]\n",
    "stepVarNames = list( U_train.columns.values )\n",
    "maxCols = U_train.shape[1]\n",
    "\n",
    "# this model will be quite slow ; can be too long if many variables\n",
    "sfs = SFS( LogisticRegression( solver='newton-cg', max_iter=100 ),      # logistic slower than linear here\n",
    "         k_features=( 1, maxCols ),\n",
    "         forward=True,\n",
    "         floating=False,\n",
    "         cv=3)\n",
    "sfs.fit(U_train.values, Y_train[ TARGET_F ].values)\n",
    "\n",
    "theFigure = plot_sfs(sfs.get_metric_dict(), kind=None)     # visualize selected feature subset performances\n",
    "plt.title('LOAN DEFAULT PROBABILITY Sequential Forward Selection (w. StdErr)')\n",
    "plt.grid()\n",
    "plt.show()\n",
    "\n",
    "dfm = pd.DataFrame.from_dict( sfs.get_metric_dict()).T\n",
    "dfm = dfm[ ['feature_names', 'avg_score'] ]\n",
    "dfm.avg_score = dfm.avg_score.astype(float)\n",
    "\n",
    "print(\" ....... \")\n",
    "maxIndex = dfm.avg_score.argmax()\n",
    "print(\"argmax\")\n",
    "print( dfm.iloc[ maxIndex, ] )\n",
    "print(\" ......... \")"
   ]
  },
  {
   "cell_type": "code",
   "execution_count": 92,
   "id": "01b38893",
   "metadata": {},
   "outputs": [
    {
     "name": "stdout",
     "output_type": "stream",
     "text": [
      "('0', '1', '2', '3', '5', '7', '8')\n",
      "TRUNC_IMP_CLAGE\n",
      "TRUNC_IMP_DEBTINC\n",
      "M_VALUE\n",
      "M_DEROG\n",
      "M_DEBTINC\n",
      "TRUNC_IMP_MORTDUE\n",
      "O_IMP_DELINQ\n"
     ]
    }
   ],
   "source": [
    "# identify stepwise features and match to X_train column names \n",
    "stepVars = dfm.iloc[ maxIndex, ]\n",
    "stepVars = stepVars.feature_names\n",
    "print( stepVars )\n",
    "\n",
    "finalStepVars = []\n",
    "for i in stepVars :\n",
    "    index = int(i)\n",
    "    try:\n",
    "        theName = stepVarNames[ index ]\n",
    "        finalStepVars.append( theName )\n",
    "    except :\n",
    "        pass\n",
    "    \n",
    "for i in finalStepVars :\n",
    "    print(i)\n",
    "    \n",
    "U_train = X_train[ finalStepVars ]\n",
    "U_test = X_test[ finalStepVars ]"
   ]
  },
  {
   "cell_type": "code",
   "execution_count": 93,
   "id": "2b0f9c7a",
   "metadata": {},
   "outputs": [
    {
     "data": {
      "image/png": "[encoded data removed]",
      "text/plain": [
       "<Figure size 432x288 with 1 Axes>"
      ]
     },
     "metadata": {},
     "output_type": "display_data"
    },
    {
     "name": "stdout",
     "output_type": "stream",
     "text": [
      "REG_STEPWISE CLASSIFICATION ACCURACY\n",
      "=======\n",
      "REG_STEPWISE_Train  =  0.8779362416107382\n",
      "REG_STEPWISE  =  0.8791946308724832\n",
      "-------\n",
      "\n",
      "\n",
      "\n",
      "LOAN DEFAULT\n",
      "---------\n",
      "Total Variables:  8\n",
      "INTERCEPT  =  -5.701313708939491\n",
      "TRUNC_IMP_CLAGE  =  -0.006861698071108672\n",
      "TRUNC_IMP_DEBTINC  =  0.11922310556620057\n",
      "M_VALUE  =  3.7590419247523887\n",
      "M_DEROG  =  -0.938136547946134\n",
      "M_DEBTINC  =  2.7809451974828416\n",
      "TRUNC_IMP_MORTDUE  =  -1.6163107031889748e-06\n",
      "O_IMP_DELINQ  =  1.4401782964104486\n"
     ]
    }
   ],
   "source": [
    "# Stepwise Logistic Regression Model\n",
    "WHO = \"REG_STEPWISE\"\n",
    "\n",
    "CLM = LogisticRegression( solver='newton-cg', max_iter=1000)\n",
    "CLM.fit( U_train, Y_train[ TARGET_F ] ) \n",
    "\n",
    "TRAIN_CLM = getProbAccuracyScores( WHO + \"_Train\", CLM, U_train, Y_train[ TARGET_F ] )\n",
    "TEST_CLM = getProbAccuracyScores( WHO, CLM, U_test, Y_test[ TARGET_F ])\n",
    "\n",
    "print_ROC_Curve( WHO, [TRAIN_CLM, TEST_CLM ] )\n",
    "print_Accuracy( WHO + \" CLASSIFICATION ACCURACY\", [ TRAIN_CLM, TEST_CLM ] )\n",
    "\n",
    "REG_STEP_CLM = TEST_CLM.copy()\n",
    "\n",
    "REG_STEP_CLM_COEF = getCoefLogit(CLM, U_train)"
   ]
  },
  {
   "cell_type": "markdown",
   "id": "e2ed829d",
   "metadata": {},
   "source": [
    "# Linear Regression  -  Expected Loss if Loan Defaults\n",
    "### Lin Regression All Variables"
   ]
  },
  {
   "cell_type": "code",
   "execution_count": 94,
   "id": "685c8015",
   "metadata": {},
   "outputs": [
    {
     "name": "stdout",
     "output_type": "stream",
     "text": [
      "REG_ALL RMSE ACCURACY\n",
      "=======\n",
      "REG_ALL_Train  =  4102.419911141471\n",
      "REG_ALL  =  5126.255591010369\n",
      "-------\n",
      "\n",
      "\n"
     ]
    }
   ],
   "source": [
    "# Linear Regression for all variables\n",
    "WHO = \"REG_ALL\"\n",
    "\n",
    "AMT = LinearRegression()\n",
    "AMT = AMT.fit( W_train, Z_train[ TARGET_A ] )\n",
    "\n",
    "TRAIN_AMT = getAmtAccuracyScores( WHO + \"_Train\", AMT, W_train, Z_train[ TARGET_A ] )\n",
    "TEST_AMT = getAmtAccuracyScores( WHO, AMT, W_test, Z_test[ TARGET_A ])\n",
    "print_Accuracy( WHO + \" RMSE ACCURACY\", [ TRAIN_AMT, TEST_AMT ] )\n",
    "\n",
    "varNames = list( X_train.columns.values )\n",
    "\n",
    "REG_ALL_AMT = TEST_AMT.copy() "
   ]
  },
  {
   "cell_type": "markdown",
   "id": "42fd3339",
   "metadata": {},
   "source": [
    "### Lin Regression Decision Tree"
   ]
  },
  {
   "cell_type": "code",
   "execution_count": 95,
   "id": "838e812f",
   "metadata": {},
   "outputs": [],
   "source": [
    "# Decision Tree\n",
    "AMT = tree.DecisionTreeRegressor( max_depth = 4 )\n",
    "AMT = AMT.fit( W_train, Z_train[ TARGET_A ] )\n",
    "\n",
    "feature_cols = list( X.columns.values )\n",
    "vars_tree_amt = getTreeVars( AMT, feature_cols )"
   ]
  },
  {
   "cell_type": "code",
   "execution_count": 96,
   "id": "93478baf",
   "metadata": {},
   "outputs": [
    {
     "name": "stdout",
     "output_type": "stream",
     "text": [
      "REG_TREERMSE ACCURACY\n",
      "=======\n",
      "REG_TREE_Train  =  4487.653631762392\n",
      "REG_TREE  =  5552.712603154068\n",
      "-------\n",
      "\n",
      "\n",
      "\n",
      "LOAN DEFAULT LOSSES\n",
      "---------\n",
      "Total Variables:  7\n",
      "INTERCEPT  =  -15334.557716225481\n",
      "TRUNC_IMP_CLAGE  =  -27.641067296967258\n",
      "TRUNC_IMP_CLNO  =  309.7844526331318\n",
      "TRUNC_IMP_DEBTINC  =  238.2915407592362\n",
      "M_DEBTINC  =  5853.098618375031\n",
      "TRUNC_LOAN  =  0.8544772834131481\n",
      "TRUNC_IMP_VALUE  =  -8.140906536711143e-05\n"
     ]
    }
   ],
   "source": [
    "# Decision Tree Linear Regression Model\n",
    "WHO = \"REG_TREE\"\n",
    "\n",
    "AMT = LinearRegression()\n",
    "AMT = AMT.fit( W_train[ vars_tree_amt], Z_train[ TARGET_A ] )\n",
    "\n",
    "TRAIN_AMT = getAmtAccuracyScores( WHO + \"_Train\", AMT, W_train[ vars_tree_amt ], Z_train[ TARGET_A ])\n",
    "TEST_AMT = getAmtAccuracyScores( WHO, AMT, W_test[ vars_tree_amt ], Z_test[ TARGET_A ] )\n",
    "print_Accuracy(WHO + \"RMSE ACCURACY\", [ TRAIN_AMT, TEST_AMT ] )\n",
    "\n",
    "varNames = list( X_train.columns.values )\n",
    "\n",
    "REG_TREE_AMT = TEST_AMT.copy()\n",
    "\n",
    "REG_TREE_AMT_COEF = getCoefLinear( AMT, X_train[vars_tree_amt])"
   ]
  },
  {
   "cell_type": "markdown",
   "id": "f6e612da",
   "metadata": {},
   "source": [
    "### Lin Regression Random Forest"
   ]
  },
  {
   "cell_type": "code",
   "execution_count": 97,
   "id": "840f08c5",
   "metadata": {},
   "outputs": [],
   "source": [
    "# Random Forest parameters and model\n",
    "rf = RandomForestRegressor(n_jobs = - 1, random_state=1)\n",
    "params = {\n",
    "    'n_estimators': [5, 50, 100, 250],\n",
    "    'max_depth': [2, 4, 8, 16, 32, None]\n",
    "}\n",
    "\n",
    "AMT = GridSearchCV(estimator = rf, param_grid = params, cv=5)\n",
    "AMT.fit(W_train, Z_train[ TARGET_A ])\n",
    "\n",
    "AMT = AMT.best_estimator_\n",
    "\n",
    "feature_cols = list( X.columns.values )\n",
    "vars_RF_amt = getEnsembleTreeVars( AMT, feature_cols)"
   ]
  },
  {
   "cell_type": "code",
   "execution_count": 98,
   "id": "4cd92dea",
   "metadata": {},
   "outputs": [
    {
     "name": "stdout",
     "output_type": "stream",
     "text": [
      "REG_RFRMSE ACCURACY\n",
      "=======\n",
      "REG_RF_Train  =  4487.6548826891585\n",
      "REG_RF  =  5552.909665005261\n",
      "-------\n",
      "\n",
      "\n",
      "\n",
      "LOAN DEFAULT LOSSES\n",
      "---------\n",
      "Total Variables:  6\n",
      "INTERCEPT  =  -15336.700904766552\n",
      "TRUNC_LOAN  =  0.8543255659686454\n",
      "TRUNC_IMP_CLNO  =  309.7041931058464\n",
      "TRUNC_IMP_DEBTINC  =  238.26328557932516\n",
      "TRUNC_IMP_CLAGE  =  -27.64150119657678\n",
      "M_DEBTINC  =  5853.313048878967\n"
     ]
    }
   ],
   "source": [
    "# Random Forest Linear Regression Model\n",
    "WHO = \"REG_RF\"\n",
    "\n",
    "RF_amt = []\n",
    "for i in vars_RF_amt :\n",
    "    theVar = i[0]\n",
    "    RF_amt.append( theVar )\n",
    "\n",
    "\n",
    "AMT = LinearRegression()\n",
    "AMT = AMT.fit( W_train[RF_amt], Z_train[ TARGET_A ] )\n",
    "\n",
    "TRAIN_AMT = getAmtAccuracyScores( WHO + \"_Train\", AMT, W_train[ RF_amt ], Z_train[ TARGET_A ])\n",
    "TEST_AMT = getAmtAccuracyScores( WHO, AMT, W_test[ RF_amt ], Z_test[ TARGET_A ] )\n",
    "print_Accuracy(WHO + \"RMSE ACCURACY\", [ TRAIN_AMT, TEST_AMT ] )\n",
    "\n",
    "RF_AMT = TEST_AMT.copy()\n",
    "\n",
    "REG_RF_AMT_COEF = getCoefLinear( AMT, X_train[RF_amt] )"
   ]
  },
  {
   "cell_type": "markdown",
   "id": "54ab08b1",
   "metadata": {},
   "source": [
    "### Lin Regression Gradient Boosting"
   ]
  },
  {
   "cell_type": "code",
   "execution_count": 99,
   "id": "2733e607",
   "metadata": {},
   "outputs": [],
   "source": [
    "# Gradient Boosting parameters and model\n",
    "gb = GradientBoostingRegressor(random_state=1)\n",
    "params = {\n",
    "    'n_estimators': [5,50,250,500],\n",
    "    'max_depth': [1,3,5,7,9],\n",
    "    'learning_rate': [0.01, 0.1, 1, 10, 100]\n",
    "}\n",
    "\n",
    "AMT = GridSearchCV(estimator = gb, param_grid = params, cv=5)\n",
    "AMT.fit(W_train, Z_train[ TARGET_A ])\n",
    "\n",
    "AMT = AMT.best_estimator_\n",
    "\n",
    "feature_cols = list( X.columns.values )\n",
    "vars_GB_amt = getEnsembleTreeVars( AMT, feature_cols)"
   ]
  },
  {
   "cell_type": "code",
   "execution_count": 100,
   "id": "1c695e78",
   "metadata": {},
   "outputs": [
    {
     "name": "stdout",
     "output_type": "stream",
     "text": [
      "REG_GB RMSE ACCURACY\n",
      "=======\n",
      "REG_GB_Train  =  4487.654882689158\n",
      "REG_GB  =  5552.909665005261\n",
      "-------\n",
      "\n",
      "\n",
      "\n",
      "LOAN DEFAULT LOSSES\n",
      "---------\n",
      "Total Variables:  6\n",
      "INTERCEPT  =  -15336.700904766523\n",
      "TRUNC_LOAN  =  0.8543255659686454\n",
      "TRUNC_IMP_CLNO  =  309.7041931058467\n",
      "TRUNC_IMP_CLAGE  =  -27.64150119657686\n",
      "M_DEBTINC  =  5853.313048878969\n",
      "TRUNC_IMP_DEBTINC  =  238.26328557932453\n"
     ]
    }
   ],
   "source": [
    "# Gradient Boosting Linear Regression Model\n",
    "WHO = \"REG_GB\"\n",
    "\n",
    "GB_amt = []\n",
    "for i in vars_GB_amt:\n",
    "    theVar = i[0]\n",
    "    GB_amt.append( theVar )\n",
    "\n",
    "AMT = LinearRegression()\n",
    "AMT = AMT.fit( W_train[GB_amt], Z_train[ TARGET_A ] )\n",
    "\n",
    "TRAIN_AMT = getAmtAccuracyScores( WHO + \"_Train\", AMT, W_train[GB_amt], Z_train[ TARGET_A ] )\n",
    "TEST_AMT = getAmtAccuracyScores( WHO, AMT, W_test[GB_amt], Z_test[ TARGET_A ])\n",
    "print_Accuracy( WHO + \" RMSE ACCURACY\", [ TRAIN_AMT, TEST_AMT ] )\n",
    "\n",
    "GB_AMT = TEST_AMT.copy()\n",
    "\n",
    "REG_GB_AMT_COEF = getCoefLinear( AMT, X_train[GB_amt] )"
   ]
  },
  {
   "cell_type": "markdown",
   "id": "6ba3b51a",
   "metadata": {},
   "source": [
    "### Lin Regression Stepwise Selection"
   ]
  },
  {
   "cell_type": "code",
   "execution_count": 101,
   "id": "d3839075",
   "metadata": {},
   "outputs": [
    {
     "data": {
      "image/png": "[encoded data removed]",
      "text/plain": [
       "<Figure size 432x288 with 1 Axes>"
      ]
     },
     "metadata": {},
     "output_type": "display_data"
    },
    {
     "name": "stdout",
     "output_type": "stream",
     "text": [
      " ................... \n",
      "argmax\n",
      "feature_names    (0, 1, 2, 3, 4)\n",
      "avg_score               0.810663\n",
      "Name: 5, dtype: object\n",
      " ................... \n",
      "('0', '1', '2', '3', '4')\n",
      "TRUNC_LOAN\n",
      "TRUNC_IMP_CLNO\n",
      "TRUNC_IMP_CLAGE\n",
      "M_DEBTINC\n",
      "TRUNC_IMP_DEBTINC\n"
     ]
    }
   ],
   "source": [
    "# Stepwise Selection\n",
    "V_train = W_train[ GB_amt ]\n",
    "stepVarNames = list( V_train.columns.values )\n",
    "maxCols = V_train.shape[1]\n",
    "\n",
    "sfs = SFS( LinearRegression(),\n",
    "         k_features=(1, maxCols ),\n",
    "         forward = True,\n",
    "         floating = False,\n",
    "         scoring = 'r2',\n",
    "         cv=5\n",
    "         )\n",
    "sfs.fit(V_train.values, Z_train[ TARGET_A ].values)\n",
    "\n",
    "theFigure = plot_sfs(sfs.get_metric_dict(), kind=None)\n",
    "plt.title('DEFAULT AMOUNT Sequential Forward Selection (w. StdErr)')\n",
    "plt.grid()\n",
    "plt.show()\n",
    "\n",
    "dfm = pd.DataFrame.from_dict( sfs.get_metric_dict()).T\n",
    "dfm = dfm[ ['feature_names', 'avg_score'] ]\n",
    "dfm.avg_score = dfm.avg_score.astype(float)\n",
    "\n",
    "print(\" ................... \")\n",
    "maxIndex = dfm.avg_score.argmax()\n",
    "print(\"argmax\")\n",
    "print( dfm.iloc[ maxIndex, ] )\n",
    "print(\" ................... \")\n",
    "\n",
    "stepVars = dfm.iloc[ maxIndex, ]\n",
    "stepVars = stepVars.feature_names\n",
    "print( stepVars )\n",
    "\n",
    "finalStepVars = []\n",
    "for i in stepVars :\n",
    "    index = int(i)\n",
    "    try :\n",
    "        theName = stepVarNames[ index ]\n",
    "        finalStepVars.append( theName )\n",
    "    except :\n",
    "        pass\n",
    "\n",
    "for i in finalStepVars :\n",
    "    print(i)\n",
    "\n",
    "V_train = W_train[ finalStepVars ]\n",
    "V_test = W_test[ finalStepVars ]"
   ]
  },
  {
   "cell_type": "code",
   "execution_count": 102,
   "id": "46d03442",
   "metadata": {},
   "outputs": [
    {
     "name": "stdout",
     "output_type": "stream",
     "text": [
      "REG_STEPWISE RMSE ACCURACY\n",
      "=======\n",
      "REG_STEPWISE_Train  =  4487.654882689158\n",
      "REG_STEPWISE  =  5552.909665005261\n",
      "-------\n",
      "\n",
      "\n",
      "\n",
      "LOAN DEFAULT LOSSES\n",
      "---------\n",
      "Total Variables:  6\n",
      "INTERCEPT  =  -15336.700904766523\n",
      "TRUNC_LOAN  =  0.8543255659686454\n",
      "TRUNC_IMP_CLNO  =  309.7041931058467\n",
      "TRUNC_IMP_CLAGE  =  -27.64150119657686\n",
      "M_DEBTINC  =  5853.313048878969\n",
      "TRUNC_IMP_DEBTINC  =  238.26328557932453\n"
     ]
    }
   ],
   "source": [
    "# Linear Regression Stepwise\n",
    "WHO = \"REG_STEPWISE\"\n",
    "\n",
    "AMT = LinearRegression()\n",
    "AMT = AMT.fit( V_train, Z_train[ TARGET_A])\n",
    "\n",
    "TRAIN_AMT = getAmtAccuracyScores( WHO + \"_Train\", AMT, V_train, Z_train[TARGET_A] )\n",
    "TEST_AMT = getAmtAccuracyScores( WHO, AMT, V_test, Z_test[TARGET_A])\n",
    "print_Accuracy( WHO + \" RMSE ACCURACY\", [TRAIN_AMT, TEST_AMT])\n",
    "\n",
    "REG_STEP_AMT = TEST_AMT.copy()\n",
    "\n",
    "REG_STEP_AMT_COEF = getCoefLinear(AMT, V_train)"
   ]
  },
  {
   "cell_type": "code",
   "execution_count": 103,
   "id": "e4c0ce3d",
   "metadata": {
    "scrolled": true
   },
   "outputs": [
    {
     "data": {
      "image/png": "[encoded data removed]",
      "text/plain": [
       "<Figure size 432x288 with 1 Axes>"
      ]
     },
     "metadata": {},
     "output_type": "display_data"
    },
    {
     "name": "stdout",
     "output_type": "stream",
     "text": [
      "ALL CLASSIFICATION ACCURACY\n",
      "=======\n",
      "REG_ALL  =  0.8951342281879194\n",
      "REG_TREE  =  0.8842281879194631\n",
      "REG_STEPWISE  =  0.8791946308724832\n",
      "REG_GB  =  0.8708053691275168\n",
      "REG_RF  =  0.8691275167785235\n",
      "-------\n",
      "\n",
      "\n",
      "ALL LOAN DEFAULT LOSSES MODEL ACCURACY\n",
      "=======\n",
      "REG_ALL  =  5126.255591010369\n",
      "REG_TREE  =  5552.712603154068\n",
      "REG_RF  =  5552.909665005261\n",
      "REG_GB  =  5552.909665005261\n",
      "REG_STEPWISE  =  5552.909665005261\n",
      "-------\n",
      "\n",
      "\n"
     ]
    }
   ],
   "source": [
    "ALL_CLM = [ REG_ALL_CLM, REG_TREE_CLM, RF_CLM, GB_CLM, REG_STEP_CLM ]\n",
    "\n",
    "ALL_CLM = sorted( ALL_CLM, key = lambda x: x[4], reverse=True )\n",
    "print_ROC_Curve( \"ROC CURVES ALL\", ALL_CLM ) \n",
    "\n",
    "ALL_CLM = sorted( ALL_CLM, key = lambda x: x[1], reverse=True )\n",
    "print_Accuracy( \"ALL CLASSIFICATION ACCURACY\", ALL_CLM )\n",
    "\n",
    "\n",
    "ALL_AMT = [ REG_ALL_AMT, REG_TREE_AMT, RF_AMT, GB_AMT, REG_STEP_AMT ]\n",
    "ALL_AMT = sorted( ALL_AMT, key = lambda x: x[1] )\n",
    "print_Accuracy( \"ALL LOAN DEFAULT LOSSES MODEL ACCURACY\", ALL_AMT )\n",
    "\n"
   ]
  },
  {
   "cell_type": "markdown",
   "id": "4a7e3624",
   "metadata": {},
   "source": [
    "***\n",
    "For the logistic regression model, I would choose the stepwise regression model. Many of the models performed fairly similarly. The most accurate, and the highest performing auc was the regression with all variables. However, this is somewhat expected as this model is able to take advantage of incremental adds from all variables, and does not factor in the feasiblity of the model, or the added benefits of each variable. For that reason, the stepwise regression seems to be the best fit. Initially I was thinking of the decision tree regression model, as the accuracy and auc score is better than all models outside the regression for all variables. However, the stepwise regression uses only 8 variables compared to 11 or 12 from the other models. The decision tree model has the same variables as the stepwise, then adds three more. Furthermore, the stepwise variables seem to make sense.\n",
    "\n",
    "The linear regression model, three of the five models have the same 6 variables. I might have made a mistake, but I've looked through and if I understand correctly, these models are just deciding the same variables should be fed to the model. From there, the models are the same, which is why they all have the same scores. Similar to the logistic model, using all the variables does not seem like the right move, despite the better accuracy score. The decision tree is the only model that adds another variable, and it does not seem like that extra variable is providing enough value to make it worthwhile.\n",
    "***"
   ]
  }
 ],
 "metadata": {
  "kernelspec": {
   "display_name": "Python 3 (ipykernel)",
   "language": "python",
   "name": "python3"
  },
  "language_info": {
   "codemirror_mode": {
    "name": "ipython",
    "version": 3
   },
   "file_extension": ".py",
   "mimetype": "text/x-python",
   "name": "python",
   "nbconvert_exporter": "python",
   "pygments_lexer": "ipython3",
   "version": "3.8.8"
  }
 },
 "nbformat": 4,
 "nbformat_minor": 5
}
