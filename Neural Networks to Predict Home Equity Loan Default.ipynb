{
 "cells": [
  {
   "cell_type": "markdown",
   "id": "cd907a2e",
   "metadata": {},
   "source": [
    "# Download and Prep Data"
   ]
  },
  {
   "cell_type": "code",
   "execution_count": 3,
   "id": "f411f52f",
   "metadata": {},
   "outputs": [],
   "source": [
    "import os\n",
    "import pandas as pd\n",
    "import numpy as np\n",
    "\n",
    "import matplotlib.pyplot as plt\n",
    "import seaborn as sns\n",
    "\n",
    "import math\n",
    "from operator import itemgetter\n",
    "\n",
    "from sklearn.model_selection import train_test_split\n",
    "import sklearn.metrics as metrics\n",
    "\n",
    "from sklearn import tree\n",
    "from sklearn.tree import _tree\n",
    "\n",
    "from sklearn.ensemble import RandomForestRegressor \n",
    "from sklearn.ensemble import RandomForestClassifier \n",
    "\n",
    "from sklearn.ensemble import GradientBoostingRegressor \n",
    "from sklearn.ensemble import GradientBoostingClassifier \n",
    "\n",
    "from sklearn.model_selection import GridSearchCV     \n",
    "from sklearn.model_selection import cross_val_score \n",
    "\n",
    "from sklearn.linear_model  import LinearRegression\n",
    "from sklearn.linear_model  import LogisticRegression\n",
    "from sklearn.metrics import confusion_matrix , classification_report\n",
    "\n",
    "from mlxtend.feature_selection import SequentialFeatureSelector as SFS\n",
    "from mlxtend.plotting import plot_sequential_feature_selection as plot_sfs\n",
    "\n",
    "import warnings\n",
    "warnings.filterwarnings(\"ignore\")\n",
    "\n",
    "\n",
    "sns.set()\n",
    "pd.set_option('display.max_rows', None)\n",
    "pd.set_option('display.max_columns', None)\n",
    "pd.set_option('display.width', None)\n",
    "pd.set_option('display.max_colwidth', None)\n",
    "\n",
    "INFILE = \"C:\\\\Users\\\\richd\\\\data\\\\HMEQ_Loss.csv\"\n",
    "\n",
    "TARGET_F = \"TARGET_BAD_FLAG\"                         # whether or not the Home Equity Loan defaulted\n",
    "TARGET_A = \"TARGET_LOSS_AMT\"                         # amount of money lost for loans that went bad\n",
    "\n",
    "df = pd.read_csv(INFILE)\n",
    "\n",
    "dt = df.dtypes\n",
    "\n",
    "objList = []\n",
    "numList = []\n",
    "\n",
    "for i in dt.index :\n",
    "    if i in ( [ TARGET_F, TARGET_A ] ) : continue       # if target info, move on\n",
    "    if dt[i] in ([\"object\"]) : objList.append( i )\n",
    "    if dt[i] in ([\"float64\", \"int64\"]) : numList.append( i )"
   ]
  },
  {
   "cell_type": "code",
   "execution_count": 4,
   "id": "d6f12f37",
   "metadata": {},
   "outputs": [
    {
     "data": {
      "text/html": [
       "<div>\n",
       "<style scoped>\n",
       "    .dataframe tbody tr th:only-of-type {\n",
       "        vertical-align: middle;\n",
       "    }\n",
       "\n",
       "    .dataframe tbody tr th {\n",
       "        vertical-align: top;\n",
       "    }\n",
       "\n",
       "    .dataframe thead th {\n",
       "        text-align: right;\n",
       "    }\n",
       "</style>\n",
       "<table border=\"1\" class=\"dataframe\">\n",
       "  <thead>\n",
       "    <tr style=\"text-align: right;\">\n",
       "      <th></th>\n",
       "      <th>TARGET_BAD_FLAG</th>\n",
       "      <th>TARGET_LOSS_AMT</th>\n",
       "      <th>LOAN</th>\n",
       "      <th>MORTDUE</th>\n",
       "      <th>VALUE</th>\n",
       "      <th>REASON</th>\n",
       "      <th>JOB</th>\n",
       "      <th>YOJ</th>\n",
       "      <th>DEROG</th>\n",
       "      <th>DELINQ</th>\n",
       "      <th>CLAGE</th>\n",
       "      <th>NINQ</th>\n",
       "      <th>CLNO</th>\n",
       "      <th>DEBTINC</th>\n",
       "    </tr>\n",
       "  </thead>\n",
       "  <tbody>\n",
       "    <tr>\n",
       "      <th>0</th>\n",
       "      <td>1</td>\n",
       "      <td>641.0</td>\n",
       "      <td>1100</td>\n",
       "      <td>25860.0</td>\n",
       "      <td>39025.0</td>\n",
       "      <td>HomeImp</td>\n",
       "      <td>Other</td>\n",
       "      <td>10.5</td>\n",
       "      <td>0.0</td>\n",
       "      <td>0.0</td>\n",
       "      <td>94.366667</td>\n",
       "      <td>1.0</td>\n",
       "      <td>9.0</td>\n",
       "      <td>NaN</td>\n",
       "    </tr>\n",
       "    <tr>\n",
       "      <th>1</th>\n",
       "      <td>1</td>\n",
       "      <td>1109.0</td>\n",
       "      <td>1300</td>\n",
       "      <td>70053.0</td>\n",
       "      <td>68400.0</td>\n",
       "      <td>HomeImp</td>\n",
       "      <td>Other</td>\n",
       "      <td>7.0</td>\n",
       "      <td>0.0</td>\n",
       "      <td>2.0</td>\n",
       "      <td>121.833333</td>\n",
       "      <td>0.0</td>\n",
       "      <td>14.0</td>\n",
       "      <td>NaN</td>\n",
       "    </tr>\n",
       "    <tr>\n",
       "      <th>2</th>\n",
       "      <td>1</td>\n",
       "      <td>767.0</td>\n",
       "      <td>1500</td>\n",
       "      <td>13500.0</td>\n",
       "      <td>16700.0</td>\n",
       "      <td>HomeImp</td>\n",
       "      <td>Other</td>\n",
       "      <td>4.0</td>\n",
       "      <td>0.0</td>\n",
       "      <td>0.0</td>\n",
       "      <td>149.466667</td>\n",
       "      <td>1.0</td>\n",
       "      <td>10.0</td>\n",
       "      <td>NaN</td>\n",
       "    </tr>\n",
       "    <tr>\n",
       "      <th>3</th>\n",
       "      <td>1</td>\n",
       "      <td>1425.0</td>\n",
       "      <td>1500</td>\n",
       "      <td>NaN</td>\n",
       "      <td>NaN</td>\n",
       "      <td>NaN</td>\n",
       "      <td>NaN</td>\n",
       "      <td>NaN</td>\n",
       "      <td>NaN</td>\n",
       "      <td>NaN</td>\n",
       "      <td>NaN</td>\n",
       "      <td>NaN</td>\n",
       "      <td>NaN</td>\n",
       "      <td>NaN</td>\n",
       "    </tr>\n",
       "    <tr>\n",
       "      <th>4</th>\n",
       "      <td>0</td>\n",
       "      <td>NaN</td>\n",
       "      <td>1700</td>\n",
       "      <td>97800.0</td>\n",
       "      <td>112000.0</td>\n",
       "      <td>HomeImp</td>\n",
       "      <td>Office</td>\n",
       "      <td>3.0</td>\n",
       "      <td>0.0</td>\n",
       "      <td>0.0</td>\n",
       "      <td>93.333333</td>\n",
       "      <td>0.0</td>\n",
       "      <td>14.0</td>\n",
       "      <td>NaN</td>\n",
       "    </tr>\n",
       "  </tbody>\n",
       "</table>\n",
       "</div>"
      ],
      "text/plain": [
       "   TARGET_BAD_FLAG  TARGET_LOSS_AMT  LOAN  MORTDUE     VALUE   REASON     JOB  \\\n",
       "0                1            641.0  1100  25860.0   39025.0  HomeImp   Other   \n",
       "1                1           1109.0  1300  70053.0   68400.0  HomeImp   Other   \n",
       "2                1            767.0  1500  13500.0   16700.0  HomeImp   Other   \n",
       "3                1           1425.0  1500      NaN       NaN      NaN     NaN   \n",
       "4                0              NaN  1700  97800.0  112000.0  HomeImp  Office   \n",
       "\n",
       "    YOJ  DEROG  DELINQ       CLAGE  NINQ  CLNO  DEBTINC  \n",
       "0  10.5    0.0     0.0   94.366667   1.0   9.0      NaN  \n",
       "1   7.0    0.0     2.0  121.833333   0.0  14.0      NaN  \n",
       "2   4.0    0.0     0.0  149.466667   1.0  10.0      NaN  \n",
       "3   NaN    NaN     NaN         NaN   NaN   NaN      NaN  \n",
       "4   3.0    0.0     0.0   93.333333   0.0  14.0      NaN  "
      ]
     },
     "execution_count": 4,
     "metadata": {},
     "output_type": "execute_result"
    }
   ],
   "source": [
    "df.head()"
   ]
  },
  {
   "cell_type": "markdown",
   "id": "14eb1049",
   "metadata": {},
   "source": [
    "### Missing Imputation"
   ]
  },
  {
   "cell_type": "code",
   "execution_count": 5,
   "id": "5e001304",
   "metadata": {},
   "outputs": [],
   "source": [
    "# CATEGORICAL IMPUTATION\n",
    "# Fill in missing with \"Missing\"\n",
    "\n",
    "df['IMP_REASON'] = df['REASON']    # create IMP_REASON column\n",
    "df['IMP_REASON'] = df['IMP_REASON'].fillna(\"DebtCon\")    # replace missing with \"DebtCon\"\n",
    "\n",
    "df['IMP_JOB'] = df['JOB']    # create IMP_JOB column\n",
    "df['IMP_JOB'] = df['IMP_JOB'].fillna(\"MISSING\")      # replace missing jobs with \"MISSING\"\n",
    "\n",
    "df = df.drop(['REASON', 'JOB'], axis=1)\n",
    "\n",
    "objList.append('IMP_REASON')\n",
    "objList.append('IMP_JOB')\n",
    "objList.remove('REASON')\n",
    "objList.remove( 'JOB')\n",
    "\n",
    "# hot encode/dummies\n",
    "\n",
    "y = pd.get_dummies(df['IMP_REASON'], prefix=\"z_\", drop_first=True)\n",
    "y_2 = pd.get_dummies(df['IMP_JOB'], prefix=\"z_\", dummy_na=False)\n",
    "df = pd.concat([df, y, y_2], axis=1)\n",
    "df = df.drop(['IMP_REASON', 'IMP_JOB'], axis=1)\n",
    "\n",
    "\n",
    "# NUMERICAL IMPUTATION\n",
    "# Create mortdue at 72% of value\n",
    "\n",
    "mort_perc_of_val = 0.72\n",
    "\n",
    "# MORTDUE\n",
    "df['M_MORTDUE'] = df['MORTDUE'].isna() + 0               # creates the missing flag\n",
    "df['IMP_MORTDUE'] = df['MORTDUE']\n",
    "\n",
    "df['IMP_MORTDUE'] = df['IMP_MORTDUE'].fillna(df['VALUE'] * mort_perc_of_val)             # set MORTDUE at 70% VALUE\n",
    "df['IMP_MORTDUE'] = df['IMP_MORTDUE'].fillna(df['IMP_MORTDUE'].median())    # if VALUE null, set MORTDUE to median\n",
    "\n",
    "\n",
    "# VALUE\n",
    "df['M_VALUE'] = df['VALUE'].isna() + 0                   # creates the missing flag\n",
    "df['IMP_VALUE'] = df['VALUE']\n",
    "\n",
    "df['IMP_VALUE'] = df['IMP_VALUE'].fillna(df['MORTDUE'] * mort_perc_of_val)             # set VALUE so MORTDUE is 72% of VALUE\n",
    "df['IMP_VALUE'] = df['IMP_VALUE'].fillna(df['IMP_VALUE'].median())           # if VALUE null, set VALUE to median\n",
    "\n",
    "# drop MORTDUE and VALUE from df and numList\n",
    "df = df.drop(['MORTDUE', 'VALUE'], axis=1)\n",
    "numList.remove('MORTDUE')\n",
    "numList.remove('VALUE')\n",
    "\n",
    "\n",
    "# fill in mode as missing values for Derog, Delinq, and Ninq\n",
    "\n",
    "fill_as_mode = ['DEROG', 'DELINQ', 'NINQ']\n",
    "\n",
    "for i in fill_as_mode :\n",
    "    if df[i].isna().sum() == 0 : continue    # are any values missing? If no, move along\n",
    "    FLAG = \"M_\" + i                          # M_ is  \"I fixed missing and this is it\"\n",
    "    IMP = \"IMP_\" + i                         # IMP_    imputed value\n",
    "    df[ FLAG ] = df[i].isna() + 0              # creates 1/0 missing flag\n",
    "    df[ IMP ] = df[i]\n",
    "    df.loc[ df[IMP].isna(), IMP ] = df[i].mode()[0]        # replaces with mode\n",
    "    df = df.drop(i, axis=1)                                # drop the extra \n",
    "    \n",
    "\n",
    "# fill in median as missing values for Clage, Clino, Debtinc\n",
    "\n",
    "fill_as_median = ['YOJ', 'CLAGE', 'CLNO', 'DEBTINC']\n",
    "\n",
    "for i in fill_as_median :\n",
    "    if df[i].isna().sum() == 0 : continue    # are any values missing? If no, move along\n",
    "    FLAG = \"M_\" + i                          # M_ is  \"I fixed missing and this is it\"\n",
    "    IMP = \"IMP_\" + i                         # IMP_    imputed value\n",
    "    df[ FLAG ] = df[i].isna() + 0              # creates 1/0 missing flag\n",
    "    df[ IMP ] = df[i]\n",
    "    df.loc[ df[IMP].isna(), IMP ] = df[i].median()         # replaces with median\n",
    "    df = df.drop(i, axis=1)                                # drop the extra "
   ]
  },
  {
   "cell_type": "markdown",
   "id": "e909d3dc",
   "metadata": {},
   "source": [
    "### Handling Outliers"
   ]
  },
  {
   "cell_type": "code",
   "execution_count": 6,
   "id": "348d3ed0",
   "metadata": {},
   "outputs": [],
   "source": [
    "# upper and lower bounds from 1.5 * IQR\n",
    "dt = df.dtypes\n",
    "numList = []\n",
    "for i in dt.index:\n",
    "    if i in ( [TARGET_F, TARGET_A ] ) : continue\n",
    "    if dt[i] in ([\"float64\", \"int64\"]) : numList.append( i )\n",
    "        \n",
    "for i in numList :\n",
    "    theMean = df[i].mean()\n",
    "    theSD = df[i].std()\n",
    "    theMax = df[i].max()\n",
    "    theMin = df[i].min()\n",
    "    Q1 = df[i].quantile(0.25)\n",
    "    Q3 = df[i].quantile(0.75)\n",
    "    IQR = Q3 - Q1\n",
    "    S = 1.5 * IQR\n",
    "    LB = Q1 - S\n",
    "    UB = Q3 + S\n",
    "    if (theMax <= UB) & (theMin >= LB) : continue\n",
    "    FLAG = \"O_\" + i\n",
    "    TRUNC = \"TRUNC_\" + i\n",
    "    df[ FLAG ] = (( df[i] > UB ) | ( df[i] < LB ) ) + 0\n",
    "    df[ TRUNC ] = df[ i ]\n",
    "    df.loc[ df[TRUNC] > UB, TRUNC ] = UB\n",
    "    df.loc[ df[TRUNC] < LB, TRUNC ] = LB\n",
    "    df = df.drop( i, axis=1 )\n"
   ]
  },
  {
   "cell_type": "code",
   "execution_count": 7,
   "id": "f1f81949",
   "metadata": {},
   "outputs": [],
   "source": [
    "X = df.copy()\n",
    "X = X.drop( TARGET_F, axis=1)\n",
    "X = X.drop( TARGET_A, axis=1)\n",
    "\n",
    "Y = df[ [TARGET_F, TARGET_A]]\n",
    "\n",
    "X_train, X_test, Y_train, Y_test = train_test_split(X, Y, train_size = 0.8, test_size = 0.2, random_state=1)\n",
    "\n",
    "F = ~ Y_train[ TARGET_A ].isna()\n",
    "W_train = X_train[F].copy()\n",
    "Z_train = Y_train[F].copy()\n",
    "\n",
    "F = ~ Y_test[ TARGET_A ].isna()\n",
    "W_test = X_test[F].copy()\n",
    "Z_test = Y_test[F].copy()"
   ]
  },
  {
   "cell_type": "markdown",
   "id": "27747e39",
   "metadata": {},
   "source": [
    "### Formulas"
   ]
  },
  {
   "cell_type": "code",
   "execution_count": 8,
   "id": "bac0e148",
   "metadata": {},
   "outputs": [],
   "source": [
    "# equation for decision tree variable selection\n",
    "def getTreeVars( TREE, varNames ) :\n",
    "    tree_ = TREE.tree_\n",
    "    varName = [ varNames[i] if i != _tree.TREE_UNDEFINED else \"undefined!\" for i in tree_.feature ]\n",
    "\n",
    "    nameSet = set()\n",
    "    for i in tree_.feature :\n",
    "        if i != _tree.TREE_UNDEFINED :\n",
    "            nameSet.add( i )\n",
    "    nameList = list( nameSet )\n",
    "    parameter_list = list()\n",
    "    for i in nameList :\n",
    "        parameter_list.append( varNames[i] )\n",
    "    return parameter_list\n",
    "\n",
    "# equation for random forest variable selection\n",
    "def getEnsembleTreeVars( ENSTREE, varNames ) :\n",
    "    importance = ENSTREE.feature_importances_\n",
    "    index = np.argsort(importance)\n",
    "    theList = []\n",
    "    for i in index :\n",
    "        imp_val = importance[i]\n",
    "        if imp_val > np.average( ENSTREE.feature_importances_ ) :\n",
    "            v = int( imp_val / np.max( ENSTREE.feature_importances_ ) * 100 )\n",
    "            theList.append( ( varNames[i], v ) )\n",
    "    theList = sorted(theList,key=itemgetter(1),reverse=True)\n",
    "    return theList\n",
    "\n",
    "# MODEL ACCURACY ------------------------------------------------------------------------------------------\n",
    "# model acc_score/fpr/tpr/auc\n",
    "def getProbAccuracyScores( NAME, MODEL, X, Y ):     # name a list, provide model, X input vars, y target var\n",
    "    pred = MODEL.predict( X )                   # given the model and X, what are the predictions for y  [1/0]\n",
    "    probs = MODEL.predict_proba( X )            # given the model and X, probabilities of y classification [%]\n",
    "    acc_score = metrics.accuracy_score( Y, pred )  # how accurate were predictions compared to actual [[n%, y%]]\n",
    "    p1 = probs[:, 1]                               # probability yes %\n",
    "    fpr, tpr, threshold = metrics.roc_curve( Y, p1 )  \n",
    "    auc = metrics.auc( fpr, tpr )                    \n",
    "    return [NAME, acc_score, fpr, tpr, auc]     # send list \n",
    "\n",
    "# ROC Curve \n",
    "def print_ROC_Curve( TITLE, LIST ):               # give ROC a title and list of things to print\n",
    "    fig = plt.figure( figsize = (6,4) )\n",
    "    plt.title( TITLE )\n",
    "    for theResults in LIST:\n",
    "        NAME = theResults[0]\n",
    "        fpr = theResults[2]\n",
    "        tpr = theResults[3]\n",
    "        auc = theResults[4]\n",
    "        theLabel = \"AUC \" + NAME + ' %0.2f' % auc\n",
    "        plt.plot(fpr, tpr, label = theLabel)\n",
    "    plt.legend(loc = 'lower right')\n",
    "    plt.plot([0,1], [0,1], 'r--')\n",
    "    plt.xlim([0,1])\n",
    "    plt.ylim([0,1])\n",
    "    plt.ylabel('True Positive Rate')\n",
    "    plt.xlabel('False Positive Rate')\n",
    "    plt.show()\n",
    "    \n",
    "# model accuracy\n",
    "def print_Accuracy( TITLE, LIST ):       # take a title, give a list, output is the accuracy\n",
    "    print( TITLE )\n",
    "    print( \"=======\")\n",
    "    for theResults in LIST:\n",
    "        NAME = theResults[0]\n",
    "        ACC = theResults[1]\n",
    "        print( NAME, \" = \", ACC )\n",
    "    print( \"-------\\n\\n\" )\n",
    "\n",
    "\n",
    "# model amt accuracy\n",
    "def getAmtAccuracyScores( NAME, MODEL, X, Y ):   #  take a title, given the model, x w/o missing (W), y w/o missing (Z); get RMSE and mean\n",
    "    pred = MODEL.predict( X )\n",
    "    MEAN = Y.mean()\n",
    "    RMSE = math.sqrt( metrics.mean_squared_error( Y, pred))\n",
    "    return [NAME, RMSE, MEAN]\n",
    "\n",
    "\n",
    "## REGRESSION --------------------------------------------------------------------------------------------\n",
    "#  Logistic Regression\n",
    "def getCoefLogit( MODEL, TRAIN_DATA ):                   # send a model into this function, give coefficients for all variables\n",
    "    varNames = list( TRAIN_DATA.columns.values )\n",
    "    coef_dict = {}\n",
    "    coef_dict[\"INTERCEPT\"] = MODEL.intercept_[0]\n",
    "    for coef, feat in zip(MODEL.coef_[0], varNames):\n",
    "        coef_dict[feat] = coef\n",
    "    print(\"\\nLOAN DEFAULT\")\n",
    "    print(\"---------\")\n",
    "    print(\"Total Variables: \", len( coef_dict ) )\n",
    "    for i in coef_dict :\n",
    "        print( i, \" = \", coef_dict[i] )\n",
    "        \n",
    "# Linear Regression                                      # send a model into this function, give coefficients for all variables\n",
    "def getCoefLinear( MODEL, TRAIN_DATA ):\n",
    "    varNames = list( TRAIN_DATA.columns.values )\n",
    "    coef_dict = {}\n",
    "    coef_dict[\"INTERCEPT\"] = MODEL.intercept_\n",
    "    for coef, feat in zip(MODEL.coef_, varNames):\n",
    "        coef_dict[feat] = coef\n",
    "    print(\"\\nLOAN DEFAULT LOSSES\")\n",
    "    print(\"---------\")\n",
    "    print(\"Total Variables: \", len( coef_dict ))\n",
    "    for i in coef_dict :\n",
    "        print( i, \" = \", coef_dict[i] )\n",
    "# ---------------------------------------------------------------------------------------------------      \n",
    "    "
   ]
  },
  {
   "cell_type": "markdown",
   "id": "86a4a741",
   "metadata": {},
   "source": [
    "# Logistic Regression  -  Probability of a Loan Default\n",
    "### Log Regression All Variables"
   ]
  },
  {
   "cell_type": "code",
   "execution_count": 9,
   "id": "f30c9965",
   "metadata": {},
   "outputs": [
    {
     "data": {
      "image/png": "[encoded data removed]",
      "text/plain": [
       "<Figure size 432x288 with 1 Axes>"
      ]
     },
     "metadata": {},
     "output_type": "display_data"
    },
    {
     "name": "stdout",
     "output_type": "stream",
     "text": [
      "REG_ALL CLASSIFICATION ACCURACY\n",
      "=======\n",
      "REG_ALL_Train  =  0.8949244966442953\n",
      "REG_ALL  =  0.8951342281879194\n",
      "-------\n",
      "\n",
      "\n"
     ]
    }
   ],
   "source": [
    "WHO = \"REG_ALL\"\n",
    "\n",
    "CLM = LogisticRegression( solver = 'newton-cg', max_iter = 1000)\n",
    "CLM = CLM.fit( X_train, Y_train[ TARGET_F ] )\n",
    "\n",
    "TRAIN_CLM = getProbAccuracyScores( WHO + \"_Train\", CLM, X_train, Y_train[ TARGET_F ] )\n",
    "TEST_CLM = getProbAccuracyScores( WHO, CLM, X_test, Y_test[ TARGET_F ] )\n",
    "\n",
    "print_ROC_Curve( WHO, [ TRAIN_CLM, TEST_CLM ] )\n",
    "print_Accuracy( WHO + \" CLASSIFICATION ACCURACY\", [ TRAIN_CLM, TEST_CLM ] )\n",
    "\n",
    "REG_ALL_CLM = TEST_CLM.copy()"
   ]
  },
  {
   "cell_type": "markdown",
   "id": "508f23d7",
   "metadata": {},
   "source": [
    "### Log Regression Decision Tree"
   ]
  },
  {
   "cell_type": "code",
   "execution_count": 10,
   "id": "66482517",
   "metadata": {},
   "outputs": [],
   "source": [
    "# Decision Tree\n",
    "WHO = \"TREE\"\n",
    "\n",
    "CLM = tree.DecisionTreeClassifier( max_depth = 4 , random_state = 1)\n",
    "CLM = CLM.fit( X_train, Y_train[ TARGET_F ] )\n",
    "\n",
    "feature_cols = list(X.columns.values)\n",
    "vars_tree_flag = getTreeVars(CLM, feature_cols)"
   ]
  },
  {
   "cell_type": "code",
   "execution_count": 11,
   "id": "81f4f942",
   "metadata": {},
   "outputs": [
    {
     "data": {
      "image/png": "[encoded data removed]",
      "text/plain": [
       "<Figure size 432x288 with 1 Axes>"
      ]
     },
     "metadata": {},
     "output_type": "display_data"
    },
    {
     "name": "stdout",
     "output_type": "stream",
     "text": [
      "REG_TREE CLASSIFICATION ACCURACY\n",
      "=======\n",
      "REG_TREE_Train  =  0.8779362416107382\n",
      "REG_TREE  =  0.8842281879194631\n",
      "-------\n",
      "\n",
      "\n",
      "\n",
      "LOAN DEFAULT\n",
      "---------\n",
      "Total Variables:  11\n",
      "INTERCEPT  =  -5.496504277642648\n",
      "TRUNC_IMP_CLAGE  =  -0.006408870679868532\n",
      "TRUNC_IMP_DEBTINC  =  0.1195958220830562\n",
      "M_VALUE  =  3.8418726562961676\n",
      "M_DEROG  =  -0.9030092603543634\n",
      "M_YOJ  =  -0.40415570440221765\n",
      "M_DEBTINC  =  2.7723504922337274\n",
      "TRUNC_LOAN  =  -5.899533198995598e-06\n",
      "TRUNC_IMP_MORTDUE  =  -1.8118375072700154e-06\n",
      "O_IMP_DELINQ  =  1.4376676908434876\n",
      "TRUNC_IMP_YOJ  =  -0.018202577883599847\n"
     ]
    }
   ],
   "source": [
    "# Decision Tree Logistic Regression Model\n",
    "WHO = \"REG_TREE\"\n",
    "\n",
    "CLM = LogisticRegression( solver='newton-cg', max_iter=1000)\n",
    "CLM.fit( X_train[vars_tree_flag], Y_train[ TARGET_F ] )\n",
    "\n",
    "TRAIN_CLM = getProbAccuracyScores( WHO + \"_Train\", CLM, X_train[vars_tree_flag], Y_train[ TARGET_F ] )\n",
    "TEST_CLM = getProbAccuracyScores( WHO, CLM, X_test[vars_tree_flag], Y_test[ TARGET_F ])\n",
    "\n",
    "print_ROC_Curve( WHO, [TRAIN_CLM, TEST_CLM ] )\n",
    "print_Accuracy( WHO + \" CLASSIFICATION ACCURACY\", [ TRAIN_CLM, TEST_CLM ] )\n",
    "\n",
    "REG_TREE_CLM = TEST_CLM.copy()\n",
    "\n",
    "REG_TREE_CLM_COEF = getCoefLogit(CLM, X_train[vars_tree_flag])\n"
   ]
  },
  {
   "cell_type": "markdown",
   "id": "b521c695",
   "metadata": {},
   "source": [
    "### Log Regression Random Forest"
   ]
  },
  {
   "cell_type": "code",
   "execution_count": 12,
   "id": "d6719313",
   "metadata": {},
   "outputs": [],
   "source": [
    "# Random Forest parameters and model\n",
    "rf = RandomForestClassifier(n_jobs = - 1, random_state=1)\n",
    "params = {\n",
    "    'n_estimators': [5, 50, 100, 250],\n",
    "    'max_depth': [2, 4, 8, 16, 32, None]\n",
    "}\n",
    "\n",
    "CLM = GridSearchCV(estimator = rf, param_grid = params, cv=5)\n",
    "CLM.fit(X_train, Y_train[ TARGET_F ])\n",
    "\n",
    "CLM = CLM.best_estimator_\n",
    "\n",
    "feature_cols = list( X.columns.values )\n",
    "vars_RF_flag = getEnsembleTreeVars( CLM, feature_cols)"
   ]
  },
  {
   "cell_type": "code",
   "execution_count": 13,
   "id": "73abe38d",
   "metadata": {},
   "outputs": [
    {
     "data": {
      "image/png": "[encoded data removed]",
      "text/plain": [
       "<Figure size 432x288 with 1 Axes>"
      ]
     },
     "metadata": {},
     "output_type": "display_data"
    },
    {
     "name": "stdout",
     "output_type": "stream",
     "text": [
      "REG_RF CLASSIFICATION ACCURACY\n",
      "=======\n",
      "REG_RF_Train  =  0.8743708053691275\n",
      "REG_RF  =  0.8691275167785235\n",
      "-------\n",
      "\n",
      "\n",
      "\n",
      "LOAN DEFAULT\n",
      "---------\n",
      "Total Variables:  12\n",
      "INTERCEPT  =  -5.3412233193786705\n",
      "M_DEBTINC  =  2.761918949762073\n",
      "TRUNC_IMP_DEBTINC  =  0.10994686241939265\n",
      "TRUNC_IMP_CLAGE  =  -0.0058017132471112915\n",
      "TRUNC_LOAN  =  -2.3788346922361393e-06\n",
      "TRUNC_IMP_VALUE  =  -4.8951863241696515e-06\n",
      "TRUNC_IMP_MORTDUE  =  5.212077933545603e-06\n",
      "TRUNC_IMP_CLNO  =  -0.018746580418309677\n",
      "TRUNC_IMP_YOJ  =  -0.008852986231003288\n",
      "O_IMP_DELINQ  =  1.3413413390963045\n",
      "TRUNC_IMP_NINQ  =  0.10789745641013053\n",
      "O_IMP_DEROG  =  1.1063305596192978\n"
     ]
    }
   ],
   "source": [
    "# Random Forest Logistic Regression Model\n",
    "WHO = \"REG_RF\"\n",
    "\n",
    "RF_flag = []\n",
    "for i in vars_RF_flag:\n",
    "    theVar = i[0]\n",
    "    RF_flag.append( theVar )\n",
    "\n",
    "CLM = LogisticRegression( solver='newton-cg', max_iter=1000)\n",
    "CLM.fit( X_train[RF_flag], Y_train[ TARGET_F ] )\n",
    "\n",
    "TRAIN_CLM = getProbAccuracyScores( WHO + \"_Train\", CLM, X_train[RF_flag], Y_train[ TARGET_F ] )\n",
    "TEST_CLM = getProbAccuracyScores( WHO, CLM, X_test[RF_flag], Y_test[ TARGET_F ])\n",
    "\n",
    "print_ROC_Curve( WHO, [TRAIN_CLM, TEST_CLM ] )\n",
    "print_Accuracy( WHO + \" CLASSIFICATION ACCURACY\", [ TRAIN_CLM, TEST_CLM ] )\n",
    "\n",
    "RF_CLM = TEST_CLM.copy()\n",
    "\n",
    "REG_RF_CLM_COEF = getCoefLogit( CLM, X_train[RF_flag] )"
   ]
  },
  {
   "cell_type": "markdown",
   "id": "a5b60c21",
   "metadata": {},
   "source": [
    "### Log Regression Gradient Boosting"
   ]
  },
  {
   "cell_type": "code",
   "execution_count": 14,
   "id": "15c8a019",
   "metadata": {},
   "outputs": [],
   "source": [
    "# Gradient Boosting parameters and model\n",
    "gb = GradientBoostingClassifier(random_state=1)\n",
    "params = {\n",
    "    'n_estimators': [5,50,250,500],\n",
    "    'max_depth': [1,3,5,7,9],\n",
    "    'learning_rate': [0.01, 0.1, 1, 10, 100]\n",
    "}\n",
    "\n",
    "CLM = GridSearchCV(estimator = gb, param_grid = params, cv=5)\n",
    "CLM.fit(X_train, Y_train[ TARGET_F ])\n",
    "\n",
    "CLM = CLM.best_estimator_\n",
    "\n",
    "feature_cols = list( X.columns.values )\n",
    "vars_GB_flag = getEnsembleTreeVars( CLM, feature_cols)"
   ]
  },
  {
   "cell_type": "code",
   "execution_count": 15,
   "id": "bd804901",
   "metadata": {},
   "outputs": [
    {
     "data": {
      "image/png": "[encoded data removed]",
      "text/plain": [
       "<Figure size 432x288 with 1 Axes>"
      ]
     },
     "metadata": {},
     "output_type": "display_data"
    },
    {
     "name": "stdout",
     "output_type": "stream",
     "text": [
      "REG_GB CLASSIFICATION ACCURACY\n",
      "=======\n",
      "REG_GB_Train  =  0.8712248322147651\n",
      "REG_GB  =  0.8708053691275168\n",
      "-------\n",
      "\n",
      "\n",
      "\n",
      "LOAN DEFAULT\n",
      "---------\n",
      "Total Variables:  11\n",
      "INTERCEPT  =  -5.165701180746141\n",
      "M_DEBTINC  =  2.785464767757853\n",
      "TRUNC_IMP_DEBTINC  =  0.10801921827460281\n",
      "TRUNC_IMP_CLAGE  =  -0.005956789108412114\n",
      "TRUNC_IMP_MORTDUE  =  4.460957563948973e-06\n",
      "TRUNC_LOAN  =  -3.297684190284758e-07\n",
      "TRUNC_IMP_VALUE  =  -4.72007979428013e-06\n",
      "O_IMP_DELINQ  =  1.464925803265794\n",
      "TRUNC_IMP_CLNO  =  -0.017304891778489057\n",
      "TRUNC_IMP_YOJ  =  -0.011782692721964857\n",
      "TRUNC_IMP_NINQ  =  0.1490717879902143\n"
     ]
    }
   ],
   "source": [
    "# Gradient Boosting Logistic Regression Model\n",
    "WHO = \"REG_GB\"\n",
    "\n",
    "GB_flag = []\n",
    "for i in vars_GB_flag:\n",
    "    theVar = i[0]\n",
    "    GB_flag.append( theVar )\n",
    "\n",
    "CLM = LogisticRegression( solver='newton-cg', max_iter=1000)\n",
    "CLM.fit( X_train[GB_flag], Y_train[ TARGET_F ] )\n",
    "\n",
    "TRAIN_CLM = getProbAccuracyScores( WHO + \"_Train\", CLM, X_train[GB_flag], Y_train[ TARGET_F ] )\n",
    "TEST_CLM = getProbAccuracyScores( WHO, CLM, X_test[GB_flag], Y_test[ TARGET_F ])\n",
    "\n",
    "print_ROC_Curve( WHO, [TRAIN_CLM, TEST_CLM ] )\n",
    "print_Accuracy( WHO + \" CLASSIFICATION ACCURACY\", [ TRAIN_CLM, TEST_CLM ] )\n",
    "\n",
    "GB_CLM = TEST_CLM.copy()\n",
    "\n",
    "REG_GB_CLM_COEF = getCoefLogit( CLM, X_train[GB_flag] )"
   ]
  },
  {
   "cell_type": "markdown",
   "id": "d6652b13",
   "metadata": {},
   "source": [
    "### Log Regression Stepwise Selection"
   ]
  },
  {
   "cell_type": "code",
   "execution_count": 16,
   "id": "b55ff6cf",
   "metadata": {},
   "outputs": [
    {
     "data": {
      "image/png": "[encoded data removed]",
      "text/plain": [
       "<Figure size 432x288 with 1 Axes>"
      ]
     },
     "metadata": {},
     "output_type": "display_data"
    },
    {
     "name": "stdout",
     "output_type": "stream",
     "text": [
      " ....... \n",
      "argmax\n",
      "feature_names    (0, 1, 2, 3, 5, 7, 8)\n",
      "avg_score                     0.878146\n",
      "Name: 7, dtype: object\n",
      " ......... \n"
     ]
    }
   ],
   "source": [
    "# use Decision Tree vars to use stepwise logistic regression \n",
    "U_train = X_train[ vars_tree_flag ]\n",
    "stepVarNames = list( U_train.columns.values )\n",
    "maxCols = U_train.shape[1]\n",
    "\n",
    "# this model will be quite slow ; can be too long if many variables\n",
    "sfs = SFS( LogisticRegression( solver='newton-cg', max_iter=100 ),      # logistic slower than linear here\n",
    "         k_features=( 1, maxCols ),\n",
    "         forward=True,\n",
    "         floating=False,\n",
    "         cv=3)\n",
    "sfs.fit(U_train.values, Y_train[ TARGET_F ].values)\n",
    "\n",
    "theFigure = plot_sfs(sfs.get_metric_dict(), kind=None)     # visualize selected feature subset performances\n",
    "plt.title('LOAN DEFAULT PROBABILITY Sequential Forward Selection (w. StdErr)')\n",
    "plt.grid()\n",
    "plt.show()\n",
    "\n",
    "dfm = pd.DataFrame.from_dict( sfs.get_metric_dict()).T\n",
    "dfm = dfm[ ['feature_names', 'avg_score'] ]\n",
    "dfm.avg_score = dfm.avg_score.astype(float)\n",
    "\n",
    "print(\" ....... \")\n",
    "maxIndex = dfm.avg_score.argmax()\n",
    "print(\"argmax\")\n",
    "print( dfm.iloc[ maxIndex, ] )\n",
    "print(\" ......... \")"
   ]
  },
  {
   "cell_type": "code",
   "execution_count": 17,
   "id": "54370e87",
   "metadata": {},
   "outputs": [
    {
     "name": "stdout",
     "output_type": "stream",
     "text": [
      "('0', '1', '2', '3', '5', '7', '8')\n",
      "TRUNC_IMP_CLAGE\n",
      "TRUNC_IMP_DEBTINC\n",
      "M_VALUE\n",
      "M_DEROG\n",
      "M_DEBTINC\n",
      "TRUNC_IMP_MORTDUE\n",
      "O_IMP_DELINQ\n"
     ]
    }
   ],
   "source": [
    "# identify stepwise features and match to X_train column names \n",
    "stepVars = dfm.iloc[ maxIndex, ]\n",
    "stepVars = stepVars.feature_names\n",
    "print( stepVars )\n",
    "\n",
    "finalStepVars = []\n",
    "for i in stepVars :\n",
    "    index = int(i)\n",
    "    try:\n",
    "        theName = stepVarNames[ index ]\n",
    "        finalStepVars.append( theName )\n",
    "    except :\n",
    "        pass\n",
    "    \n",
    "for i in finalStepVars :\n",
    "    print(i)\n",
    "    \n",
    "U_train = X_train[ finalStepVars ]\n",
    "U_test = X_test[ finalStepVars ]"
   ]
  },
  {
   "cell_type": "code",
   "execution_count": 18,
   "id": "39634519",
   "metadata": {},
   "outputs": [
    {
     "data": {
      "image/png": "[encoded data removed]",
      "text/plain": [
       "<Figure size 432x288 with 1 Axes>"
      ]
     },
     "metadata": {},
     "output_type": "display_data"
    },
    {
     "name": "stdout",
     "output_type": "stream",
     "text": [
      "REG_STEPWISE CLASSIFICATION ACCURACY\n",
      "=======\n",
      "REG_STEPWISE_Train  =  0.8779362416107382\n",
      "REG_STEPWISE  =  0.8791946308724832\n",
      "-------\n",
      "\n",
      "\n",
      "\n",
      "LOAN DEFAULT\n",
      "---------\n",
      "Total Variables:  8\n",
      "INTERCEPT  =  -5.701313708939491\n",
      "TRUNC_IMP_CLAGE  =  -0.006861698071108672\n",
      "TRUNC_IMP_DEBTINC  =  0.11922310556620057\n",
      "M_VALUE  =  3.7590419247523887\n",
      "M_DEROG  =  -0.938136547946134\n",
      "M_DEBTINC  =  2.7809451974828416\n",
      "TRUNC_IMP_MORTDUE  =  -1.6163107031889748e-06\n",
      "O_IMP_DELINQ  =  1.4401782964104486\n"
     ]
    }
   ],
   "source": [
    "# Stepwise Logistic Regression Model\n",
    "WHO = \"REG_STEPWISE\"\n",
    "\n",
    "CLM = LogisticRegression( solver='newton-cg', max_iter=1000)\n",
    "CLM.fit( U_train, Y_train[ TARGET_F ] ) \n",
    "\n",
    "TRAIN_CLM = getProbAccuracyScores( WHO + \"_Train\", CLM, U_train, Y_train[ TARGET_F ] )\n",
    "TEST_CLM = getProbAccuracyScores( WHO, CLM, U_test, Y_test[ TARGET_F ])\n",
    "\n",
    "print_ROC_Curve( WHO, [TRAIN_CLM, TEST_CLM ] )\n",
    "print_Accuracy( WHO + \" CLASSIFICATION ACCURACY\", [ TRAIN_CLM, TEST_CLM ] )\n",
    "\n",
    "REG_STEP_CLM = TEST_CLM.copy()\n",
    "\n",
    "REG_STEP_CLM_COEF = getCoefLogit(CLM, U_train)"
   ]
  },
  {
   "cell_type": "markdown",
   "id": "24f263f3",
   "metadata": {},
   "source": [
    "# Linear Regression  -  Expected Loss if Loan Defaults\n",
    "### Lin Regression All Variables"
   ]
  },
  {
   "cell_type": "code",
   "execution_count": 19,
   "id": "e2d18e41",
   "metadata": {},
   "outputs": [
    {
     "name": "stdout",
     "output_type": "stream",
     "text": [
      "REG_ALL RMSE ACCURACY\n",
      "=======\n",
      "REG_ALL_Train  =  4102.419911141471\n",
      "REG_ALL  =  5126.255591010369\n",
      "-------\n",
      "\n",
      "\n"
     ]
    }
   ],
   "source": [
    "# Linear Regression for all variables\n",
    "WHO = \"REG_ALL\"\n",
    "\n",
    "AMT = LinearRegression()\n",
    "AMT = AMT.fit( W_train, Z_train[ TARGET_A ] )\n",
    "\n",
    "TRAIN_AMT = getAmtAccuracyScores( WHO + \"_Train\", AMT, W_train, Z_train[ TARGET_A ] )\n",
    "TEST_AMT = getAmtAccuracyScores( WHO, AMT, W_test, Z_test[ TARGET_A ])\n",
    "print_Accuracy( WHO + \" RMSE ACCURACY\", [ TRAIN_AMT, TEST_AMT ] )\n",
    "\n",
    "varNames = list( X_train.columns.values )\n",
    "\n",
    "REG_ALL_AMT = TEST_AMT.copy() "
   ]
  },
  {
   "cell_type": "markdown",
   "id": "880f58e5",
   "metadata": {},
   "source": [
    "### Lin Regression Decision Tree"
   ]
  },
  {
   "cell_type": "code",
   "execution_count": 20,
   "id": "c71d556e",
   "metadata": {},
   "outputs": [],
   "source": [
    "# Decision Tree\n",
    "AMT = tree.DecisionTreeRegressor( max_depth = 4 )\n",
    "AMT = AMT.fit( W_train, Z_train[ TARGET_A ] )\n",
    "\n",
    "feature_cols = list( X.columns.values )\n",
    "vars_tree_amt = getTreeVars( AMT, feature_cols )"
   ]
  },
  {
   "cell_type": "code",
   "execution_count": 21,
   "id": "abc3bead",
   "metadata": {},
   "outputs": [
    {
     "name": "stdout",
     "output_type": "stream",
     "text": [
      "REG_TREERMSE ACCURACY\n",
      "=======\n",
      "REG_TREE_Train  =  4487.609532509109\n",
      "REG_TREE  =  5549.9974700704415\n",
      "-------\n",
      "\n",
      "\n",
      "\n",
      "LOAN DEFAULT LOSSES\n",
      "---------\n",
      "Total Variables:  7\n",
      "INTERCEPT  =  -15329.27360169499\n",
      "TRUNC_IMP_CLAGE  =  -27.64151855938746\n",
      "TRUNC_IMP_CLNO  =  310.197703413714\n",
      "TRUNC_IMP_DEBTINC  =  238.51331009217762\n",
      "M_DEBTINC  =  5852.103993964187\n",
      "TRUNC_LOAN  =  0.8551017497630761\n",
      "TRUNC_IMP_MORTDUE  =  -0.0005952937468768153\n"
     ]
    }
   ],
   "source": [
    "# Decision Tree Linear Regression Model\n",
    "WHO = \"REG_TREE\"\n",
    "\n",
    "AMT = LinearRegression()\n",
    "AMT = AMT.fit( W_train[ vars_tree_amt], Z_train[ TARGET_A ] )\n",
    "\n",
    "TRAIN_AMT = getAmtAccuracyScores( WHO + \"_Train\", AMT, W_train[ vars_tree_amt ], Z_train[ TARGET_A ])\n",
    "TEST_AMT = getAmtAccuracyScores( WHO, AMT, W_test[ vars_tree_amt ], Z_test[ TARGET_A ] )\n",
    "print_Accuracy(WHO + \"RMSE ACCURACY\", [ TRAIN_AMT, TEST_AMT ] )\n",
    "\n",
    "varNames = list( X_train.columns.values )\n",
    "\n",
    "REG_TREE_AMT = TEST_AMT.copy()\n",
    "\n",
    "REG_TREE_AMT_COEF = getCoefLinear( AMT, X_train[vars_tree_amt])"
   ]
  },
  {
   "cell_type": "markdown",
   "id": "7fe7f54e",
   "metadata": {},
   "source": [
    "### Lin Regression Random Forest"
   ]
  },
  {
   "cell_type": "code",
   "execution_count": 22,
   "id": "66e4098a",
   "metadata": {},
   "outputs": [],
   "source": [
    "# Random Forest parameters and model\n",
    "rf = RandomForestRegressor(n_jobs = - 1, random_state=1)\n",
    "params = {\n",
    "    'n_estimators': [5, 50, 100, 250],\n",
    "    'max_depth': [2, 4, 8, 16, 32, None]\n",
    "}\n",
    "\n",
    "AMT = GridSearchCV(estimator = rf, param_grid = params, cv=5)\n",
    "AMT.fit(W_train, Z_train[ TARGET_A ])\n",
    "\n",
    "AMT = AMT.best_estimator_\n",
    "\n",
    "feature_cols = list( X.columns.values )\n",
    "vars_RF_amt = getEnsembleTreeVars( AMT, feature_cols)"
   ]
  },
  {
   "cell_type": "code",
   "execution_count": 23,
   "id": "1dee5f31",
   "metadata": {},
   "outputs": [
    {
     "name": "stdout",
     "output_type": "stream",
     "text": [
      "REG_RFRMSE ACCURACY\n",
      "=======\n",
      "REG_RF_Train  =  4487.6548826891585\n",
      "REG_RF  =  5552.909665005261\n",
      "-------\n",
      "\n",
      "\n",
      "\n",
      "LOAN DEFAULT LOSSES\n",
      "---------\n",
      "Total Variables:  6\n",
      "INTERCEPT  =  -15336.700904766552\n",
      "TRUNC_LOAN  =  0.8543255659686454\n",
      "TRUNC_IMP_CLNO  =  309.7041931058464\n",
      "TRUNC_IMP_DEBTINC  =  238.26328557932516\n",
      "TRUNC_IMP_CLAGE  =  -27.64150119657678\n",
      "M_DEBTINC  =  5853.313048878967\n"
     ]
    }
   ],
   "source": [
    "# Random Forest Linear Regression Model\n",
    "WHO = \"REG_RF\"\n",
    "\n",
    "RF_amt = []\n",
    "for i in vars_RF_amt :\n",
    "    theVar = i[0]\n",
    "    RF_amt.append( theVar )\n",
    "\n",
    "\n",
    "AMT = LinearRegression()\n",
    "AMT = AMT.fit( W_train[RF_amt], Z_train[ TARGET_A ] )\n",
    "\n",
    "TRAIN_AMT = getAmtAccuracyScores( WHO + \"_Train\", AMT, W_train[ RF_amt ], Z_train[ TARGET_A ])\n",
    "TEST_AMT = getAmtAccuracyScores( WHO, AMT, W_test[ RF_amt ], Z_test[ TARGET_A ] )\n",
    "print_Accuracy(WHO + \"RMSE ACCURACY\", [ TRAIN_AMT, TEST_AMT ] )\n",
    "\n",
    "RF_AMT = TEST_AMT.copy()\n",
    "\n",
    "REG_RF_AMT_COEF = getCoefLinear( AMT, X_train[RF_amt] )"
   ]
  },
  {
   "cell_type": "markdown",
   "id": "c7b5e372",
   "metadata": {},
   "source": [
    "### Lin Regression Gradient Boosting"
   ]
  },
  {
   "cell_type": "code",
   "execution_count": 24,
   "id": "95ea3bb2",
   "metadata": {},
   "outputs": [],
   "source": [
    "# Gradient Boosting parameters and model\n",
    "gb = GradientBoostingRegressor(random_state=1)\n",
    "params = {\n",
    "    'n_estimators': [5,50,250,500],\n",
    "    'max_depth': [1,3,5,7,9],\n",
    "    'learning_rate': [0.01, 0.1, 1, 10, 100]\n",
    "}\n",
    "\n",
    "AMT = GridSearchCV(estimator = gb, param_grid = params, cv=5)\n",
    "AMT.fit(W_train, Z_train[ TARGET_A ])\n",
    "\n",
    "AMT = AMT.best_estimator_\n",
    "\n",
    "feature_cols = list( X.columns.values )\n",
    "vars_GB_amt = getEnsembleTreeVars( AMT, feature_cols)"
   ]
  },
  {
   "cell_type": "code",
   "execution_count": 25,
   "id": "d332ad89",
   "metadata": {},
   "outputs": [
    {
     "name": "stdout",
     "output_type": "stream",
     "text": [
      "REG_GB RMSE ACCURACY\n",
      "=======\n",
      "REG_GB_Train  =  4487.654882689158\n",
      "REG_GB  =  5552.909665005261\n",
      "-------\n",
      "\n",
      "\n",
      "\n",
      "LOAN DEFAULT LOSSES\n",
      "---------\n",
      "Total Variables:  6\n",
      "INTERCEPT  =  -15336.700904766523\n",
      "TRUNC_LOAN  =  0.8543255659686454\n",
      "TRUNC_IMP_CLNO  =  309.7041931058467\n",
      "TRUNC_IMP_CLAGE  =  -27.64150119657686\n",
      "M_DEBTINC  =  5853.313048878969\n",
      "TRUNC_IMP_DEBTINC  =  238.26328557932453\n"
     ]
    }
   ],
   "source": [
    "# Gradient Boosting Linear Regression Model\n",
    "WHO = \"REG_GB\"\n",
    "\n",
    "GB_amt = []\n",
    "for i in vars_GB_amt:\n",
    "    theVar = i[0]\n",
    "    GB_amt.append( theVar )\n",
    "\n",
    "AMT = LinearRegression()\n",
    "AMT = AMT.fit( W_train[GB_amt], Z_train[ TARGET_A ] )\n",
    "\n",
    "TRAIN_AMT = getAmtAccuracyScores( WHO + \"_Train\", AMT, W_train[GB_amt], Z_train[ TARGET_A ] )\n",
    "TEST_AMT = getAmtAccuracyScores( WHO, AMT, W_test[GB_amt], Z_test[ TARGET_A ])\n",
    "print_Accuracy( WHO + \" RMSE ACCURACY\", [ TRAIN_AMT, TEST_AMT ] )\n",
    "\n",
    "GB_AMT = TEST_AMT.copy()\n",
    "\n",
    "REG_GB_AMT_COEF = getCoefLinear( AMT, X_train[GB_amt] )"
   ]
  },
  {
   "cell_type": "markdown",
   "id": "3558d31a",
   "metadata": {},
   "source": [
    "### Lin Regression Stepwise Selection"
   ]
  },
  {
   "cell_type": "code",
   "execution_count": 26,
   "id": "32f7fbe9",
   "metadata": {},
   "outputs": [
    {
     "data": {
      "image/png": "[encoded data removed]",
      "text/plain": [
       "<Figure size 432x288 with 1 Axes>"
      ]
     },
     "metadata": {},
     "output_type": "display_data"
    },
    {
     "name": "stdout",
     "output_type": "stream",
     "text": [
      " ................... \n",
      "argmax\n",
      "feature_names    (0, 1, 2, 3, 4)\n",
      "avg_score               0.810663\n",
      "Name: 5, dtype: object\n",
      " ................... \n",
      "('0', '1', '2', '3', '4')\n",
      "TRUNC_LOAN\n",
      "TRUNC_IMP_CLNO\n",
      "TRUNC_IMP_CLAGE\n",
      "M_DEBTINC\n",
      "TRUNC_IMP_DEBTINC\n"
     ]
    }
   ],
   "source": [
    "# Stepwise Selection\n",
    "V_train = W_train[ GB_amt ]\n",
    "stepVarNames = list( V_train.columns.values )\n",
    "maxCols = V_train.shape[1]\n",
    "\n",
    "sfs = SFS( LinearRegression(),\n",
    "         k_features=(1, maxCols ),\n",
    "         forward = True,\n",
    "         floating = False,\n",
    "         scoring = 'r2',\n",
    "         cv=5\n",
    "         )\n",
    "sfs.fit(V_train.values, Z_train[ TARGET_A ].values)\n",
    "\n",
    "theFigure = plot_sfs(sfs.get_metric_dict(), kind=None)\n",
    "plt.title('DEFAULT AMOUNT Sequential Forward Selection (w. StdErr)')\n",
    "plt.grid()\n",
    "plt.show()\n",
    "\n",
    "dfm = pd.DataFrame.from_dict( sfs.get_metric_dict()).T\n",
    "dfm = dfm[ ['feature_names', 'avg_score'] ]\n",
    "dfm.avg_score = dfm.avg_score.astype(float)\n",
    "\n",
    "print(\" ................... \")\n",
    "maxIndex = dfm.avg_score.argmax()\n",
    "print(\"argmax\")\n",
    "print( dfm.iloc[ maxIndex, ] )\n",
    "print(\" ................... \")\n",
    "\n",
    "stepVars = dfm.iloc[ maxIndex, ]\n",
    "stepVars = stepVars.feature_names\n",
    "print( stepVars )\n",
    "\n",
    "finalStepVars = []\n",
    "for i in stepVars :\n",
    "    index = int(i)\n",
    "    try :\n",
    "        theName = stepVarNames[ index ]\n",
    "        finalStepVars.append( theName )\n",
    "    except :\n",
    "        pass\n",
    "\n",
    "for i in finalStepVars :\n",
    "    print(i)\n",
    "\n",
    "V_train = W_train[ finalStepVars ]\n",
    "V_test = W_test[ finalStepVars ]"
   ]
  },
  {
   "cell_type": "code",
   "execution_count": 27,
   "id": "150a278f",
   "metadata": {},
   "outputs": [
    {
     "name": "stdout",
     "output_type": "stream",
     "text": [
      "REG_STEPWISE RMSE ACCURACY\n",
      "=======\n",
      "REG_STEPWISE_Train  =  4487.654882689158\n",
      "REG_STEPWISE  =  5552.909665005261\n",
      "-------\n",
      "\n",
      "\n",
      "\n",
      "LOAN DEFAULT LOSSES\n",
      "---------\n",
      "Total Variables:  6\n",
      "INTERCEPT  =  -15336.700904766523\n",
      "TRUNC_LOAN  =  0.8543255659686454\n",
      "TRUNC_IMP_CLNO  =  309.7041931058467\n",
      "TRUNC_IMP_CLAGE  =  -27.64150119657686\n",
      "M_DEBTINC  =  5853.313048878969\n",
      "TRUNC_IMP_DEBTINC  =  238.26328557932453\n"
     ]
    }
   ],
   "source": [
    "# Linear Regression Stepwise\n",
    "WHO = \"REG_STEPWISE\"\n",
    "\n",
    "AMT = LinearRegression()\n",
    "AMT = AMT.fit( V_train, Z_train[ TARGET_A])\n",
    "\n",
    "TRAIN_AMT = getAmtAccuracyScores( WHO + \"_Train\", AMT, V_train, Z_train[TARGET_A] )\n",
    "TEST_AMT = getAmtAccuracyScores( WHO, AMT, V_test, Z_test[TARGET_A])\n",
    "print_Accuracy( WHO + \" RMSE ACCURACY\", [TRAIN_AMT, TEST_AMT])\n",
    "\n",
    "REG_STEP_AMT = TEST_AMT.copy()\n",
    "\n",
    "REG_STEP_AMT_COEF = getCoefLinear(AMT, V_train)"
   ]
  },
  {
   "cell_type": "code",
   "execution_count": 28,
   "id": "4ecdce95",
   "metadata": {},
   "outputs": [
    {
     "data": {
      "image/png": "[encoded data removed]",
      "text/plain": [
       "<Figure size 432x288 with 1 Axes>"
      ]
     },
     "metadata": {},
     "output_type": "display_data"
    },
    {
     "name": "stdout",
     "output_type": "stream",
     "text": [
      "ALL CLASSIFICATION ACCURACY\n",
      "=======\n",
      "REG_ALL  =  0.8951342281879194\n",
      "REG_TREE  =  0.8842281879194631\n",
      "REG_STEPWISE  =  0.8791946308724832\n",
      "REG_GB  =  0.8708053691275168\n",
      "REG_RF  =  0.8691275167785235\n",
      "-------\n",
      "\n",
      "\n",
      "ALL LOAN DEFAULT LOSSES MODEL ACCURACY\n",
      "=======\n",
      "REG_ALL  =  5126.255591010369\n",
      "REG_TREE  =  5549.9974700704415\n",
      "REG_RF  =  5552.909665005261\n",
      "REG_GB  =  5552.909665005261\n",
      "REG_STEPWISE  =  5552.909665005261\n",
      "-------\n",
      "\n",
      "\n"
     ]
    }
   ],
   "source": [
    "ALL_CLM = [ REG_ALL_CLM, REG_TREE_CLM, RF_CLM, GB_CLM, REG_STEP_CLM ]\n",
    "\n",
    "ALL_CLM = sorted( ALL_CLM, key = lambda x: x[4], reverse=True )\n",
    "print_ROC_Curve( \"ROC CURVES ALL\", ALL_CLM ) \n",
    "\n",
    "ALL_CLM = sorted( ALL_CLM, key = lambda x: x[1], reverse=True )\n",
    "print_Accuracy( \"ALL CLASSIFICATION ACCURACY\", ALL_CLM )\n",
    "\n",
    "\n",
    "ALL_AMT = [ REG_ALL_AMT, REG_TREE_AMT, RF_AMT, GB_AMT, REG_STEP_AMT ]\n",
    "ALL_AMT = sorted( ALL_AMT, key = lambda x: x[1] )\n",
    "print_Accuracy( \"ALL LOAN DEFAULT LOSSES MODEL ACCURACY\", ALL_AMT )"
   ]
  },
  {
   "cell_type": "markdown",
   "id": "064a0fbb",
   "metadata": {},
   "source": [
    "# Tensor Flow Model - Predict Loan Defaults"
   ]
  },
  {
   "cell_type": "code",
   "execution_count": 29,
   "id": "48644c38",
   "metadata": {},
   "outputs": [
    {
     "data": {
      "text/plain": [
       "MinMaxScaler()"
      ]
     },
     "execution_count": 29,
     "metadata": {},
     "output_type": "execute_result"
    }
   ],
   "source": [
    "import tensorflow as tf\n",
    "\n",
    "from sklearn.preprocessing import MinMaxScaler\n",
    "theScaler = MinMaxScaler()\n",
    "theScaler.fit( X_train )"
   ]
  },
  {
   "cell_type": "code",
   "execution_count": 30,
   "id": "499b904d",
   "metadata": {},
   "outputs": [],
   "source": [
    "def get_TF_ProbAccuracyScores( NAME, MODEL, X, Y ) :\n",
    "    probs = MODEL.predict( X )\n",
    "    pred_list = []\n",
    "    for p in probs :\n",
    "        pred_list.append( np.argmax( p ) )\n",
    "    pred = np.array( pred_list )\n",
    "    acc_score = metrics.accuracy_score(Y, pred)\n",
    "    p1 = probs[:,1]\n",
    "    fpr, tpr, threshold = metrics.roc_curve( Y, p1)\n",
    "    auc = metrics.auc(fpr,tpr)\n",
    "    return [NAME, acc_score, fpr, tpr, auc]"
   ]
  },
  {
   "cell_type": "code",
   "execution_count": 44,
   "id": "4283f8e7",
   "metadata": {},
   "outputs": [],
   "source": [
    "WHO = \"Tensor_FLow\"\n",
    "\n",
    "U_train = theScaler.transform( X_train )        # transforms data so all variables between 0 and 1\n",
    "U_test = theScaler.transform( X_test )\n",
    "\n",
    "U_train = pd.DataFrame( U_train )          # convert to dataframes\n",
    "U_test = pd.DataFrame( U_test )\n",
    "\n",
    "U_train.columns = list( X_train.columns.values )    # convert U dataframe with same column names as X\n",
    "U_test.columns = list( X_train.columns.values )\n",
    "\n",
    "U_train = U_train[ GB_flag ]                        # good to first remove some bad variables\n",
    "U_test = U_test[ GB_flag ]"
   ]
  },
  {
   "cell_type": "code",
   "execution_count": 53,
   "id": "e3f729b8",
   "metadata": {},
   "outputs": [],
   "source": [
    "# F is for Flag Y/N default\n",
    "F_theShapeSize = U_train.shape[1]                             \n",
    "F_theActivation = tf.keras.activations.relu           # activation function\n",
    "F_theLossMetric = tf.keras.losses.SparseCategoricalCrossentropy()      # loss metric\n",
    "F_theOptimizer = tf.keras.optimizers.Adam()                        # optimizer\n",
    "F_theEpochs = 800                                          # number of times going through data\n",
    "\n",
    "F_theUnits = int( 2*F_theShapeSize /3)                    #  how many hidden nodes should I have in my layer? Start 2x number and scale back\n",
    "\n",
    "#F_theUnits = int(7)\n",
    "\n",
    "F_LAYER_01 = tf.keras.layers.Dense( units=F_theUnits, activation=F_theActivation, input_dim=F_theShapeSize )   # create layer\n",
    "F_LAYER_DROP = tf.keras.layers.Dropout( 0.2 )          # drop and 2nd layer (deep learning neural network ; have 2 at most)\n",
    "F_LAYER_02 = tf.keras.layers.Dense( units=F_theUnits, activation=F_theActivation )\n",
    "F_LAYER_OUTPUT = tf.keras.layers.Dense( units=2, activation=tf.keras.activations.softmax )"
   ]
  },
  {
   "cell_type": "markdown",
   "id": "10e07dcb",
   "metadata": {},
   "source": [
    "### Test Activation Functions"
   ]
  },
  {
   "cell_type": "markdown",
   "id": "9baf8cbe",
   "metadata": {},
   "source": [
    "***\n",
    "I tested the activation functions by running the model at 100 epochs, with two hidden layers, and otherwise only changing the activation functions. I choose to go forward with the relu activation function, as it performed the best for both accuracy and area under the curve. If I did not choose the relu function, I would use the next best performing function tanh.\n",
    "\n",
    "Relu: AUC TRAIN = 0.9, AUC TEST = 0.88 ; Accuracy Train = 0.8786, Accuracy Test = 0.8792\n",
    "\n",
    "Softmax: AUC TRAIN = 0.89, AUC TEST = 0.86 ; Accuracy Train = 0.8677, Accuracy Test = 0.8674\n",
    "\n",
    "Softplus: AUC TRAIN = 0.88, AUC TEST = 0.86 ; Accuracy Train = 0.8695, Accuracy Test = 0.8649\n",
    "\n",
    "Tanh: AUC TRAIN = 0.9, AUC TEST = 0.87 ; Accuracy Train = 0.88, Accuracy Test = 0.8725\n",
    "***"
   ]
  },
  {
   "cell_type": "markdown",
   "id": "61fbe498",
   "metadata": {},
   "source": [
    "### Test One vs Two Hidden Layers"
   ]
  },
  {
   "cell_type": "markdown",
   "id": "aa6c67be",
   "metadata": {},
   "source": [
    "***\n",
    "I tested one vs. two hidden layers by running the model at 100 epochs with the relu activation function. The two hidden layers performed slightly better for accuracy, and about the same for area under the curve.\n",
    "***"
   ]
  },
  {
   "cell_type": "markdown",
   "id": "f009bced",
   "metadata": {},
   "source": [
    "### Dropout Layer"
   ]
  },
  {
   "cell_type": "markdown",
   "id": "f035acde",
   "metadata": {},
   "source": [
    "***\n",
    "The dropout layer slightly improves both the accuracy and area under the curve for the model.\n",
    "***"
   ]
  },
  {
   "cell_type": "markdown",
   "id": "b7b2168f",
   "metadata": {},
   "source": [
    "### Variable Selection Technique"
   ]
  },
  {
   "cell_type": "code",
   "execution_count": 33,
   "id": "b0a0f689",
   "metadata": {},
   "outputs": [
    {
     "data": {
      "image/png": "[encoded data removed]",
      "text/plain": [
       "<Figure size 432x288 with 1 Axes>"
      ]
     },
     "metadata": {},
     "output_type": "display_data"
    },
    {
     "name": "stdout",
     "output_type": "stream",
     "text": [
      "M_DEBTINC            0.207074\n",
      "TRUNC_IMP_CLAGE      0.063635\n",
      "TRUNC_IMP_DEBTINC    0.063622\n",
      "O_IMP_DELINQ         0.060924\n",
      "TRUNC_IMP_VALUE      0.059709\n",
      "TRUNC_LOAN           0.058887\n",
      "TRUNC_IMP_CLNO       0.058714\n",
      "TRUNC_IMP_MORTDUE    0.056183\n",
      "TRUNC_IMP_YOJ        0.053750\n",
      "TRUNC_IMP_NINQ       0.043637\n",
      "dtype: float64\n",
      "None\n",
      "['M_DEBTINC', 'TRUNC_IMP_DEBTINC', 'TRUNC_IMP_CLAGE', 'TRUNC_IMP_MORTDUE', 'TRUNC_LOAN', 'TRUNC_IMP_VALUE', 'O_IMP_DELINQ', 'TRUNC_IMP_CLNO', 'TRUNC_IMP_YOJ']\n"
     ]
    }
   ],
   "source": [
    "from sklearn.ensemble import ExtraTreesClassifier\n",
    "model = ExtraTreesClassifier()\n",
    "model.fit(X_train, Y_train[TARGET_F])\n",
    "feat_importances = pd.Series(model.feature_importances_, index=X_train.columns)\n",
    "feat_importances.nlargest(15).plot(kind='barh')\n",
    "plt.show()\n",
    "#print(model.feature_importances_)\n",
    "print(feat_importances.nlargest(10))\n",
    "print(feat_importances.nlargest(10).name)\n",
    "\n",
    "GB_flag_wo_tin = GB_flag[:-1]\n",
    "print(GB_flag_wo_tin)"
   ]
  },
  {
   "cell_type": "markdown",
   "id": "aa87fc25",
   "metadata": {},
   "source": [
    "***\n",
    "This variable selection technique provided essentially the same output as the GB_flag output. I tested the model with the top 9 variables featured above. The accuracy was not as high, but the area under the curve performed similarly.\n",
    "***"
   ]
  },
  {
   "cell_type": "code",
   "execution_count": 54,
   "id": "b0e1e5f4",
   "metadata": {
    "scrolled": true
   },
   "outputs": [
    {
     "data": {
      "image/png": "[encoded data removed]",
      "text/plain": [
       "<Figure size 432x288 with 1 Axes>"
      ]
     },
     "metadata": {},
     "output_type": "display_data"
    },
    {
     "name": "stdout",
     "output_type": "stream",
     "text": [
      "Tensor_FLow CLASSIFICATION ACCURACY\n",
      "=======\n",
      "Tensor_FLow_Train  =  0.8859060402684564\n",
      "Tensor_FLow  =  0.863255033557047\n",
      "-------\n",
      "\n",
      "\n"
     ]
    }
   ],
   "source": [
    "CLM = tf.keras.Sequential()\n",
    "CLM.add( F_LAYER_01 )\n",
    "CLM.add( F_LAYER_DROP )\n",
    "CLM.add( F_LAYER_02 )\n",
    "CLM.add( F_LAYER_OUTPUT )\n",
    "CLM.compile( loss=F_theLossMetric, optimizer=F_theOptimizer)\n",
    "CLM.fit( U_train, Y_train[TARGET_F], epochs=F_theEpochs, verbose=False )\n",
    "\n",
    "TRAIN_CLM = get_TF_ProbAccuracyScores( WHO + \"_Train\", CLM, U_train, Y_train[ TARGET_F ] )\n",
    "TEST_CLM = get_TF_ProbAccuracyScores( WHO, CLM, U_test, Y_test[ TARGET_F ] )\n",
    "\n",
    "print_ROC_Curve( WHO, [ TRAIN_CLM, TEST_CLM ] ) \n",
    "print_Accuracy( WHO + \" CLASSIFICATION ACCURACY\", [ TRAIN_CLM, TEST_CLM ] )"
   ]
  },
  {
   "cell_type": "markdown",
   "id": "2a322dbb",
   "metadata": {},
   "source": [
    "# Tensor Flow Model - Predict Loan Loss"
   ]
  },
  {
   "cell_type": "code",
   "execution_count": 55,
   "id": "1d5f248c",
   "metadata": {},
   "outputs": [],
   "source": [
    "V_train = theScaler.transform( W_train )\n",
    "V_test = theScaler.transform( W_test )\n",
    "\n",
    "V_train = pd.DataFrame( V_train )\n",
    "V_test = pd.DataFrame( V_test )\n",
    "\n",
    "V_train.columns = list( W_train.columns.values )\n",
    "V_test.columns = list( W_train.columns.values )\n",
    "\n",
    "V_train = V_train[ GB_amt ]\n",
    "V_test = V_test[ GB_amt ]"
   ]
  },
  {
   "cell_type": "code",
   "execution_count": 59,
   "id": "76fec1de",
   "metadata": {},
   "outputs": [],
   "source": [
    "A_theShapeSize = V_train.shape[1]\n",
    "A_theActivation = tf.keras.activations.softplus\n",
    "A_theLossMetric = tf.keras.losses.MeanSquaredError()\n",
    "A_theOptimizer = tf.keras.optimizers.Adam()\n",
    "A_theEpochs = 800\n",
    "\n",
    "A_theUnits = int( 2*A_theShapeSize  )\n",
    "\n",
    "A_LAYER_01 = tf.keras.layers.Dense( units=A_theUnits, activation=A_theActivation, input_dim=A_theShapeSize )\n",
    "A_LAYER_DROP = tf.keras.layers.Dropout( 0.2 )\n",
    "A_LAYER_02 = tf.keras.layers.Dense( units=A_theUnits, activation=A_theActivation )\n",
    "A_LAYER_OUTPUT = tf.keras.layers.Dense( units=1, activation=tf.keras.activations.linear )"
   ]
  },
  {
   "cell_type": "code",
   "execution_count": 60,
   "id": "cbfe568a",
   "metadata": {},
   "outputs": [
    {
     "data": {
      "text/plain": [
       "<keras.callbacks.History at 0x173e7ae1190>"
      ]
     },
     "execution_count": 60,
     "metadata": {},
     "output_type": "execute_result"
    }
   ],
   "source": [
    "AMT = tf.keras.Sequential()\n",
    "AMT.add( A_LAYER_01 )\n",
    "AMT.add( A_LAYER_DROP )\n",
    "AMT.add( A_LAYER_02 )\n",
    "AMT.add( A_LAYER_OUTPUT )\n",
    "AMT.compile( loss=A_theLossMetric, optimizer=A_theOptimizer)\n",
    "AMT.fit( V_train, Z_train[TARGET_A], epochs=A_theEpochs, verbose=False )"
   ]
  },
  {
   "cell_type": "markdown",
   "id": "541d1343",
   "metadata": {},
   "source": [
    "### Test Activation Functions"
   ]
  },
  {
   "cell_type": "markdown",
   "id": "fc1be2b0",
   "metadata": {},
   "source": [
    "***\n",
    "I tested the activation functions by running the model and only changing the activation functions. I choose to go forward with the softplus activation function, as it had the best RMSE accuracy. If I did not choose the softplus function, I would use the next best performing function relu.\n",
    "\n",
    "Relu: RMSE Accuracy Train = 4692.52  , RMSE Accuracy Test = 5721.30\n",
    "\n",
    "Softmax: RMSE Accuracy Train = 17099.34  , RMSE Accuracy Test = 17602.01 \n",
    "\n",
    "Softplus: RMSE Accuracy Train =  4318.62 , RMSE Accuracy Test = 5306.15\n",
    "\n",
    "Tanh: RMSE Accuracy Train = 16929.69  , RMSE Accuracy Test = 17437.67\n",
    "***"
   ]
  },
  {
   "cell_type": "markdown",
   "id": "9f5bc800",
   "metadata": {},
   "source": [
    "### Test One vs. Two Hidden Layers"
   ]
  },
  {
   "cell_type": "markdown",
   "id": "81bf31e7",
   "metadata": {},
   "source": [
    "*** \n",
    "I tested one vs. two hidden layers by running the model at 100 epochs with the relu activation function. The two hidden layers had a higher RMSE accuracy.\n",
    "***"
   ]
  },
  {
   "cell_type": "markdown",
   "id": "67a30269",
   "metadata": {},
   "source": [
    "### Dropout Layer"
   ]
  },
  {
   "cell_type": "markdown",
   "id": "df145ff5",
   "metadata": {},
   "source": [
    "***\n",
    "The dropout layer did not perform better than without in regards to the RMSE accuracy\n",
    "***"
   ]
  },
  {
   "cell_type": "markdown",
   "id": "813df827",
   "metadata": {},
   "source": [
    "### Variable Selection Technique"
   ]
  },
  {
   "cell_type": "code",
   "execution_count": 50,
   "id": "52094f6a",
   "metadata": {},
   "outputs": [
    {
     "data": {
      "image/png": "[encoded data removed]",
      "text/plain": [
       "<Figure size 432x288 with 1 Axes>"
      ]
     },
     "metadata": {},
     "output_type": "display_data"
    },
    {
     "name": "stdout",
     "output_type": "stream",
     "text": [
      "TRUNC_IMP_MORTDUE    0.101110\n",
      "TRUNC_LOAN           0.100455\n",
      "TRUNC_IMP_VALUE      0.099667\n",
      "TRUNC_IMP_CLAGE      0.097004\n",
      "TRUNC_IMP_YOJ        0.095372\n",
      "TRUNC_IMP_CLNO       0.090188\n",
      "TRUNC_IMP_NINQ       0.065310\n",
      "TRUNC_IMP_DEBTINC    0.051042\n",
      "M_DEBTINC            0.033370\n",
      "O_IMP_DEROG          0.031779\n",
      "dtype: float64\n",
      "None\n",
      "['TRUNC_LOAN', 'TRUNC_IMP_CLNO', 'TRUNC_IMP_CLAGE', 'M_DEBTINC', 'TRUNC_IMP_DEBTINC']\n",
      "Index(['z__HomeImp', 'z__MISSING', 'z__Mgr', 'z__Office', 'z__Other',\n",
      "       'z__ProfExe', 'z__Sales', 'z__Self', 'M_MORTDUE', 'M_VALUE', 'M_DEROG',\n",
      "       'M_DELINQ', 'M_NINQ', 'M_YOJ', 'M_CLAGE', 'M_CLNO', 'M_DEBTINC',\n",
      "       'O_LOAN', 'TRUNC_LOAN', 'O_IMP_MORTDUE', 'TRUNC_IMP_MORTDUE',\n",
      "       'O_IMP_VALUE', 'TRUNC_IMP_VALUE', 'O_IMP_DEROG', 'TRUNC_IMP_DEROG',\n",
      "       'O_IMP_DELINQ', 'TRUNC_IMP_DELINQ', 'O_IMP_NINQ', 'TRUNC_IMP_NINQ',\n",
      "       'O_IMP_YOJ', 'TRUNC_IMP_YOJ', 'O_IMP_CLAGE', 'TRUNC_IMP_CLAGE',\n",
      "       'O_IMP_CLNO', 'TRUNC_IMP_CLNO', 'O_IMP_DEBTINC', 'TRUNC_IMP_DEBTINC'],\n",
      "      dtype='object')\n"
     ]
    }
   ],
   "source": [
    "model = ExtraTreesClassifier()\n",
    "model.fit(W_train, Z_train[TARGET_A])\n",
    "feat_importances = pd.Series(model.feature_importances_, index=X_train.columns)\n",
    "feat_importances.nlargest(15).plot(kind='barh')\n",
    "plt.show()\n",
    "#print(model.feature_importances_)\n",
    "print(feat_importances.nlargest(10))\n",
    "print(feat_importances.nlargest(10).name)\n",
    "\n",
    "# GB_flag_wo_tin = GB_flag[:-1]\n",
    "print(GB_amt)\n",
    "print(X_train.columns)"
   ]
  },
  {
   "cell_type": "code",
   "execution_count": 51,
   "id": "53ae43b8",
   "metadata": {},
   "outputs": [],
   "source": [
    "var_sel_amt = ['TRUNC_IMP_MORTDUE', 'TRUNC_IMP_CLAGE', 'TRUNC_IMP_VALUE', 'TRUNC_IMP_YOJ', 'TRUNC_IMP_CLNO']"
   ]
  },
  {
   "cell_type": "markdown",
   "id": "e0ac33ea",
   "metadata": {},
   "source": [
    "***\n",
    "This variable selection technique performed essentially the same on the RMSE accuracy.\n",
    "***"
   ]
  },
  {
   "cell_type": "code",
   "execution_count": 61,
   "id": "dfb41110",
   "metadata": {},
   "outputs": [
    {
     "name": "stdout",
     "output_type": "stream",
     "text": [
      "Tensor_FLow RMSE ACCURACY\n",
      "=======\n",
      "Tensor_FLow_Train  =  4309.227952977862\n",
      "Tensor_FLow  =  5293.1160723056055\n",
      "-------\n",
      "\n",
      "\n"
     ]
    }
   ],
   "source": [
    "TRAIN_AMT = getAmtAccuracyScores( WHO + \"_Train\", AMT, V_train[GB_amt], Z_train[TARGET_A] )\n",
    "TEST_AMT = getAmtAccuracyScores( WHO, AMT, V_test[GB_amt], Z_test[TARGET_A] )\n",
    "print_Accuracy( WHO + \" RMSE ACCURACY\", [ TRAIN_AMT, TEST_AMT ] )\n",
    "\n",
    "TF_CLM = TEST_CLM.copy()\n",
    "TF_AMT = TEST_AMT.copy()"
   ]
  },
  {
   "cell_type": "code",
   "execution_count": 62,
   "id": "9f06489e",
   "metadata": {},
   "outputs": [
    {
     "data": {
      "image/png": "[encoded data removed]",
      "text/plain": [
       "<Figure size 432x288 with 1 Axes>"
      ]
     },
     "metadata": {},
     "output_type": "display_data"
    },
    {
     "name": "stdout",
     "output_type": "stream",
     "text": [
      "ALL CLASSIFICATION ACCURACY\n",
      "=======\n",
      "REG_ALL  =  0.8951342281879194\n",
      "REG_TREE  =  0.8842281879194631\n",
      "REG_GB  =  0.8708053691275168\n",
      "REG_RF  =  0.8691275167785235\n",
      "Tensor_FLow  =  0.863255033557047\n",
      "-------\n",
      "\n",
      "\n",
      "ALL DEFAULT AMOUNT MODEL ACCURACY\n",
      "=======\n",
      "REG_ALL  =  5126.255591010369\n",
      "Tensor_FLow  =  5293.1160723056055\n",
      "REG_TREE  =  5549.9974700704415\n",
      "REG_RF  =  5552.909665005261\n",
      "REG_GB  =  5552.909665005261\n",
      "-------\n",
      "\n",
      "\n"
     ]
    }
   ],
   "source": [
    "ALL_CLM = [ REG_ALL_CLM, REG_TREE_CLM, RF_CLM, GB_CLM, TF_CLM ]\n",
    "\n",
    "ALL_CLM = sorted( ALL_CLM, key = lambda x: x[4], reverse=True )\n",
    "print_ROC_Curve( WHO, ALL_CLM ) \n",
    "\n",
    "ALL_CLM = sorted( ALL_CLM, key = lambda x: x[1], reverse=True )\n",
    "print_Accuracy( \"ALL CLASSIFICATION ACCURACY\", ALL_CLM )\n",
    "\n",
    "\n",
    "\n",
    "ALL_AMT = [ REG_ALL_AMT, REG_TREE_AMT, RF_AMT, GB_AMT, TF_AMT ]\n",
    "ALL_AMT = sorted( ALL_AMT, key = lambda x: x[1] )\n",
    "print_Accuracy( \"ALL DEFAULT AMOUNT MODEL ACCURACY\", ALL_AMT )"
   ]
  },
  {
   "cell_type": "markdown",
   "id": "9f72332c",
   "metadata": {},
   "source": [
    "*** \n",
    "For the loan default predictions, I would likely use the decision tree regression model. It uses fewer variables than the regression using all variables, and performs similar to or better than the other models. \n",
    "\n",
    "I would likely use the decision tree regression model for the loss amount prediction as well. The tensor flow and all variable regression models perform better, but it does not seem like it is that much better to justify using a more complex model. The decision tree is a simpler story to tell and performs closely enough to go forward with this model in both scenarios.\n",
    "***"
   ]
  }
 ],
 "metadata": {
  "kernelspec": {
   "display_name": "Python 3 (ipykernel)",
   "language": "python",
   "name": "python3"
  },
  "language_info": {
   "codemirror_mode": {
    "name": "ipython",
    "version": 3
   },
   "file_extension": ".py",
   "mimetype": "text/x-python",
   "name": "python",
   "nbconvert_exporter": "python",
   "pygments_lexer": "ipython3",
   "version": "3.8.8"
  }
 },
 "nbformat": 4,
 "nbformat_minor": 5
}
