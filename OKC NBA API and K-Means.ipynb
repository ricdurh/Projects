{
 "cells": [
  {
   "cell_type": "code",
   "execution_count": 2,
   "id": "b01f7a6d",
   "metadata": {},
   "outputs": [
    {
     "name": "stderr",
     "output_type": "stream",
     "text": [
      "C:\\Users\\richd\\anaconda3\\lib\\site-packages\\scipy\\__init__.py:146: UserWarning: A NumPy version >=1.16.5 and <1.23.0 is required for this version of SciPy (detected version 1.23.5\n",
      "  warnings.warn(f\"A NumPy version >={np_minversion} and <{np_maxversion}\"\n"
     ]
    }
   ],
   "source": [
    "from nba_api.stats.endpoints import leaguedashteamstats\n",
    "\n",
    "import time\n",
    "import numpy as np\n",
    "import pandas as pd\n",
    "from sklearn.linear_model import LinearRegression\n",
    "from sklearn.preprocessing import MinMaxScaler\n",
    "from sklearn.preprocessing import StandardScaler\n",
    "from sklearn.cluster import KMeans\n",
    "from sklearn.metrics import silhouette_score       # use metrics to see how many clusters we should use (approximation)\n",
    "from sklearn.metrics import calinski_harabasz_score    # name changed\n",
    "\n",
    "from nba_api.stats.static import players\n",
    "\n",
    "import matplotlib.pyplot as plt\n",
    "import seaborn as sns\n",
    "\n",
    "import warnings\n",
    "warnings.filterwarnings(\"ignore\")"
   ]
  },
  {
   "cell_type": "markdown",
   "id": "df2575d1",
   "metadata": {},
   "source": [
    "# NBA API"
   ]
  },
  {
   "cell_type": "code",
   "execution_count": 115,
   "id": "651899d3",
   "metadata": {},
   "outputs": [
    {
     "name": "stdout",
     "output_type": "stream",
     "text": [
      "  GROUP_SET                                  GROUP_ID  \\\n",
      "0   Lineups     -201145-203115-203932-203999-1628420-   \n",
      "1   Lineups   -101108-203109-1626164-1628969-1629028-   \n",
      "2   Lineups    -201144-202711-203497-1626220-1628378-   \n",
      "3   Lineups   -201143-203935-1627759-1628369-1629057-   \n",
      "4   Lineups  -201976-1626156-1626157-1629020-1630162-   \n",
      "\n",
      "                                          GROUP_NAME     TEAM_ID  \\\n",
      "0  J. Green - W. Barton - A. Gordon - N. Jokic - ...  1610612743   \n",
      "1  C. Paul - J. Crowder - D. Booker - M. Bridges ...  1610612756   \n",
      "2  M. Conley - B. Bogdanovic - R. Gobert - R. O'N...  1610612762   \n",
      "3  A. Horford - M. Smart - J. Brown - J. Tatum - ...  1610612738   \n",
      "4  P. Beverley - D. Russell - K. Towns - J. Vande...  1610612750   \n",
      "\n",
      "  TEAM_ABBREVIATION  GP   W   L  W_PCT    MIN  ...  W_PCT_RANK  MIN_RANK  \\\n",
      "0               DEN  41  26  15  0.634  761.0  ...        6906         1   \n",
      "1               PHX  38  31   7  0.816  754.0  ...        5852         2   \n",
      "2               UTA  42  29  13  0.690  666.0  ...        6280         3   \n",
      "3               BOS  34  27   7  0.794  443.0  ...        5963         4   \n",
      "4               MIN  36  22  14  0.611  439.0  ...        6949         5   \n",
      "\n",
      "   EFG_PCT_RANK  FTA_RATE_RANK  TM_TOV_PCT_RANK  OREB_PCT_RANK  \\\n",
      "0          5593           6813            10452           6705   \n",
      "1          6230           6924             9045           7902   \n",
      "2          5726           5689            10529           6620   \n",
      "3          5608           7458            10439           6625   \n",
      "4          6238           6814            10517           4591   \n",
      "\n",
      "   OPP_EFG_PCT_RANK  OPP_FTA_RATE_RANK  OPP_TOV_PCT_RANK  OPP_OREB_PCT_RANK  \n",
      "0             10124               9228              7503              10393  \n",
      "1              9488              10540              6866              10755  \n",
      "2              9663               9747              7590              10848  \n",
      "3              7056               9048              6036               9779  \n",
      "4              9539              10341              5967              10844  \n",
      "\n",
      "[5 rows x 31 columns]\n"
     ]
    }
   ],
   "source": [
    "from nba_api.stats.endpoints import leaguedashteamstats\n",
    "\n",
    "print(leaguedashlineups.LeagueDashLineups(measure_type_detailed_defense=\"Four Factors\").get_data_frames()[0].head())"
   ]
  },
  {
   "cell_type": "code",
   "execution_count": 112,
   "id": "66bc85a7",
   "metadata": {},
   "outputs": [
    {
     "name": "stdout",
     "output_type": "stream",
     "text": [
      "Empty DataFrame\n",
      "Columns: []\n",
      "Index: []\n"
     ]
    }
   ],
   "source": [
    "from nba_api.stats.endpoints import leaguedashlineups\n",
    "\n",
    "# players\n",
    "# nba api https://github.com/swar/nba_api/blob/master/docs/nba_api/stats/examples.md\n",
    "\n",
    "#print(leaguedashlineups.LeagueDashLineups(Season='2022'))\n",
    "\n",
    "\n",
    "# players_factors = leaguedashlineups.Lineups(\n",
    "#     seasonType = \"Regular Season\", MeasureType=\"Four Factors\").get_data_frames()[0]\n",
    "\n",
    "lineups = pd.DataFrame()\n",
    "for i in range(1):\n",
    "    # Building the Season String (ie. 2020-21)\n",
    "    season_str = f\"{2021 + i}-{2 + i:02d}\"\n",
    "    # Let's make some attempts to obtain the data, since we might be doing too many requests...\n",
    "    for attempt in range(5):\n",
    "        try:\n",
    "            season_factors = leaguedashteamstats.LeagueDashTeamStats(\n",
    "                season=season_str, MeasureType=\"Four Factors\",\n",
    "            ).get_data_frames()[0]\n",
    "#            season_factors[\"season\"] = 2002 + i\n",
    "            # Try to get the information for the season, getting only the columns we need\n",
    "            lineups = pd.concat(\n",
    "                [lineups, season_factors],\n",
    "                axis=0,\n",
    "            )\n",
    "        except:\n",
    "            # If we get an error we go to sleep for some time\n",
    "            time.sleep(30)\n",
    "        else:\n",
    "            # If everything's OK with the request, we continue\n",
    "            break\n",
    "print(lineups.head())"
   ]
  },
  {
   "cell_type": "code",
   "execution_count": 137,
   "id": "a434f912",
   "metadata": {
    "scrolled": true
   },
   "outputs": [
    {
     "name": "stdout",
     "output_type": "stream",
     "text": [
      "{'id': 1628983, 'full_name': 'Shai Gilgeous-Alexander', 'first_name': 'Shai', 'last_name': 'Gilgeous-Alexander', 'is_active': True}\n"
     ]
    }
   ],
   "source": [
    "bron = [player for player in player_dict if player['full_name'] == 'Shai Gilgeous-Alexander'][0]\n",
    "print(bron)"
   ]
  },
  {
   "cell_type": "code",
   "execution_count": 6,
   "id": "698980aa",
   "metadata": {},
   "outputs": [
    {
     "name": "stdout",
     "output_type": "stream",
     "text": [
      "[{'id': 1610612760, 'full_name': 'Oklahoma City Thunder', 'abbreviation': 'OKC', 'nickname': 'Thunder', 'city': 'Oklahoma City', 'state': 'Oklahoma', 'year_founded': 1967}]\n"
     ]
    }
   ],
   "source": [
    "from nba_api.stats.static import teams\n",
    "team_dict = teams.get_teams()\n",
    "OKC = [team for team in team_dict if team['full_name'] == 'Oklahoma City Thunder']\n",
    "print(OKC)"
   ]
  },
  {
   "cell_type": "code",
   "execution_count": 9,
   "id": "7523ff99",
   "metadata": {
    "scrolled": true
   },
   "outputs": [
    {
     "name": "stdout",
     "output_type": "stream",
     "text": [
      "  SEASON_ID  Player_ID     Game_ID     GAME_DATE      MATCHUP WL  MIN  FGM  \\\n",
      "0     22017       2544  0021701220  APR 11, 2018  CLE vs. NYK  L   11    4   \n",
      "1     22017       2544  0021701207  APR 09, 2018    CLE @ NYK  W   39    7   \n",
      "2     22017       2544  0021701183  APR 06, 2018    CLE @ PHI  L   40   17   \n",
      "3     22017       2544  0021701176  APR 05, 2018  CLE vs. WAS  W   39   12   \n",
      "4     22017       2544  0021701156  APR 03, 2018  CLE vs. TOR  W   37    8   \n",
      "\n",
      "   FGA  FG_PCT  ...  DREB  REB  AST  STL  BLK  TOV  PF  PTS  PLUS_MINUS  \\\n",
      "0    9   0.444  ...     4    5    2    1    0    3   0   10           5   \n",
      "1   16   0.438  ...     6    6   11    1    0    4   2   26          16   \n",
      "2   29   0.586  ...    10   11   11    2    1    8   0   44           7   \n",
      "3   20   0.600  ...     7    9   14    0    0    6   2   33          13   \n",
      "4   14   0.571  ...    10   10    6    0    0    5   2   27          12   \n",
      "\n",
      "   VIDEO_AVAILABLE  \n",
      "0                1  \n",
      "1                1  \n",
      "2                1  \n",
      "3                1  \n",
      "4                1  \n",
      "\n",
      "[5 rows x 27 columns]\n"
     ]
    }
   ],
   "source": [
    "from nba_api.stats.endpoints import playergamelog\n",
    "\n",
    "gamelog_bron = playergamelog.PlayerGameLog(player_id = '2544', season = '2017')\n",
    "gamelog_bron_df = gamelog_bron.get_data_frames()[0]\n",
    "print(gamelog_bron_df.head())"
   ]
  },
  {
   "cell_type": "code",
   "execution_count": 42,
   "id": "b6382c04",
   "metadata": {},
   "outputs": [
    {
     "name": "stdout",
     "output_type": "stream",
     "text": [
      "    GROUP_SET                                   GROUP_ID  \\\n",
      "0     Lineups  -1628983-1629647-1629652-1630526-1630581-   \n",
      "1     Lineups  -1628983-1629652-1630526-1630581-1630598-   \n",
      "2     Lineups   -202324-1628983-1629647-1629652-1630581-   \n",
      "3     Lineups  -1628982-1629658-1630249-1630285-1630686-   \n",
      "4     Lineups  -1628983-1629647-1629676-1630544-1630598-   \n",
      "..        ...                                        ...   \n",
      "748   Lineups  -1628983-1629603-1629647-1629660-1630598-   \n",
      "749   Lineups  -1628983-1630177-1630197-1630249-1630322-   \n",
      "750   Lineups  -1629660-1629676-1630177-1630581-1630598-   \n",
      "751   Lineups  -1629660-1630177-1630526-1630544-1630598-   \n",
      "752   Lineups  -1630177-1630197-1630322-1630544-1630581-   \n",
      "\n",
      "                                            GROUP_NAME     TEAM_ID  \\\n",
      "0    S. Gilgeous-Alexander - D. Bazley - L. Dort - ...  1610612760   \n",
      "1    S. Gilgeous-Alexander - L. Dort - J. Robinson-...  1610612760   \n",
      "2    D. Favors - S. Gilgeous-Alexander - D. Bazley ...  1610612760   \n",
      "3    M. Frazier Jr. - J. Hoard - V. Krejci - Z. Sim...  1610612760   \n",
      "4    S. Gilgeous-Alexander - D. Bazley - I. Roby - ...  1610612760   \n",
      "..                                                 ...         ...   \n",
      "748  S. Gilgeous-Alexander - M. Diakite - D. Bazley...  1610612760   \n",
      "749  S. Gilgeous-Alexander - T. Maledon - A. Pokuse...  1610612760   \n",
      "750  T. Jerome - I. Roby - T. Maledon - J. Giddey -...  1610612760   \n",
      "751  T. Jerome - T. Maledon - J. Robinson-Earl - T....  1610612760   \n",
      "752  T. Maledon - A. Pokusevski - L. Waters III - T...  1610612760   \n",
      "\n",
      "    TEAM_ABBREVIATION  GP  W   L  W_PCT    MIN  ...  W_PCT_RANK  MIN_RANK  \\\n",
      "0                 OKC  25  8  17  0.320  254.0  ...         234         1   \n",
      "1                 OKC  12  3   9  0.250  126.0  ...         235         2   \n",
      "2                 OKC  11  4   7  0.364  105.0  ...         206         3   \n",
      "3                 OKC   2  0   2  0.000   64.0  ...         262         4   \n",
      "4                 OKC   6  1   5  0.167   56.0  ...         257         5   \n",
      "..                ...  .. ..  ..    ...    ...  ...         ...       ...   \n",
      "748               OKC   1  1   0  1.000    0.0  ...           1       694   \n",
      "749               OKC   1  0   1  0.000    0.0  ...         262       718   \n",
      "750               OKC   1  0   1  0.000    0.0  ...         262       709   \n",
      "751               OKC   1  0   1  0.000    0.0  ...         262       706   \n",
      "752               OKC   1  0   1  0.000    0.0  ...         262       736   \n",
      "\n",
      "     EFG_PCT_RANK  FTA_RATE_RANK  TM_TOV_PCT_RANK  OREB_PCT_RANK  \\\n",
      "0             384            308              432            353   \n",
      "1             277            230              457            275   \n",
      "2             380            296              483            276   \n",
      "3             442            316              431            277   \n",
      "4             290            203              533            268   \n",
      "..            ...            ...              ...            ...   \n",
      "748            29            365                1            409   \n",
      "749           292            105                1              1   \n",
      "750           601            365              720            409   \n",
      "751           601            365                1            409   \n",
      "752             1            365                1            409   \n",
      "\n",
      "     OPP_EFG_PCT_RANK  OPP_FTA_RATE_RANK  OPP_TOV_PCT_RANK  OPP_OREB_PCT_RANK  \n",
      "0                 442                463               286                479  \n",
      "1                 501                430               291                476  \n",
      "2                 449                451               342                478  \n",
      "3                 525                547               393                465  \n",
      "4                 540                530               408                430  \n",
      "..                ...                ...               ...                ...  \n",
      "748               740                  1               423                  1  \n",
      "749                 1                  1               423                  1  \n",
      "750                 1                  1               423                  1  \n",
      "751               543                556               423                715  \n",
      "752                 1                  1               423                715  \n",
      "\n",
      "[753 rows x 31 columns]\n"
     ]
    }
   ],
   "source": [
    "from nba_api.stats.endpoints import leaguedashlineups\n",
    "OKC_games = leaguedashlineups.LeagueDashLineups(team_id_nullable = 1610612760, season= '2021-22', measure_type_detailed_defense=\"Four Factors\").get_data_frames()\n",
    "\n",
    "print(OKC_games[0])\n",
    "# print(OKC_games.head())\n",
    "# print(OKC_games.columns)"
   ]
  },
  {
   "cell_type": "code",
   "execution_count": 37,
   "id": "1529fe6d",
   "metadata": {},
   "outputs": [
    {
     "name": "stdout",
     "output_type": "stream",
     "text": [
      "                                   GROUP_ID  \\\n",
      "0     -201145-203115-203932-203999-1628420-   \n",
      "1   -101108-203109-1626164-1628969-1629028-   \n",
      "2    -201144-202711-203497-1626220-1628378-   \n",
      "3   -201143-203935-1627759-1628369-1629057-   \n",
      "4  -201976-1626156-1626157-1629020-1630162-   \n",
      "\n",
      "                                          GROUP_NAME     TEAM_ID  \\\n",
      "0  J. Green - W. Barton - A. Gordon - N. Jokic - ...  1610612743   \n",
      "1  C. Paul - J. Crowder - D. Booker - M. Bridges ...  1610612756   \n",
      "2  M. Conley - B. Bogdanovic - R. Gobert - R. O'N...  1610612762   \n",
      "3  A. Horford - M. Smart - J. Brown - J. Tatum - ...  1610612738   \n",
      "4  P. Beverley - D. Russell - K. Towns - J. Vande...  1610612750   \n",
      "\n",
      "  TEAM_ABBREVIATION    MIN  OFF_RATING  DEF_RATING  NET_RATING    PACE  \\\n",
      "0               DEN  761.2       121.3       111.8         9.5  100.36   \n",
      "1               PHX  754.1       116.4       109.0         7.4  100.22   \n",
      "2               UTA  666.0       117.1       110.5         6.7  100.54   \n",
      "3               BOS  442.8       118.8        94.2        24.6   99.08   \n",
      "4               MIN  438.9       120.2       107.4        12.8   99.52   \n",
      "\n",
      "   TS_PCT  ...  PCT_PTS_2PT_MR  PCT_PTS_FB  PCT_PTS_FT  PCT_PTS_PAINT  \\\n",
      "0   0.630  ...           0.088       0.146       0.130          0.488   \n",
      "1   0.600  ...           0.171       0.110       0.129          0.414   \n",
      "2   0.621  ...           0.035       0.102       0.154          0.394   \n",
      "3   0.616  ...           0.072       0.116       0.102          0.460   \n",
      "4   0.594  ...           0.070       0.130       0.125          0.428   \n",
      "\n",
      "   PCT_AST_FGM  PCT_UAST_FGM  OPP_FG3_PCT  OPP_EFG_PCT  OPP_FTA_RATE  \\\n",
      "0        0.714         0.286        0.369        0.554         0.165   \n",
      "1        0.643         0.357        0.327        0.518         0.231   \n",
      "2        0.578         0.422        0.368        0.530         0.190   \n",
      "3        0.633         0.367        0.311        0.463         0.152   \n",
      "4        0.586         0.414        0.290        0.522         0.220   \n",
      "\n",
      "   OPP_TOV_PCT  \n",
      "0        0.119  \n",
      "1        0.131  \n",
      "2        0.117  \n",
      "3        0.145  \n",
      "4        0.149  \n",
      "\n",
      "[5 rows x 24 columns]\n",
      "Index(['GROUP_ID', 'GROUP_NAME', 'TEAM_ID', 'TEAM_ABBREVIATION', 'MIN',\n",
      "       'OFF_RATING', 'DEF_RATING', 'NET_RATING', 'PACE', 'TS_PCT', 'FTA_RATE',\n",
      "       'TM_AST_PCT', 'PCT_FGA_2PT', 'PCT_FGA_3PT', 'PCT_PTS_2PT_MR',\n",
      "       'PCT_PTS_FB', 'PCT_PTS_FT', 'PCT_PTS_PAINT', 'PCT_AST_FGM',\n",
      "       'PCT_UAST_FGM', 'OPP_FG3_PCT', 'OPP_EFG_PCT', 'OPP_FTA_RATE',\n",
      "       'OPP_TOV_PCT'],\n",
      "      dtype='object')\n",
      "(2523, 24)\n"
     ]
    }
   ],
   "source": [
    "# 2nd of 4 lineup\n",
    "\n",
    "from nba_api.stats.endpoints import leaguelineupviz\n",
    "l_l_viz = leaguelineupviz.LeagueLineupViz(team_id_nullable = 1610612760, season= '2021-22', measure_type_detailed_defense=\"Four Factors\",\n",
    "                                         minutes_min = '10').get_data_frames()[0]\n",
    "print(l_l_viz.head())\n",
    "print(l_l_viz.columns)\n",
    "print(l_l_viz.shape)"
   ]
  },
  {
   "cell_type": "code",
   "execution_count": 39,
   "id": "939799e7",
   "metadata": {},
   "outputs": [
    {
     "name": "stdout",
     "output_type": "stream",
     "text": [
      "  GROUP_SET GROUP_VALUE     TEAM_ID TEAM_ABBREVIATION              TEAM_NAME  \\\n",
      "0   Overall     2021-22  1610612760               OKC  Oklahoma City Thunder   \n",
      "\n",
      "   GP   W   L  W_PCT     MIN  ...  W_PCT_RANK  MIN_RANK  EFG_PCT_RANK  \\\n",
      "0  82  24  58  0.293  3961.0  ...           1         1             1   \n",
      "\n",
      "   FTA_RATE_RANK  TM_TOV_PCT_RANK  OREB_PCT_RANK  OPP_EFG_PCT_RANK  \\\n",
      "0              1                1              1                 1   \n",
      "\n",
      "   OPP_FTA_RATE_RANK  OPP_TOV_PCT_RANK  OPP_OREB_PCT_RANK  \n",
      "0                  1                 1                  1  \n",
      "\n",
      "[1 rows x 31 columns]\n",
      "Index(['GROUP_SET', 'GROUP_VALUE', 'TEAM_ID', 'TEAM_ABBREVIATION', 'TEAM_NAME',\n",
      "       'GP', 'W', 'L', 'W_PCT', 'MIN', 'EFG_PCT', 'FTA_RATE', 'TM_TOV_PCT',\n",
      "       'OREB_PCT', 'OPP_EFG_PCT', 'OPP_FTA_RATE', 'OPP_TOV_PCT',\n",
      "       'OPP_OREB_PCT', 'GP_RANK', 'W_RANK', 'L_RANK', 'W_PCT_RANK', 'MIN_RANK',\n",
      "       'EFG_PCT_RANK', 'FTA_RATE_RANK', 'TM_TOV_PCT_RANK', 'OREB_PCT_RANK',\n",
      "       'OPP_EFG_PCT_RANK', 'OPP_FTA_RATE_RANK', 'OPP_TOV_PCT_RANK',\n",
      "       'OPP_OREB_PCT_RANK'],\n",
      "      dtype='object')\n",
      "(1, 31)\n"
     ]
    }
   ],
   "source": [
    "# 3rd \n",
    "#\n",
    "from nba_api.stats.endpoints import teamdashlineups\n",
    "l_l_viz = teamdashlineups.TeamDashLineups( season= '2021-22', measure_type_detailed_defense=\"Four Factors\", team_id = 1610612760 ).get_data_frames()[0]\n",
    "print(l_l_viz.head())\n",
    "print(l_l_viz.columns)\n",
    "print(l_l_viz.shape)"
   ]
  },
  {
   "cell_type": "code",
   "execution_count": 13,
   "id": "1f1908a8",
   "metadata": {},
   "outputs": [],
   "source": [
    "all_lineups[0].to_csv(\"all_lineups.csv\")"
   ]
  },
  {
   "cell_type": "code",
   "execution_count": 11,
   "id": "b0203df6",
   "metadata": {},
   "outputs": [
    {
     "name": "stdout",
     "output_type": "stream",
     "text": [
      "     GROUP_SET                                   GROUP_ID  \\\n",
      "0      Lineups      -201145-203115-203932-203999-1628420-   \n",
      "1      Lineups    -101108-203109-1626164-1628969-1629028-   \n",
      "2      Lineups     -201144-202711-203497-1626220-1628378-   \n",
      "3      Lineups    -201143-203935-1627759-1628369-1629057-   \n",
      "4      Lineups   -201976-1626156-1626157-1629020-1630162-   \n",
      "...        ...                                        ...   \n",
      "1995   Lineups     -203107-203484-204001-1630264-1630557-   \n",
      "1996   Lineups   -202684-1627741-1629052-1630169-1630537-   \n",
      "1997   Lineups   -202684-1628972-1629750-1630172-1630245-   \n",
      "1998   Lineups  -1628976-1629678-1630175-1630532-1630591-   \n",
      "1999   Lineups  -1626195-1627742-1629638-1630184-1630530-   \n",
      "\n",
      "                                             GROUP_NAME     TEAM_ID  \\\n",
      "0     J. Green - W. Barton - A. Gordon - N. Jokic - ...  1610612743   \n",
      "1     C. Paul - J. Crowder - D. Booker - M. Bridges ...  1610612756   \n",
      "2     M. Conley - B. Bogdanovic - R. Gobert - R. O'N...  1610612762   \n",
      "3     A. Horford - M. Smart - J. Brown - J. Tatum - ...  1610612738   \n",
      "4     P. Beverley - D. Russell - K. Towns - J. Vande...  1610612750   \n",
      "...                                                 ...         ...   \n",
      "1995  T. Satoransky - K. Caldwell-Pope - K. Porzingi...  1610612764   \n",
      "1996  T. Thompson - B. Hield - O. Brissett - T. Hali...  1610612754   \n",
      "1997  T. Thompson - T. Brown Jr. - J. Green - P. Wil...  1610612741   \n",
      "1998  W. Carter Jr. - A. Schofield - C. Anthony - F....  1610612753   \n",
      "1999  W. Hernangomez - B. Ingram - N. Alexander-Walk...  1610612740   \n",
      "\n",
      "     TEAM_ABBREVIATION  GP   W   L  W_PCT    MIN  ...  W_PCT_RANK  MIN_RANK  \\\n",
      "0                  DEN  41  26  15  0.634  761.0  ...        6906         1   \n",
      "1                  PHX  38  31   7  0.816  754.0  ...        5852         2   \n",
      "2                  UTA  42  29  13  0.690  666.0  ...        6280         3   \n",
      "3                  BOS  34  27   7  0.794  443.0  ...        5963         4   \n",
      "4                  MIN  36  22  14  0.611  439.0  ...        6949         5   \n",
      "...                ...  ..  ..  ..    ...    ...  ...         ...       ...   \n",
      "1995               WAS   4   3   1  0.750   12.0  ...        5984      1969   \n",
      "1996               IND   1   0   1  0.000   12.0  ...       10195      1983   \n",
      "1997               CHI   1   1   0  1.000   12.0  ...           1      1951   \n",
      "1998               ORL   4   2   2  0.500   12.0  ...        7220      1959   \n",
      "1999               NOP   3   1   2  0.333   12.0  ...        9264      1975   \n",
      "\n",
      "      EFG_PCT_RANK  FTA_RATE_RANK  TM_TOV_PCT_RANK  OREB_PCT_RANK  \\\n",
      "0             5593           6813            10452           6705   \n",
      "1             6230           6924             9045           7902   \n",
      "2             5726           5689            10529           6620   \n",
      "3             5608           7458            10439           6625   \n",
      "4             6238           6814            10517           4591   \n",
      "...            ...            ...              ...            ...   \n",
      "1995          3203           6375            12710           7699   \n",
      "1996         12341           9119            14923           1626   \n",
      "1997          5617           4207             9775           3769   \n",
      "1998          5617           7247            12710           6484   \n",
      "1999          5097           6351            11296           1448   \n",
      "\n",
      "      OPP_EFG_PCT_RANK  OPP_FTA_RATE_RANK  OPP_TOV_PCT_RANK  OPP_OREB_PCT_RANK  \n",
      "0                10124               9228              7503              10393  \n",
      "1                 9488              10540              6866              10755  \n",
      "2                 9663               9747              7590              10848  \n",
      "3                 7056               9048              6036               9779  \n",
      "4                 9539              10341              5967              10844  \n",
      "...                ...                ...               ...                ...  \n",
      "1995              7404              11186              5722              12123  \n",
      "1996             10946              10594              9631               7945  \n",
      "1997              6066               9550              7470               8263  \n",
      "1998              7404              14525              5968              14135  \n",
      "1999             14578              15600              9194               7823  \n",
      "\n",
      "[2000 rows x 31 columns]\n"
     ]
    }
   ],
   "source": [
    "from nba_api.stats.endpoints import leaguedashlineups\n",
    "all_lineups = leaguedashlineups.LeagueDashLineups(season= '2021-22', measure_type_detailed_defense=\"Four Factors\").get_data_frames()\n",
    "\n",
    "print(all_lineups[0])\n",
    "# print(OKC_games.head())\n",
    "# print(OKC_games.columns)"
   ]
  },
  {
   "cell_type": "code",
   "execution_count": 33,
   "id": "e0195d84",
   "metadata": {
    "scrolled": true
   },
   "outputs": [
    {
     "name": "stdout",
     "output_type": "stream",
     "text": [
      "<class 'pandas.core.frame.DataFrame'>\n"
     ]
    }
   ],
   "source": [
    "print(type(OKC_games))\n",
    "OKC_games.to_csv('OKC.csv')"
   ]
  },
  {
   "cell_type": "code",
   "execution_count": 43,
   "id": "3215c2af",
   "metadata": {},
   "outputs": [
    {
     "name": "stdout",
     "output_type": "stream",
     "text": [
      "  GROUP_SET                                  GROUP_ID  \\\n",
      "0   Lineups     -201145-203115-203932-203999-1628420-   \n",
      "1   Lineups   -101108-203109-1626164-1628969-1629028-   \n",
      "2   Lineups    -201144-202711-203497-1626220-1628378-   \n",
      "3   Lineups   -201143-203935-1627759-1628369-1629057-   \n",
      "4   Lineups  -201976-1626156-1626157-1629020-1630162-   \n",
      "\n",
      "                                          GROUP_NAME     TEAM_ID  \\\n",
      "0  J. Green - W. Barton - A. Gordon - N. Jokic - ...  1610612743   \n",
      "1  C. Paul - J. Crowder - D. Booker - M. Bridges ...  1610612756   \n",
      "2  M. Conley - B. Bogdanovic - R. Gobert - R. O'N...  1610612762   \n",
      "3  A. Horford - M. Smart - J. Brown - J. Tatum - ...  1610612738   \n",
      "4  P. Beverley - D. Russell - K. Towns - J. Vande...  1610612750   \n",
      "\n",
      "  TEAM_ABBREVIATION  GP   W   L  W_PCT         MIN  ...  REB_RANK  AST_RANK  \\\n",
      "0               DEN  41  26  15  0.634  761.211667  ...         1         1   \n",
      "1               PHX  38  31   7  0.816  754.110000  ...         2         2   \n",
      "2               UTA  42  29  13  0.690  666.028333  ...         3         3   \n",
      "3               BOS  34  27   7  0.794  442.783333  ...         4         4   \n",
      "4               MIN  36  22  14  0.611  438.908333  ...         7         5   \n",
      "\n",
      "   TOV_RANK  STL_RANK  BLK_RANK  BLKA_RANK  PF_RANK  PFD_RANK  PTS_RANK  \\\n",
      "0     17383         2         2      17383    17381         1         1   \n",
      "1     17381         1         6      17380    17383         3         2   \n",
      "2     17382         3         1      17382    17382         2         3   \n",
      "3     17375         5         3      17370    17366        12         5   \n",
      "4     17378         4         9      17378    17380         6         4   \n",
      "\n",
      "   PLUS_MINUS_RANK  \n",
      "0                2  \n",
      "1                4  \n",
      "2                9  \n",
      "3                1  \n",
      "4                6  \n",
      "\n",
      "[5 rows x 57 columns]\n"
     ]
    }
   ],
   "source": [
    "from nba_api.stats.endpoints import leaguedashlineups\n",
    "result = leaguedashlineups.LeagueDashLineups()\n",
    "all_games = result.get_data_frames()[0]\n",
    "print(all_games.head())"
   ]
  },
  {
   "cell_type": "code",
   "execution_count": 46,
   "id": "da22bc14",
   "metadata": {
    "scrolled": true
   },
   "outputs": [
    {
     "name": "stdout",
     "output_type": "stream",
     "text": [
      "  GROUP_SET                                  GROUP_ID  \\\n",
      "0   Lineups     -201145-203115-203932-203999-1628420-   \n",
      "1   Lineups   -101108-203109-1626164-1628969-1629028-   \n",
      "2   Lineups    -201144-202711-203497-1626220-1628378-   \n",
      "3   Lineups   -201143-203935-1627759-1628369-1629057-   \n",
      "4   Lineups  -201976-1626156-1626157-1629020-1630162-   \n",
      "\n",
      "                                          GROUP_NAME     TEAM_ID  \\\n",
      "0  J. Green - W. Barton - A. Gordon - N. Jokic - ...  1610612743   \n",
      "1  C. Paul - J. Crowder - D. Booker - M. Bridges ...  1610612756   \n",
      "2  M. Conley - B. Bogdanovic - R. Gobert - R. O'N...  1610612762   \n",
      "3  A. Horford - M. Smart - J. Brown - J. Tatum - ...  1610612738   \n",
      "4  P. Beverley - D. Russell - K. Towns - J. Vande...  1610612750   \n",
      "\n",
      "  TEAM_ABBREVIATION  GP   W   L  W_PCT         MIN  ...  AST_RANK  TOV_RANK  \\\n",
      "0               DEN  41  26  15  0.634  761.211667  ...         1     17383   \n",
      "1               PHX  38  31   7  0.816  754.110000  ...         2     17381   \n",
      "2               UTA  42  29  13  0.690  666.028333  ...         3     17382   \n",
      "3               BOS  34  27   7  0.794  442.783333  ...         4     17375   \n",
      "4               MIN  36  22  14  0.611  438.908333  ...         5     17378   \n",
      "\n",
      "   STL_RANK  BLK_RANK  BLKA_RANK  PF_RANK  PFD_RANK  PTS_RANK  \\\n",
      "0         2         2      17383    17381         1         1   \n",
      "1         1         6      17380    17383         3         2   \n",
      "2         3         1      17382    17382         2         3   \n",
      "3         5         3      17370    17366        12         5   \n",
      "4         4         9      17378    17380         6         4   \n",
      "\n",
      "   PLUS_MINUS_RANK  grou_name_len  \n",
      "0                2             37  \n",
      "1                4             39  \n",
      "2                9             38  \n",
      "3                1             39  \n",
      "4                6             40  \n",
      "\n",
      "[5 rows x 58 columns]\n"
     ]
    }
   ],
   "source": [
    "all_games['grou_name_len'] = all_games['GROUP_ID'].str.len()\n",
    "print(all_games.head())"
   ]
  },
  {
   "cell_type": "code",
   "execution_count": 52,
   "id": "d2d3f03f",
   "metadata": {
    "scrolled": true
   },
   "outputs": [
    {
     "name": "stdout",
     "output_type": "stream",
     "text": [
      "30\n",
      "    GROUP_SET                        GROUP_ID  \\\n",
      "348   Lineups  -2544-2730-2772-201566-202340-   \n",
      "\n",
      "                                            GROUP_NAME     TEAM_ID  \\\n",
      "348  L. James - D. Howard - T. Ariza - R. Westbrook...  1610612747   \n",
      "\n",
      "    TEAM_ABBREVIATION  GP  W  L  W_PCT        MIN  ...  AST_RANK  TOV_RANK  \\\n",
      "348               LAL   4  2  2    0.5  43.333333  ...       695     17080   \n",
      "\n",
      "     STL_RANK  BLK_RANK  BLKA_RANK  PF_RANK  PFD_RANK  PTS_RANK  \\\n",
      "348       457       430      17225    16898       448       469   \n",
      "\n",
      "     PLUS_MINUS_RANK  grou_name_len  \n",
      "348            17068             30  \n",
      "\n",
      "[1 rows x 58 columns]\n"
     ]
    }
   ],
   "source": [
    "print(all_games['grou_name_len'].min())\n",
    "print(all_games[all_games['grou_name_len'] == all_games['grou_name_len'].min()])"
   ]
  },
  {
   "cell_type": "code",
   "execution_count": 58,
   "id": "04d9d131",
   "metadata": {},
   "outputs": [
    {
     "name": "stdout",
     "output_type": "stream",
     "text": [
      "{'id': 1628983, 'full_name': 'Shai Gilgeous-Alexander', 'first_name': 'Shai', 'last_name': 'Gilgeous-Alexander', 'is_active': True}\n"
     ]
    }
   ],
   "source": [
    "import pandas as pd\n",
    "from nba_api.stats.static import players\n",
    "player_dict = players.get_players()\n",
    "\n",
    "shai = [player for player in player_dict if player['full_name'] == 'Shai Gilgeous-Alexander'][0]\n",
    "print(shai)"
   ]
  },
  {
   "cell_type": "code",
   "execution_count": 88,
   "id": "bf6ecf7a",
   "metadata": {
    "scrolled": true
   },
   "outputs": [
    {
     "name": "stdout",
     "output_type": "stream",
     "text": [
      "   PLAYER_ID    PLAYER_NAME_LAST_FIRST  SORT_ORDER  GP   G   TOUCH_TIME_RANGE  \\\n",
      "0    1628983  Gilgeous-Alexander, Shai           1  56  44  Touch < 2 Seconds   \n",
      "1    1628983  Gilgeous-Alexander, Shai           2  56  56  Touch 2-6 Seconds   \n",
      "2    1628983  Gilgeous-Alexander, Shai           3  56  56   Touch 6+ Seconds   \n",
      "\n",
      "   FGA_FREQUENCY  FGM  FGA  FG_PCT  EFG_PCT  FG2A_FREQUENCY  FG2M  FG2A  \\\n",
      "0          0.097   51  102   0.500    0.618           0.035    27    37   \n",
      "1          0.411  198  432   0.458    0.493           0.307   168   322   \n",
      "2          0.491  227  516   0.440    0.474           0.375   192   394   \n",
      "\n",
      "   FG2_PCT  FG3A_FREQUENCY  FG3M  FG3A  FG3_PCT  \n",
      "0    0.730           0.062    24    65    0.369  \n",
      "1    0.522           0.105    30   110    0.273  \n",
      "2    0.487           0.116    35   122    0.287  \n",
      "Index(['PLAYER_ID', 'PLAYER_NAME_LAST_FIRST', 'SORT_ORDER', 'GP', 'G',\n",
      "       'TOUCH_TIME_RANGE', 'FGA_FREQUENCY', 'FGM', 'FGA', 'FG_PCT', 'EFG_PCT',\n",
      "       'FG2A_FREQUENCY', 'FG2M', 'FG2A', 'FG2_PCT', 'FG3A_FREQUENCY', 'FG3M',\n",
      "       'FG3A', 'FG3_PCT'],\n",
      "      dtype='object')\n"
     ]
    }
   ],
   "source": [
    "from nba_api.stats.endpoints import playerdashptshots\n",
    "result = playerdashptshots.PlayerDashPtShots(player_id = 1628983, team_id = 1610612760).get_data_frames()[6]\n",
    "print(result.head())\n",
    "print(result.columns)"
   ]
  },
  {
   "cell_type": "code",
   "execution_count": 79,
   "id": "1cccc992",
   "metadata": {
    "scrolled": true
   },
   "outputs": [
    {
     "name": "stdout",
     "output_type": "stream",
     "text": [
      "           GRID_TYPE     GAME_ID  GAME_EVENT_ID  PLAYER_ID  \\\n",
      "0  Shot Chart Detail  0021900011             90    1628983   \n",
      "1  Shot Chart Detail  0021900011            243    1628983   \n",
      "2  Shot Chart Detail  0021900011            314    1628983   \n",
      "3  Shot Chart Detail  0021900011            320    1628983   \n",
      "4  Shot Chart Detail  0021900011            324    1628983   \n",
      "\n",
      "               PLAYER_NAME     TEAM_ID              TEAM_NAME  PERIOD  \\\n",
      "0  Shai Gilgeous-Alexander  1610612760  Oklahoma City Thunder       1   \n",
      "1  Shai Gilgeous-Alexander  1610612760  Oklahoma City Thunder       2   \n",
      "2  Shai Gilgeous-Alexander  1610612760  Oklahoma City Thunder       2   \n",
      "3  Shai Gilgeous-Alexander  1610612760  Oklahoma City Thunder       2   \n",
      "4  Shai Gilgeous-Alexander  1610612760  Oklahoma City Thunder       2   \n",
      "\n",
      "   MINUTES_REMAINING  SECONDS_REMAINING  ...        SHOT_ZONE_AREA  \\\n",
      "0                  5                 40  ...             Center(C)   \n",
      "1                  7                 20  ...         Right Side(R)   \n",
      "2                  3                  9  ...             Center(C)   \n",
      "3                  2                 49  ...             Center(C)   \n",
      "4                  2                 17  ...  Left Side Center(LC)   \n",
      "\n",
      "   SHOT_ZONE_RANGE SHOT_DISTANCE LOC_X LOC_Y SHOT_ATTEMPTED_FLAG  \\\n",
      "0  Less Than 8 ft.             4    36    20                   1   \n",
      "1          24+ ft.            23   236     3                   1   \n",
      "2  Less Than 8 ft.             5    45    26                   1   \n",
      "3  Less Than 8 ft.             2   -21     4                   1   \n",
      "4          24+ ft.            24   -96   225                   1   \n",
      "\n",
      "   SHOT_MADE_FLAG  GAME_DATE  HTM  VTM  \n",
      "0               1   20191023  UTA  OKC  \n",
      "1               1   20191023  UTA  OKC  \n",
      "2               1   20191023  UTA  OKC  \n",
      "3               1   20191023  UTA  OKC  \n",
      "4               1   20191023  UTA  OKC  \n",
      "\n",
      "[5 rows x 24 columns]\n",
      "Index(['GRID_TYPE', 'GAME_ID', 'GAME_EVENT_ID', 'PLAYER_ID', 'PLAYER_NAME',\n",
      "       'TEAM_ID', 'TEAM_NAME', 'PERIOD', 'MINUTES_REMAINING',\n",
      "       'SECONDS_REMAINING', 'EVENT_TYPE', 'ACTION_TYPE', 'SHOT_TYPE',\n",
      "       'SHOT_ZONE_BASIC', 'SHOT_ZONE_AREA', 'SHOT_ZONE_RANGE', 'SHOT_DISTANCE',\n",
      "       'LOC_X', 'LOC_Y', 'SHOT_ATTEMPTED_FLAG', 'SHOT_MADE_FLAG', 'GAME_DATE',\n",
      "       'HTM', 'VTM'],\n",
      "      dtype='object')\n"
     ]
    }
   ],
   "source": [
    "# averages all say 100%  [1]\n",
    "\n",
    "# goldsberry shot charts here https://savvastjortjoglou.com/nba-shot-sharts.html\n",
    "\n",
    "from nba_api.stats.endpoints import shotchartdetail\n",
    "r = shotchartdetail.ShotChartDetail(player_id = 1628983, team_id = 1610612760).get_data_frames()[0]\n",
    "print(r.head(5))\n",
    "print(r.columns)"
   ]
  },
  {
   "cell_type": "code",
   "execution_count": 81,
   "id": "66cd5334",
   "metadata": {
    "scrolled": true
   },
   "outputs": [
    {
     "name": "stdout",
     "output_type": "stream",
     "text": [
      "  EVENT_TYPE                 ACTION_TYPE       SHOT_TYPE  \\\n",
      "0  Made Shot          Driving Layup Shot  2PT Field Goal   \n",
      "1  Made Shot                   Jump Shot  3PT Field Goal   \n",
      "2  Made Shot          Driving Layup Shot  2PT Field Goal   \n",
      "3  Made Shot  Driving Reverse Layup Shot  2PT Field Goal   \n",
      "4  Made Shot                   Jump Shot  3PT Field Goal   \n",
      "\n",
      "         SHOT_ZONE_BASIC  \n",
      "0  In The Paint (Non-RA)  \n",
      "1         Right Corner 3  \n",
      "2  In The Paint (Non-RA)  \n",
      "3        Restricted Area  \n",
      "4      Above the Break 3  \n"
     ]
    }
   ],
   "source": [
    "print(r[['EVENT_TYPE', 'ACTION_TYPE', 'SHOT_TYPE', 'SHOT_ZONE_BASIC']].head())"
   ]
  },
  {
   "cell_type": "code",
   "execution_count": 96,
   "id": "e8b500f4",
   "metadata": {
    "scrolled": true
   },
   "outputs": [
    {
     "name": "stdout",
     "output_type": "stream",
     "text": [
      "           GRID_TYPE     GAME_ID  GAME_EVENT_ID  \\\n",
      "0  Shot Chart Detail  0022100038            606   \n",
      "1  Shot Chart Detail  0022100051             43   \n",
      "2  Shot Chart Detail  0022100051            316   \n",
      "3  Shot Chart Detail  0022100051            348   \n",
      "4  Shot Chart Detail  0022100086             13   \n",
      "\n",
      "                                    GROUP_ID  \\\n",
      "0  -1628983-1629647-1629652-1630526-1630581-   \n",
      "1  -1628983-1629647-1629652-1630526-1630581-   \n",
      "2  -1628983-1629647-1629652-1630526-1630581-   \n",
      "3  -1628983-1629647-1629652-1630526-1630581-   \n",
      "4  -1628983-1629647-1629652-1630526-1630581-   \n",
      "\n",
      "                                          GROUP_NAME  PLAYER_ID  \\\n",
      "0  S. Gilgeous-Alexander - D. Bazley - L. Dort - ...    1630581   \n",
      "1  S. Gilgeous-Alexander - D. Bazley - L. Dort - ...    1628983   \n",
      "2  S. Gilgeous-Alexander - D. Bazley - L. Dort - ...    1630581   \n",
      "3  S. Gilgeous-Alexander - D. Bazley - L. Dort - ...    1629647   \n",
      "4  S. Gilgeous-Alexander - D. Bazley - L. Dort - ...    1630581   \n",
      "\n",
      "               PLAYER_NAME     TEAM_ID              TEAM_NAME  PERIOD  ...  \\\n",
      "0              Josh Giddey  1610612760  Oklahoma City Thunder       4  ...   \n",
      "1  Shai Gilgeous-Alexander  1610612760  Oklahoma City Thunder       1  ...   \n",
      "2              Josh Giddey  1610612760  Oklahoma City Thunder       2  ...   \n",
      "3            Darius Bazley  1610612760  Oklahoma City Thunder       3  ...   \n",
      "4              Josh Giddey  1610612760  Oklahoma City Thunder       1  ...   \n",
      "\n",
      "          SHOT_ZONE_AREA  SHOT_ZONE_RANGE SHOT_DISTANCE LOC_X LOC_Y  \\\n",
      "0  Right Side Center(RC)          24+ ft.            32   113   309   \n",
      "1              Center(C)  Less Than 8 ft.             7    50    60   \n",
      "2           Left Side(L)        16-24 ft.            16  -167   -19   \n",
      "3          Right Side(R)        16-24 ft.            16   138    88   \n",
      "4           Left Side(L)         8-16 ft.             9   -66    64   \n",
      "\n",
      "  SHOT_ATTEMPTED_FLAG SHOT_MADE_FLAG GAME_DATE  HTM  VTM  \n",
      "0                   1              0  20211024  OKC  PHI  \n",
      "1                   1              0  20211026  OKC  GSW  \n",
      "2                   1              0  20211026  OKC  GSW  \n",
      "3                   1              0  20211026  OKC  GSW  \n",
      "4                   1              0  20211030  GSW  OKC  \n",
      "\n",
      "[5 rows x 26 columns]\n",
      "Index(['GRID_TYPE', 'GAME_ID', 'GAME_EVENT_ID', 'GROUP_ID', 'GROUP_NAME',\n",
      "       'PLAYER_ID', 'PLAYER_NAME', 'TEAM_ID', 'TEAM_NAME', 'PERIOD',\n",
      "       'MINUTES_REMAINING', 'SECONDS_REMAINING', 'EVENT_TYPE', 'ACTION_TYPE',\n",
      "       'SHOT_TYPE', 'SHOT_ZONE_BASIC', 'SHOT_ZONE_AREA', 'SHOT_ZONE_RANGE',\n",
      "       'SHOT_DISTANCE', 'LOC_X', 'LOC_Y', 'SHOT_ATTEMPTED_FLAG',\n",
      "       'SHOT_MADE_FLAG', 'GAME_DATE', 'HTM', 'VTM'],\n",
      "      dtype='object')\n"
     ]
    }
   ],
   "source": [
    "from nba_api.stats.endpoints import shotchartlineupdetail\n",
    "t = shotchartlineupdetail.ShotChartLineupDetail(group_id = '-1628983-1629647-1629652-1630526-1630581-',\n",
    "                                               context_measure_detailed = 'STL').get_data_frames()[0]\n",
    "print(t.head(5))\n",
    "print(t.columns)"
   ]
  },
  {
   "cell_type": "code",
   "execution_count": 99,
   "id": "f7c3d0a0",
   "metadata": {},
   "outputs": [
    {
     "name": "stdout",
     "output_type": "stream",
     "text": [
      "      TEAM_ID              TEAM_NAME TEAM_ABBREVIATION  GP   G  FGA_FREQUENCY  \\\n",
      "0  1610612760  Oklahoma City Thunder               OKC  82  82            1.0   \n",
      "\n",
      "    FGM   FGA  FG_PCT  EFG_PCT  FG2A_FREQUENCY  FG2M  FG2A  FG2_PCT  \\\n",
      "0  3396  7418   0.458    0.533           0.573  2278  4249    0.536   \n",
      "\n",
      "   FG3A_FREQUENCY  FG3M  FG3A  FG3_PCT  \n",
      "0           0.427  1118  3169    0.353  \n",
      "Index(['TEAM_ID', 'TEAM_NAME', 'TEAM_ABBREVIATION', 'GP', 'G', 'FGA_FREQUENCY',\n",
      "       'FGM', 'FGA', 'FG_PCT', 'EFG_PCT', 'FG2A_FREQUENCY', 'FG2M', 'FG2A',\n",
      "       'FG2_PCT', 'FG3A_FREQUENCY', 'FG3M', 'FG3A', 'FG3_PCT'],\n",
      "      dtype='object')\n"
     ]
    }
   ],
   "source": [
    "from nba_api.stats.endpoints import leaguedashoppptshot\n",
    "l = leaguedashoppptshot.LeagueDashOppPtShot(team_id_nullable = 1610612760).get_data_frames()[0]\n",
    "print(l.head(5))\n",
    "print(l.columns)\n",
    "\n",
    "# https://github.com/swar/nba_api/blob/master/docs/nba_api/stats/endpoints/leaguedashoppptshot.md NULLABLE PARAMETERS closedefdist\n"
   ]
  },
  {
   "cell_type": "code",
   "execution_count": 129,
   "id": "094012ef",
   "metadata": {
    "scrolled": true
   },
   "outputs": [
    {
     "name": "stdout",
     "output_type": "stream",
     "text": [
      "      TEAM_ID      TEAM_NAME  SORT_ORDER  G        SHOT_TYPE  FGA_FREQUENCY  \\\n",
      "0  1610612751  Brooklyn Nets           1  2           Totals          1.000   \n",
      "1  1610612751  Brooklyn Nets           2  2  Catch and Shoot          0.267   \n",
      "2  1610612751  Brooklyn Nets           3  2          Pullups          0.339   \n",
      "3  1610612751  Brooklyn Nets           4  2  Less than 10 ft          0.383   \n",
      "\n",
      "   FGM  FGA  FG_PCT  EFG_PCT  FG2A_FREQUENCY  FG2M  FG2A  FG2_PCT  \\\n",
      "0   82  180   0.456    0.525           0.583    57   105    0.543   \n",
      "1   19   48   0.396    0.563           0.028     3     5    0.600   \n",
      "2   25   61   0.410    0.484           0.167    16    30    0.533   \n",
      "3   37   69   0.536    0.536           0.383    37    69    0.536   \n",
      "\n",
      "   FG3A_FREQUENCY  FG3M  FG3A  FG3_PCT  \n",
      "0           0.417    25    75    0.333  \n",
      "1           0.239    16    43    0.372  \n",
      "2           0.172     9    31    0.290  \n",
      "3           0.000     0     0      NaN  \n",
      "Index(['TEAM_ID', 'TEAM_NAME', 'SORT_ORDER', 'G', 'SHOT_TYPE', 'FGA_FREQUENCY',\n",
      "       'FGM', 'FGA', 'FG_PCT', 'EFG_PCT', 'FG2A_FREQUENCY', 'FG2M', 'FG2A',\n",
      "       'FG2_PCT', 'FG3A_FREQUENCY', 'FG3M', 'FG3A', 'FG3_PCT'],\n",
      "      dtype='object')\n",
      "(4, 18)\n"
     ]
    }
   ],
   "source": [
    "from nba_api.stats.endpoints import teamdashptshots\n",
    "l = teamdashptshots.TeamDashPtShots(opponent_team_id = 1610612760, team_id = (1610612737 | 1610612738 | 1610612739 | 1610612740 | 1610612741 | 1610612742 | 1610612743 | 1610612744 | 1610612745 | 1610612746)).get_data_frames()[0]\n",
    "print(l.head(5))\n",
    "print(l.columns)\n",
    "print(l.shape)"
   ]
  },
  {
   "cell_type": "code",
   "execution_count": 113,
   "id": "c2dbbd2b",
   "metadata": {},
   "outputs": [
    {
     "name": "stdout",
     "output_type": "stream",
     "text": [
      "[0, 1, 2, 3, 4, 5]\n"
     ]
    }
   ],
   "source": [
    "num_list = [0,1,2,3,4,5]\n",
    "print(num_list)"
   ]
  },
  {
   "cell_type": "code",
   "execution_count": 9,
   "id": "10d2c244",
   "metadata": {},
   "outputs": [
    {
     "name": "stdout",
     "output_type": "stream",
     "text": [
      "[]\n",
      "            id               full_name\n",
      "0   1610612737           Atlanta Hawks\n",
      "1   1610612738          Boston Celtics\n",
      "2   1610612739     Cleveland Cavaliers\n",
      "3   1610612740    New Orleans Pelicans\n",
      "4   1610612741           Chicago Bulls\n",
      "5   1610612742        Dallas Mavericks\n",
      "6   1610612743          Denver Nuggets\n",
      "7   1610612744   Golden State Warriors\n",
      "8   1610612745         Houston Rockets\n",
      "9   1610612746    Los Angeles Clippers\n",
      "10  1610612747      Los Angeles Lakers\n",
      "11  1610612748              Miami Heat\n",
      "12  1610612749         Milwaukee Bucks\n",
      "13  1610612750  Minnesota Timberwolves\n",
      "14  1610612751           Brooklyn Nets\n",
      "15  1610612752         New York Knicks\n",
      "16  1610612753           Orlando Magic\n",
      "17  1610612754          Indiana Pacers\n",
      "18  1610612755      Philadelphia 76ers\n",
      "19  1610612756            Phoenix Suns\n",
      "20  1610612757  Portland Trail Blazers\n",
      "21  1610612758        Sacramento Kings\n",
      "22  1610612759       San Antonio Spurs\n",
      "23  1610612760   Oklahoma City Thunder\n",
      "24  1610612761         Toronto Raptors\n",
      "25  1610612762               Utah Jazz\n",
      "26  1610612763       Memphis Grizzlies\n",
      "27  1610612764      Washington Wizards\n",
      "28  1610612765         Detroit Pistons\n",
      "29  1610612766       Charlotte Hornets\n"
     ]
    }
   ],
   "source": [
    "import pandas as pd\n",
    "from nba_api.stats.static import teams\n",
    "team_dict = teams.get_teams()\n",
    "#print(pd.DataFrame(team_dict))\n",
    "\n",
    "id_team_name = pd.DataFrame(team_dict)[['id', 'full_name']]\n",
    "#print(id_team_name)\n",
    "\n",
    "num_list = [0,1,2,3,4,5]\n",
    "\n",
    "team_shot_df = []\n",
    "\n",
    "\n",
    "for i in id_team_name['id']:\n",
    "    for j in num_list:\n",
    "        df = teamdashptshots.TeamDashPtShots(team_id = i, season='2021-22').get_data_frames()[j]\n",
    "        df['dataset'] = j\n",
    "        team_shot_df.append(df)\n",
    "\n",
    "# for i in id_team_name['id']:\n",
    "#     for j in num_list:\n",
    "#         print(i)\n",
    "#         print(j)\n",
    "print(team_shot_df)\n"
   ]
  },
  {
   "cell_type": "code",
   "execution_count": 131,
   "id": "12e92fe7",
   "metadata": {},
   "outputs": [
    {
     "name": "stdout",
     "output_type": "stream",
     "text": [
      "      TEAM_ID      TEAM_NAME  SORT_ORDER   G        SHOT_TYPE  FGA_FREQUENCY  \\\n",
      "0  1610612737  Atlanta Hawks           1  82           Totals          1.000   \n",
      "1  1610612737  Atlanta Hawks           2  82  Catch and Shoot          0.267   \n",
      "2  1610612737  Atlanta Hawks           3  82          Pullups          0.319   \n",
      "3  1610612737  Atlanta Hawks           4  82  Less than 10 ft          0.399   \n",
      "0  1610612737  Atlanta Hawks           1  82              NaN          0.033   \n",
      "\n",
      "    FGM   FGA  FG_PCT  EFG_PCT  ...  FG2_PCT  FG3A_FREQUENCY  FG3M  FG3A  \\\n",
      "0  3401  7239   0.470    0.543  ...    0.531           0.390  1056  2822   \n",
      "1   768  1932   0.398    0.575  ...    0.454           0.241   684  1747   \n",
      "2   922  2307   0.400    0.476  ...    0.440           0.140   354  1015   \n",
      "3  1665  2885   0.577    0.577  ...    0.577           0.000     0     0   \n",
      "0   120   236   0.508    0.521  ...    0.514           0.002     6    14   \n",
      "\n",
      "   FG3_PCT  dataset  SHOT_CLOCK_RANGE  DRIBBLE_RANGE  CLOSE_DEF_DIST_RANGE  \\\n",
      "0    0.374        0               NaN            NaN                   NaN   \n",
      "1    0.392        0               NaN            NaN                   NaN   \n",
      "2    0.349        0               NaN            NaN                   NaN   \n",
      "3      NaN        0               NaN            NaN                   NaN   \n",
      "0    0.429        1             24-22            NaN                   NaN   \n",
      "\n",
      "  TOUCH_TIME_RANGE  \n",
      "0              NaN  \n",
      "1              NaN  \n",
      "2              NaN  \n",
      "3              NaN  \n",
      "0              NaN  \n",
      "\n",
      "[5 rows x 23 columns]\n"
     ]
    }
   ],
   "source": [
    "tm_shot_df = pd.concat(team_shot_df, axis=0)\n",
    "print(tm_shot_df.head())"
   ]
  },
  {
   "cell_type": "code",
   "execution_count": 195,
   "id": "698e72de",
   "metadata": {},
   "outputs": [],
   "source": [
    "tm_shot_df.to_csv('tm_shot_df.csv')"
   ]
  },
  {
   "cell_type": "code",
   "execution_count": 120,
   "id": "19baea94",
   "metadata": {
    "scrolled": true
   },
   "outputs": [
    {
     "name": "stdout",
     "output_type": "stream",
     "text": [
      "0     1610612737\n",
      "1     1610612738\n",
      "2     1610612739\n",
      "3     1610612740\n",
      "4     1610612741\n",
      "5     1610612742\n",
      "6     1610612743\n",
      "7     1610612744\n",
      "8     1610612745\n",
      "9     1610612746\n",
      "10    1610612747\n",
      "11    1610612748\n",
      "12    1610612749\n",
      "13    1610612750\n",
      "14    1610612751\n",
      "15    1610612752\n",
      "16    1610612753\n",
      "17    1610612754\n",
      "18    1610612755\n",
      "19    1610612756\n",
      "20    1610612757\n",
      "21    1610612758\n",
      "22    1610612759\n",
      "23    1610612760\n",
      "24    1610612761\n",
      "25    1610612762\n",
      "26    1610612763\n",
      "27    1610612764\n",
      "28    1610612765\n",
      "29    1610612766\n",
      "Name: id, dtype: int64\n"
     ]
    }
   ],
   "source": [
    "print(id_team_name['id'])"
   ]
  },
  {
   "cell_type": "code",
   "execution_count": 185,
   "id": "94be5554",
   "metadata": {},
   "outputs": [
    {
     "name": "stdout",
     "output_type": "stream",
     "text": [
      "                                    GROUP_ID\n",
      "0  -1628983-1629647-1629652-1630526-1630581-\n",
      "1  -1628983-1629652-1630526-1630581-1630598-\n",
      "2   -202324-1628983-1629647-1629652-1630581-\n",
      "3  -1628982-1629658-1630249-1630285-1630686-\n",
      "4  -1628983-1629647-1629676-1630544-1630598-\n"
     ]
    }
   ],
   "source": [
    "a = pd.read_csv(\"C:\\\\Users\\\\richd\\\\456 Sports Analytics Quarter\\\\okc_group_id.csv\")\n",
    "print(a.head())"
   ]
  },
  {
   "cell_type": "code",
   "execution_count": 206,
   "id": "95ea87ca",
   "metadata": {
    "scrolled": true
   },
   "outputs": [
    {
     "name": "stdout",
     "output_type": "stream",
     "text": [
      "SHOT_CATEGORY                                                                  \\\n",
      "columns       PLAYER_ID             PLAYER_NAME     TEAM_ID TEAM_ABBREVIATION   \n",
      "0               1630598           Aaron Wiggins  1610612760               OKC   \n",
      "1               1630197     Alekesej Pokusevski  1610612760               OKC   \n",
      "2               1629647           Darius Bazley  1610612760               OKC   \n",
      "3                202324          Derrick Favors  1610612760               OKC   \n",
      "4               1630466            Gabriel Deck  1610612760               OKC   \n",
      "5               1630686    Georgios Kalaitzakis  1610612760               OKC   \n",
      "6               1629676             Isaiah Roby  1610612760               OKC   \n",
      "7               1629658            Jaylen Hoard  1610612760               OKC   \n",
      "8               1630526  Jeremiah Robinson-Earl  1610612760               OKC   \n",
      "9               1630581             Josh Giddey  1610612760               OKC   \n",
      "10              1629026        Kenrich Williams  1610612760               OKC   \n",
      "11              1630322        Lindy Waters III  1610612760               OKC   \n",
      "12              1629652           Luguentz Dort  1610612760               OKC   \n",
      "13              1629603          Mamadi Diakite  1610612760               OKC   \n",
      "14              1628982      Melvin Frazier Jr.  1610612760               OKC   \n",
      "15               203488            Mike Muscala  1610612760               OKC   \n",
      "16              1630846            Olivier Sarr  1610612760               OKC   \n",
      "17              1628778             Paul Watson  1610612760               OKC   \n",
      "18              1630306             Rob Edwards  1610612760               OKC   \n",
      "19               203816           Scotty Hopson  1610612760               OKC   \n",
      "\n",
      "SHOT_CATEGORY                 Restricted Area              \\\n",
      "columns         AGE  NICKNAME             FGM  FGA FG_PCT   \n",
      "0              23.0     Aaron              71  110  0.645   \n",
      "1              20.0  Alekesej              79  119  0.664   \n",
      "2              22.0    Darius             146  251  0.582   \n",
      "3              30.0   Derrick              45   69  0.652   \n",
      "4              27.0   Gabriel               3    5  0.600   \n",
      "5              23.0  Georgios              13   20  0.650   \n",
      "6              24.0    Isaiah              91  134  0.679   \n",
      "7              23.0    Jaylen              25   36  0.694   \n",
      "8              21.0  Jeremiah              56   96  0.583   \n",
      "9              19.0      Josh             106  183  0.579   \n",
      "10             27.0   Kenrich              62   98  0.633   \n",
      "11             24.0     Lindy              10   14  0.714   \n",
      "12             23.0  Luguentz              99  181  0.547   \n",
      "13             25.0    Mamadi              14   23  0.609   \n",
      "14             25.0    Melvin              11   19  0.579   \n",
      "15             30.0      Mike              26   40  0.650   \n",
      "16             23.0   Olivier              25   38  0.658   \n",
      "17             27.0      Paul               3    4  0.750   \n",
      "18             25.0       Rob               0    0  0.000   \n",
      "19             32.0    Scotty               0    0  0.000   \n",
      "\n",
      "SHOT_CATEGORY In The Paint (Non-RA)  ... Right Corner 3 Above the Break 3  \\\n",
      "columns                         FGM  ...         FG_PCT               FGM   \n",
      "0                                39  ...          0.261                25   \n",
      "1                                37  ...          0.286                43   \n",
      "2                                44  ...          0.237                56   \n",
      "3                                23  ...          0.125                 1   \n",
      "4                                 2  ...          1.000                 0   \n",
      "5                                 4  ...          0.333                 7   \n",
      "6                                24  ...          0.556                31   \n",
      "7                                 8  ...          0.500                 5   \n",
      "8                                12  ...          0.467                42   \n",
      "9                                94  ...          0.600                42   \n",
      "10                               25  ...          0.400                25   \n",
      "11                                6  ...          0.417                41   \n",
      "12                               53  ...          0.471               104   \n",
      "13                               10  ...          0.000                 0   \n",
      "14                                1  ...          0.000                 0   \n",
      "15                                8  ...          0.333                60   \n",
      "16                               15  ...          0.333                12   \n",
      "17                                3  ...          0.200                 3   \n",
      "18                                0  ...          0.000                 1   \n",
      "19                                0  ...          0.000                 0   \n",
      "\n",
      "SHOT_CATEGORY             Backcourt             Corner 3             \n",
      "columns        FGA FG_PCT       FGM  FGA FG_PCT      FGM FGA FG_PCT  \n",
      "0               84  0.298       0.0  0.0    0.0       17  53  0.321  \n",
      "1              155  0.277       0.0  0.0    0.0       14  42  0.333  \n",
      "2              197  0.284       0.0  1.0    0.0       24  71  0.338  \n",
      "3                2  0.500       0.0  0.0    0.0        1  14  0.071  \n",
      "4                2  0.000       0.0  0.0    0.0        2   2  1.000  \n",
      "5               18  0.389       0.0  0.0    0.0        1   4  0.250  \n",
      "6               72  0.431       0.0  0.0    0.0       13  27  0.481  \n",
      "7               17  0.294       0.0  0.0    0.0        4   8  0.500  \n",
      "8              119  0.353       0.0  0.0    0.0       16  46  0.348  \n",
      "9              169  0.249       0.0  0.0    0.0       14  43  0.326  \n",
      "10              75  0.333       0.0  1.0    0.0       16  45  0.356  \n",
      "11             107  0.383       0.0  0.0    0.0       11  38  0.289  \n",
      "12             330  0.315       0.0  1.0    0.0       26  60  0.433  \n",
      "13               3  0.000       0.0  0.0    0.0        0   2  0.000  \n",
      "14               5  0.000       0.0  0.0    0.0        1  15  0.067  \n",
      "15             134  0.448       0.0  0.0    0.0       10  29  0.345  \n",
      "16              22  0.545       0.0  0.0    0.0        1   7  0.143  \n",
      "17              14  0.214       0.0  0.0    0.0        3  12  0.250  \n",
      "18               2  0.500       NaN  NaN    NaN        0   2  0.000  \n",
      "19               1  0.000       0.0  0.0    0.0        0   0  0.000  \n",
      "\n",
      "[20 rows x 30 columns]\n",
      "SHOT_CATEGORY                                        Restricted Area  \\\n",
      "columns           PLAYER_ID       TEAM_ID        AGE             FGM   \n",
      "count          2.600000e+01  2.600000e+01  26.000000       26.000000   \n",
      "mean           1.465349e+06  1.610613e+09  24.192308       46.230769   \n",
      "std            4.648590e+05  0.000000e+00   3.149847       48.824836   \n",
      "min            2.023240e+05  1.610613e+09  19.000000        0.000000   \n",
      "25%            1.629170e+06  1.610613e+09  22.250000       11.500000   \n",
      "50%            1.629926e+06  1.610613e+09  23.500000       25.500000   \n",
      "75%            1.630430e+06  1.610613e+09  25.000000       68.750000   \n",
      "max            1.630846e+06  1.610613e+09  32.000000      195.000000   \n",
      "\n",
      "SHOT_CATEGORY                        In The Paint (Non-RA)              \\\n",
      "columns               FGA     FG_PCT                   FGM         FGA   \n",
      "count           26.000000  26.000000             26.000000   26.000000   \n",
      "mean            76.576923   0.567808             27.692308   64.230769   \n",
      "std             81.062530   0.180849             32.886191   74.933735   \n",
      "min              0.000000   0.000000              0.000000    0.000000   \n",
      "25%             19.250000   0.555000              6.500000   12.250000   \n",
      "50%             39.000000   0.614000             13.500000   31.000000   \n",
      "75%            107.000000   0.656500             41.250000   94.000000   \n",
      "max            315.000000   0.750000            141.000000  321.000000   \n",
      "\n",
      "SHOT_CATEGORY             Mid-Range  ... Right Corner 3 Above the Break 3  \\\n",
      "columns           FG_PCT        FGM  ...         FG_PCT               FGM   \n",
      "count          26.000000  26.000000  ...      26.000000         26.000000   \n",
      "mean            0.423654   8.807692  ...       0.327462         29.307692   \n",
      "std             0.195255  11.784801  ...       0.232103         29.212010   \n",
      "min             0.000000   0.000000  ...       0.000000          0.000000   \n",
      "25%             0.348750   1.250000  ...       0.205500          1.500000   \n",
      "50%             0.440500   4.000000  ...       0.333000         25.000000   \n",
      "75%             0.500000  10.500000  ...       0.464000         42.000000   \n",
      "max             1.000000  52.000000  ...       1.000000        104.000000   \n",
      "\n",
      "SHOT_CATEGORY                        Backcourt                     Corner 3  \\\n",
      "columns               FGA     FG_PCT       FGM        FGA FG_PCT        FGM   \n",
      "count           26.000000  26.000000      25.0  25.000000   25.0  26.000000   \n",
      "mean            91.692308   0.287462       0.0   0.360000    0.0   8.769231   \n",
      "std             92.350103   0.154942       0.0   0.860233    0.0   7.809265   \n",
      "min              1.000000   0.000000       0.0   0.000000    0.0   0.000000   \n",
      "25%              9.500000   0.253750       0.0   0.000000    0.0   1.000000   \n",
      "50%             75.500000   0.300500       0.0   0.000000    0.0   9.000000   \n",
      "75%            148.250000   0.377250       0.0   0.000000    0.0  14.000000   \n",
      "max            330.000000   0.545000       0.0   4.000000    0.0  26.000000   \n",
      "\n",
      "SHOT_CATEGORY                        \n",
      "columns              FGA     FG_PCT  \n",
      "count          26.000000  26.000000  \n",
      "mean           25.730769   0.294423  \n",
      "std            20.428525   0.213087  \n",
      "min             0.000000   0.000000  \n",
      "25%             7.250000   0.160750  \n",
      "50%            26.000000   0.329500  \n",
      "75%            42.750000   0.386250  \n",
      "max            71.000000   1.000000  \n",
      "\n",
      "[8 rows x 27 columns]\n"
     ]
    }
   ],
   "source": [
    "from nba_api.stats.endpoints import leaguedashplayershotlocations\n",
    "l = leaguedashplayershotlocations.LeagueDashPlayerShotLocations(team_id_nullable = 1610612760 ).get_data_frames()[0]   # , player_id = '1628983'\n",
    "print(l.head(20))\n",
    "print(l.describe())"
   ]
  },
  {
   "cell_type": "code",
   "execution_count": 204,
   "id": "d07a29a0",
   "metadata": {
    "scrolled": true
   },
   "outputs": [
    {
     "name": "stdout",
     "output_type": "stream",
     "text": [
      "MultiIndex([(                     '',         'PLAYER_ID'),\n",
      "            (                     '',       'PLAYER_NAME'),\n",
      "            (                     '',           'TEAM_ID'),\n",
      "            (                     '', 'TEAM_ABBREVIATION'),\n",
      "            (                     '',               'AGE'),\n",
      "            (                     '',          'NICKNAME'),\n",
      "            (      'Restricted Area',               'FGM'),\n",
      "            (      'Restricted Area',               'FGA'),\n",
      "            (      'Restricted Area',            'FG_PCT'),\n",
      "            ('In The Paint (Non-RA)',               'FGM'),\n",
      "            ('In The Paint (Non-RA)',               'FGA'),\n",
      "            ('In The Paint (Non-RA)',            'FG_PCT'),\n",
      "            (            'Mid-Range',               'FGM'),\n",
      "            (            'Mid-Range',               'FGA'),\n",
      "            (            'Mid-Range',            'FG_PCT'),\n",
      "            (        'Left Corner 3',               'FGM'),\n",
      "            (        'Left Corner 3',               'FGA'),\n",
      "            (        'Left Corner 3',            'FG_PCT'),\n",
      "            (       'Right Corner 3',               'FGM'),\n",
      "            (       'Right Corner 3',               'FGA'),\n",
      "            (       'Right Corner 3',            'FG_PCT'),\n",
      "            (    'Above the Break 3',               'FGM'),\n",
      "            (    'Above the Break 3',               'FGA'),\n",
      "            (    'Above the Break 3',            'FG_PCT'),\n",
      "            (            'Backcourt',               'FGM'),\n",
      "            (            'Backcourt',               'FGA'),\n",
      "            (            'Backcourt',            'FG_PCT'),\n",
      "            (             'Corner 3',               'FGM'),\n",
      "            (             'Corner 3',               'FGA'),\n",
      "            (             'Corner 3',            'FG_PCT')],\n",
      "           names=['SHOT_CATEGORY', 'columns'])\n"
     ]
    }
   ],
   "source": [
    "# print(l['SHOT_ATTEMPTED_FLAG'].sum())\n",
    "# print(l['SHOT_MADE_FLAG'].sum())\n",
    "print(l.columns)"
   ]
  },
  {
   "cell_type": "code",
   "execution_count": 6,
   "id": "dc36baf4",
   "metadata": {},
   "outputs": [],
   "source": [
    "from nba_api.stats.endpoints import leaguelineupviz\n",
    "s = leaguelineupviz.LeagueLineupViz(team_id_nullable = 1610612760, measure_type_detailed_defense = 'Four Factors', minutes_min = 20 ).get_data_frames()[0]   # , player_id = '1628983'\n",
    "s = s[s['TEAM_ABBREVIATION'] == 'OKC' ]\n"
   ]
  },
  {
   "cell_type": "code",
   "execution_count": null,
   "id": "689784b9",
   "metadata": {},
   "outputs": [],
   "source": []
  },
  {
   "cell_type": "code",
   "execution_count": 3,
   "id": "0162ad2a",
   "metadata": {},
   "outputs": [
    {
     "data": {
      "image/png": "[encoded data removed]",
      "text/plain": [
       "<Figure size 500x500 with 1 Axes>"
      ]
     },
     "metadata": {},
     "output_type": "display_data"
    }
   ],
   "source": [
    "df = pd.read_csv(\"C:\\\\Users\\\\richd\\\\456 Sports Analytics Quarter\\\\shooting.csv\")\n",
    " \n",
    "# Use the 'hue' argument to provide a factor variable\n",
    "\n",
    "hue_order = ['Top 10', 'Middle 10', 'Bottom 10', 'OKC']\n",
    "sns.lmplot(x=\"Open 4+ ft\", y=\"EFG\", data=df, fit_reg=False, hue='Tier', legend=False, hue_order=hue_order)\n",
    "\n",
    "# Move the legend to an empty part of the plot\n",
    "plt.legend(loc='lower left')\n",
    "\n",
    "plt.show()\n"
   ]
  },
  {
   "cell_type": "code",
   "execution_count": 7,
   "id": "a9ac6e8f",
   "metadata": {},
   "outputs": [
    {
     "name": "stdout",
     "output_type": "stream",
     "text": [
      "         id          full_name first_name last_name  is_active\n",
      "10  1630173   Precious Achiuwa   Precious   Achiuwa       True\n",
      "22   203500       Steven Adams     Steven     Adams       True\n",
      "24  1628389        Bam Adebayo        Bam   Adebayo       True\n",
      "40  1630583       Santi Aldama      Santi    Aldama       True\n",
      "43   200746  LaMarcus Aldridge   LaMarcus  Aldridge       True\n",
      "\n"
     ]
    }
   ],
   "source": [
    "from nba_api.stats.static import teams\n",
    "team_dict = teams.get_teams()\n",
    "id_teams = pd.DataFrame(team_dict)\n",
    "#print(pd.DataFrame(team_dict))\n",
    "\n",
    "from nba_api.stats.static import players\n",
    "player_dict = players.get_players()\n",
    "id_players = pd.DataFrame(player_dict)\n",
    "id_players = id_players[id_players['is_active'] == True]\n",
    "\n",
    "print(id_players.head())\n",
    "print()"
   ]
  },
  {
   "cell_type": "code",
   "execution_count": 8,
   "id": "60dfc0f8",
   "metadata": {},
   "outputs": [
    {
     "name": "stdout",
     "output_type": "stream",
     "text": [
      "       TeamID SEASON LeagueID            PLAYER NICKNAME       PLAYER_SLUG  \\\n",
      "0  1610612737   2022       00  Donovan Williams  Donovan  donovan-williams   \n",
      "1  1610612737   2022       00    Frank Kaminsky    Frank    frank-kaminsky   \n",
      "2  1610612737   2022       00     Jalen Johnson    Jalen     jalen-johnson   \n",
      "3  1610612737   2022       00     Trent Forrest    Trent     trent-forrest   \n",
      "4  1610612737   2022       00     Aaron Holiday    Aaron     aaron-holiday   \n",
      "\n",
      "    NUM POSITION HEIGHT WEIGHT    BIRTH_DATE   AGE EXP         SCHOOL  \\\n",
      "0  None        G    6-6    190  SEP 06, 2001  21.0   R           UNLV   \n",
      "1     0      F-C    7-0    240  APR 04, 1993  29.0   7      Wisconsin   \n",
      "2     1        F    6-8    219  DEC 18, 2001  21.0   1           Duke   \n",
      "3     2        G    6-4    210  JUN 12, 1998  24.0   2  Florida State   \n",
      "4     3        G    6-0    185  SEP 30, 1996  26.0   4           UCLA   \n",
      "\n",
      "   PLAYER_ID            HOW_ACQUIRED  \n",
      "0    1631495      Signed on 01/17/23  \n",
      "1    1626163      Signed on 07/11/22  \n",
      "2    1630552  #20 Pick in 2021 Draft  \n",
      "3    1630235      Signed on 08/08/22  \n",
      "4    1628988      Signed on 07/06/22  \n"
     ]
    }
   ],
   "source": [
    "from nba_api.stats.endpoints import   commonteamroster\n",
    "\n",
    "player_team_id = []\n",
    "for i in id_teams['id']:\n",
    "    team_df = commonteamroster.CommonTeamRoster(team_id = i).get_data_frames()[0]\n",
    "    player_team_id.append(team_df)\n",
    "    \n",
    "player_team_id = pd.concat(player_team_id, axis=0)\n",
    "print(player_team_id.head())"
   ]
  },
  {
   "cell_type": "code",
   "execution_count": 9,
   "id": "c8ca542a",
   "metadata": {},
   "outputs": [
    {
     "name": "stdout",
     "output_type": "stream",
     "text": [
      "Empty DataFrame\n",
      "Columns: [PLAYER_ID, PLAYER_NAME_LAST_FIRST, SORT_ORDER, GP, G, SHOT_TYPE, FGA_FREQUENCY, FGM, FGA, FG_PCT, EFG_PCT, FG2A_FREQUENCY, FG2M, FG2A, FG2_PCT, FG3A_FREQUENCY, FG3M, FG3A, FG3_PCT]\n",
      "Index: []\n"
     ]
    }
   ],
   "source": [
    "# for i in id_teams['id']:\n",
    "#     for j in id_players['id']:\n",
    "#         for k in num_list:\n",
    "#             print(i,j,k)\n",
    "\n",
    "from nba_api.stats.endpoints import playerdashptshots\n",
    "\n",
    "print(playerdashptshots.PlayerDashPtShots(team_id = 1610612737 , player_id = 1628386 ).get_data_frames()[0].head())"
   ]
  },
  {
   "cell_type": "code",
   "execution_count": 11,
   "id": "06c33b47",
   "metadata": {},
   "outputs": [
    {
     "name": "stdout",
     "output_type": "stream",
     "text": [
      "       TeamID SEASON LeagueID            PLAYER NICKNAME       PLAYER_SLUG  \\\n",
      "0  1610612737   2022       00  Donovan Williams  Donovan  donovan-williams   \n",
      "1  1610612737   2022       00    Frank Kaminsky    Frank    frank-kaminsky   \n",
      "2  1610612737   2022       00     Jalen Johnson    Jalen     jalen-johnson   \n",
      "3  1610612737   2022       00     Trent Forrest    Trent     trent-forrest   \n",
      "4  1610612737   2022       00     Aaron Holiday    Aaron     aaron-holiday   \n",
      "\n",
      "    NUM POSITION HEIGHT WEIGHT    BIRTH_DATE   AGE EXP         SCHOOL  \\\n",
      "0  None        G    6-6    190  SEP 06, 2001  21.0   R           UNLV   \n",
      "1     0      F-C    7-0    240  APR 04, 1993  29.0   7      Wisconsin   \n",
      "2     1        F    6-8    219  DEC 18, 2001  21.0   1           Duke   \n",
      "3     2        G    6-4    210  JUN 12, 1998  24.0   2  Florida State   \n",
      "4     3        G    6-0    185  SEP 30, 1996  26.0   4           UCLA   \n",
      "\n",
      "   PLAYER_ID            HOW_ACQUIRED  \n",
      "0    1631495      Signed on 01/17/23  \n",
      "1    1626163      Signed on 07/11/22  \n",
      "2    1630552  #20 Pick in 2021 Draft  \n",
      "3    1630235      Signed on 08/08/22  \n",
      "4    1628988      Signed on 07/06/22  \n"
     ]
    }
   ],
   "source": [
    "ah = player_team_id[player_team_id['TeamID'] == 1610612737]\n",
    "print(ah.head())"
   ]
  },
  {
   "cell_type": "code",
   "execution_count": 13,
   "id": "d5fe47f2",
   "metadata": {},
   "outputs": [
    {
     "name": "stdout",
     "output_type": "stream",
     "text": [
      "  TEMP_PLAYER_ID  PLAYER_ID FIRST_NAME LAST_NAME        PLAYER_NAME POSITION  \\\n",
      "0           None      12123      Kenny   Adeleke      Kenny Adeleke     PF-C   \n",
      "1           None     200772    Maurice      Ager       Maurice Ager    SG-PG   \n",
      "2           None     200746   LaMarcus  Aldridge  LaMarcus Aldridge     PF-C   \n",
      "3           None     201165     Morris    Almond      Morris Almond    SG-SF   \n",
      "4           None     200811        Lou  Amundson       Lou Amundson       PF   \n",
      "\n",
      "   HEIGHT_WO_SHOES HEIGHT_WO_SHOES_FT_IN  HEIGHT_W_SHOES HEIGHT_W_SHOES_FT_IN  \\\n",
      "0            78.50              6' 6.5''           79.75            6' 7.75''   \n",
      "1            75.25             6' 3.25''           76.50             6' 4.5''   \n",
      "2            82.00               6' 10''           83.25           6' 11.25''   \n",
      "3            76.75             6' 4.75''           78.00               6' 6''   \n",
      "4            79.20              6' 7.2''           80.00               6' 8''   \n",
      "\n",
      "  WEIGHT  WINGSPAN WINGSPAN_FT_IN  STANDING_REACH STANDING_REACH_FT_IN  \\\n",
      "0    250     82.25     6' 10.25''           104.0               8' 8''   \n",
      "1    203     79.75      6' 7.75''           101.5             8' 5.5''   \n",
      "2    234     88.75      7' 4.75''           110.0               9' 2''   \n",
      "3    214     82.00        6' 10''           102.5             8' 6.5''   \n",
      "4    221     83.50      6' 11.5''           103.5             8' 7.5''   \n",
      "\n",
      "   BODY_FAT_PCT HAND_LENGTH HAND_WIDTH  \n",
      "0          10.5        None       None  \n",
      "1           8.0        None       None  \n",
      "2           8.7        None       None  \n",
      "3           6.9        None       None  \n",
      "4           6.8        None       None  \n"
     ]
    }
   ],
   "source": [
    "from nba_api.stats.endpoints import draftcombineplayeranthro\n",
    "import pandas as pd\n",
    "\n",
    "wing = []\n",
    "\n",
    "#a = draftcombineplayeranthro.DraftCombinePlayerAnthro(season_year = 2019 ).get_data_frames()[0].head()\n",
    "\n",
    "for i in range(2006,2023):\n",
    "    a = draftcombineplayeranthro.DraftCombinePlayerAnthro(season_year = i ).get_data_frames()[0]\n",
    "    wing.append(a)\n",
    "\n",
    "wing = pd.concat(wing, axis=0)\n",
    "#a.to_csv('wingspan.csv')\n",
    "print(wing.head())"
   ]
  },
  {
   "cell_type": "code",
   "execution_count": 4,
   "id": "4bac1b1f",
   "metadata": {},
   "outputs": [],
   "source": [
    "df = pd.read_csv(\"C:\\\\Users\\\\richd\\\\456 Sports Analytics Quarter\\okc\\\\bubble graph four factors.csv\")"
   ]
  },
  {
   "cell_type": "code",
   "execution_count": 44,
   "id": "2ffab9d9",
   "metadata": {},
   "outputs": [
    {
     "data": {
      "text/plain": [
       "<matplotlib.legend.Legend at 0x28818e72730>"
      ]
     },
     "execution_count": 44,
     "metadata": {},
     "output_type": "execute_result"
    },
    {
     "data": {
      "image/png": "[encoded data removed]",
      "text/plain": [
       "<Figure size 432x288 with 1 Axes>"
      ]
     },
     "metadata": {
      "needs_background": "light"
     },
     "output_type": "display_data"
    }
   ],
   "source": [
    "sns.scatterplot(data=df, x=\"EFG_delta\", y=\"TO_delta\", size=\"TR_delta\", hue=\"Record\", sizes=(.5,400))\n",
    "plt.legend(bbox_to_anchor=(1.02,1), loc='upper left', borderaxespad=0)"
   ]
  },
  {
   "cell_type": "code",
   "execution_count": 6,
   "id": "debbcddb",
   "metadata": {
    "scrolled": true
   },
   "outputs": [
    {
     "name": "stdout",
     "output_type": "stream",
     "text": [
      "                 TEAM_NAME  EFG_delta  TO_delta  TR_delta\n",
      "0           Indiana Pacers     -0.021    -0.012     0.035\n",
      "1        San Antonio Spurs     -0.005     0.010    -0.008\n",
      "2       Philadelphia 76ers      0.010     0.007    -0.030\n",
      "3            Chicago Bulls      0.000     0.002    -0.016\n",
      "4             Phoenix Suns      0.039     0.017    -0.008\n",
      "5   Portland Trail Blazers     -0.044    -0.004    -0.011\n",
      "6           Boston Celtics      0.040     0.001     0.002\n",
      "7                Utah Jazz      0.034    -0.020     0.038\n",
      "8          New York Knicks     -0.008    -0.006     0.031\n",
      "9         Dallas Mavericks      0.017     0.006    -0.011\n",
      "10         Houston Rockets     -0.020    -0.023    -0.025\n",
      "11         Milwaukee Bucks      0.010    -0.004     0.016\n",
      "12          Denver Nuggets      0.019    -0.017     0.020\n",
      "13      Los Angeles Lakers     -0.003    -0.004    -0.024\n",
      "14           Atlanta Hawks      0.000     0.009     0.000\n",
      "15        Sacramento Kings     -0.026    -0.006    -0.027\n",
      "16     Cleveland Cavaliers      0.018    -0.010     0.001\n",
      "17    New Orleans Pelicans     -0.030     0.001     0.048\n",
      "18   Golden State Warriors      0.043    -0.003     0.005\n",
      "19           Brooklyn Nets      0.019    -0.008    -0.015\n",
      "20         Detroit Pistons     -0.047     0.004    -0.017\n",
      "21              Miami Heat      0.023     0.005     0.013\n",
      "22           Orlando Magic     -0.029    -0.013    -0.016\n",
      "23       Memphis Grizzlies     -0.001     0.019     0.064\n",
      "24             LA Clippers      0.017    -0.002    -0.040\n",
      "25   Oklahoma City Thunder     -0.036    -0.008    -0.017\n",
      "26  Minnesota Timberwolves      0.004     0.019    -0.010\n",
      "27         Toronto Raptors     -0.025     0.034     0.039\n",
      "28       Charlotte Hornets      0.000     0.017    -0.024\n",
      "29      Washington Wizards      0.003    -0.013    -0.022\n"
     ]
    }
   ],
   "source": [
    "print(df)"
   ]
  },
  {
   "cell_type": "code",
   "execution_count": 53,
   "id": "6173ef79",
   "metadata": {},
   "outputs": [
    {
     "name": "stdout",
     "output_type": "stream",
     "text": [
      "            TEAM_NAME   W  EFG_delta  TO_delta  TR_delta     FT\n",
      "0      Indiana Pacers  25     -0.021    -0.012     0.035 -0.017\n",
      "1   San Antonio Spurs  34     -0.005     0.010    -0.008 -0.009\n",
      "2  Philadelphia 76ers  51      0.010     0.007    -0.030  0.032\n",
      "3       Chicago Bulls  46      0.000     0.002    -0.016 -0.003\n",
      "4        Phoenix Suns  64      0.039     0.017    -0.008 -0.036\n"
     ]
    }
   ],
   "source": [
    "df_2 = pd.read_csv(\"C:\\\\Users\\\\richd\\\\456 Sports Analytics Quarter\\okc\\\\bubble graph four factors all.csv\")\n",
    "print(df_2.head())"
   ]
  },
  {
   "cell_type": "code",
   "execution_count": 54,
   "id": "5f1da62a",
   "metadata": {},
   "outputs": [
    {
     "name": "stdout",
     "output_type": "stream",
     "text": [
      "Index(['W', 'EFG_delta', 'TO_delta', 'TR_delta', 'FT'], dtype='object')\n",
      "    W  EFG_delta  TO_delta  TR_delta     FT\n",
      "0  25     -0.021    -0.012     0.035 -0.017\n",
      "1  34     -0.005     0.010    -0.008 -0.009\n",
      "2  51      0.010     0.007    -0.030  0.032\n",
      "3  46      0.000     0.002    -0.016 -0.003\n",
      "4  64      0.039     0.017    -0.008 -0.036\n",
      "    EFG_delta  TO_delta\n",
      "0      -0.021    -0.012\n",
      "1      -0.005     0.010\n",
      "2       0.010     0.007\n",
      "3       0.000     0.002\n",
      "4       0.039     0.017\n",
      "5      -0.044    -0.004\n",
      "6       0.040     0.001\n",
      "7       0.034    -0.020\n",
      "8      -0.008    -0.006\n",
      "9       0.017     0.006\n",
      "10     -0.020    -0.023\n",
      "11      0.010    -0.004\n",
      "12      0.019    -0.017\n",
      "13     -0.003    -0.004\n",
      "14      0.000     0.009\n",
      "15     -0.026    -0.006\n",
      "16      0.018    -0.010\n",
      "17     -0.030     0.001\n",
      "18      0.043    -0.003\n",
      "19      0.019    -0.008\n",
      "20     -0.047     0.004\n",
      "21      0.023     0.005\n",
      "22     -0.029    -0.013\n",
      "23     -0.001     0.019\n",
      "24      0.017    -0.002\n",
      "25     -0.036    -0.008\n",
      "26      0.004     0.019\n",
      "27     -0.025     0.034\n",
      "28      0.000     0.017\n",
      "29      0.003    -0.013\n"
     ]
    }
   ],
   "source": [
    "print(df_2.columns[1:])\n",
    "\n",
    "print(df_2[df_2.columns[1:]].head())\n",
    "\n",
    "print(df_2[['EFG_delta', 'TO_delta']])"
   ]
  },
  {
   "cell_type": "code",
   "execution_count": 56,
   "id": "2d64b5bc",
   "metadata": {},
   "outputs": [
    {
     "name": "stdout",
     "output_type": "stream",
     "text": [
      "[ 1.00000000e+00  7.73659404e-15  4.64169233e-15  9.85059458e-15\n",
      " -1.98449669e-15]\n"
     ]
    }
   ],
   "source": [
    "from sklearn import linear_model\n",
    "\n",
    "X = df_2[df_2.columns[1:]]\n",
    "y = df_2['W']\n",
    "\n",
    "regr = linear_model.LinearRegression()\n",
    "regr.fit(X,y)\n",
    "\n",
    "print(regr.coef_)"
   ]
  },
  {
   "cell_type": "markdown",
   "id": "f784bbb0",
   "metadata": {},
   "source": [
    "# K-Means"
   ]
  },
  {
   "cell_type": "code",
   "execution_count": 3,
   "id": "0cb3d914",
   "metadata": {},
   "outputs": [],
   "source": [
    "# this GitHub https://github.com/lbiedma/nba-stats-analysis/blob/main/FourFactorsAnalysis.ipynb  ; took about 5 seconds\n",
    "\n",
    "four_factors = pd.DataFrame()\n",
    "for i in range(21):\n",
    "    # Building the Season String (ie. 2020-21)\n",
    "    season_str = f\"{2001 + i}-{2 + i:02d}\"\n",
    "    # Let's make some attempts to obtain the data, since we might be doing too many requests...\n",
    "    for attempt in range(5):\n",
    "        try:\n",
    "            season_factors = leaguedashteamstats.LeagueDashTeamStats(\n",
    "                season=season_str, measure_type_detailed_defense=\"Four Factors\",\n",
    "            ).get_data_frames()[0]\n",
    "            season_factors[\"season\"] = 2002 + i\n",
    "            # Try to get the information for the season, getting only the columns we need\n",
    "            four_factors = pd.concat(\n",
    "                [four_factors, season_factors],\n",
    "                axis=0,\n",
    "            )\n",
    "        except:\n",
    "            # If we get an error we go to sleep for some time\n",
    "            time.sleep(30)\n",
    "        else:\n",
    "            # If everything's OK with the request, we continue\n",
    "            break"
   ]
  },
  {
   "cell_type": "code",
   "execution_count": 6,
   "id": "a5888858",
   "metadata": {},
   "outputs": [
    {
     "name": "stdout",
     "output_type": "stream",
     "text": [
      "   EFG_PCT_RANK  TM_TOV_PCT_RANK  OREB_PCT_RANK  FTA_RATE_RANK  \\\n",
      "0            18               25             22             13   \n",
      "1            15                5             29             14   \n",
      "2            20               10              9              6   \n",
      "3            26               24             21             11   \n",
      "4            11               16             15             12   \n",
      "\n",
      "   OPP_EFG_PCT_RANK  OPP_TOV_PCT_RANK  OPP_OREB_PCT_RANK  OPP_TOV_PCT_RANK  \\\n",
      "0                28                11                  9                11   \n",
      "1                 6                 2                  5                 2   \n",
      "2                 7                18                  8                18   \n",
      "3                29                15                 12                15   \n",
      "4                27                26                  7                26   \n",
      "\n",
      "   W_PCT  \n",
      "0  0.402  \n",
      "1  0.598  \n",
      "2  0.537  \n",
      "3  0.256  \n",
      "4  0.354  \n"
     ]
    }
   ],
   "source": [
    "cols = ['EFG_PCT_RANK', 'TM_TOV_PCT_RANK', 'OREB_PCT_RANK', 'FTA_RATE_RANK', 'OPP_EFG_PCT_RANK', 'OPP_TOV_PCT_RANK',\n",
    "       'OPP_OREB_PCT_RANK', 'OPP_TOV_PCT_RANK','W_PCT']\n",
    "\n",
    "#k_df = four_factors          # take the 8 columns and win pct\n",
    "\n",
    "print(four_factors[cols].head())"
   ]
  },
  {
   "cell_type": "code",
   "execution_count": 85,
   "id": "20fd9d2f",
   "metadata": {},
   "outputs": [],
   "source": [
    "#df = pd.DataFrame(four_factors['W_PCT'])\n",
    "\n",
    "four_factors['FG'] = four_factors['EFG_PCT'] - four_factors['OPP_EFG_PCT']\n",
    "four_factors['TO'] = four_factors['OPP_TOV_PCT'] - four_factors['TM_TOV_PCT']\n",
    "four_factors['TR'] = four_factors['OREB_PCT'] - four_factors['OPP_OREB_PCT']\n",
    "four_factors['FT'] = four_factors['FTA_RATE'] - four_factors['OPP_FTA_RATE']\n",
    "\n",
    "#print(df.head())"
   ]
  },
  {
   "cell_type": "code",
   "execution_count": 98,
   "id": "4f104106",
   "metadata": {},
   "outputs": [],
   "source": [
    "TARGET = \"W_PCT\"\n",
    "\n",
    "X = four_factors[cols].copy()\n",
    "X = X.drop( [TARGET], axis=1)\n",
    "\n",
    "varNames = X.columns"
   ]
  },
  {
   "cell_type": "code",
   "execution_count": 99,
   "id": "5962478d",
   "metadata": {},
   "outputs": [
    {
     "name": "stdout",
     "output_type": "stream",
     "text": [
      "   trn_EFG_PCT_RANK  trn_TM_TOV_PCT_RANK  trn_OREB_PCT_RANK  \\\n",
      "0          0.298152             1.110436           0.762314   \n",
      "1         -0.049970            -1.210375           1.574598   \n",
      "2          0.530233            -0.630173          -0.746213   \n",
      "3          1.226477             0.994396           0.646274   \n",
      "4         -0.514132             0.066071          -0.049970   \n",
      "\n",
      "   trn_FTA_RATE_RANK  trn_OPP_EFG_PCT_RANK  trn_OPP_TOV_PCT_RANK  \\\n",
      "0          -0.282051              1.458558             -0.514080   \n",
      "1          -0.166010             -1.094335             -1.558716   \n",
      "2          -1.094335             -0.978294              0.298415   \n",
      "3          -0.514132              1.574598             -0.049797   \n",
      "4          -0.398091              1.342517              1.226980   \n",
      "\n",
      "   trn_OPP_OREB_PCT_RANK  trn_OPP_TOV_PCT_RANK  \n",
      "0              -0.746213             -0.514080  \n",
      "1              -1.210375             -1.558716  \n",
      "2              -0.862254              0.298415  \n",
      "3              -0.398091             -0.049797  \n",
      "4              -0.978294              1.226980  \n"
     ]
    }
   ],
   "source": [
    "# Transform\n",
    "theScaler = StandardScaler()      # standardize the data\n",
    "theScaler.fit( X )\n",
    "X_TRN = theScaler.transform( X )  # transform data\n",
    "X_TRN = pd.DataFrame( X_TRN )     # create dataframe from standardized data\n",
    "\n",
    "# put dataframe names back in \n",
    "varNames_trn = []\n",
    "for i in varNames:\n",
    "    newName = \"trn_\" + i\n",
    "    varNames_trn.append( newName )\n",
    "    \n",
    "X_TRN.columns = varNames_trn\n",
    "print(X_TRN.head())"
   ]
  },
  {
   "cell_type": "code",
   "execution_count": 100,
   "id": "188edf8d",
   "metadata": {},
   "outputs": [],
   "source": [
    "K_LIST = []\n",
    "I_LIST = []\n",
    "S_LIST = []\n",
    "C_LIST = []\n",
    "\n",
    "# how many clusters to use\n",
    "for K in range(3,12) :\n",
    "    km = KMeans( n_clusters = K, random_state = 1)          \n",
    "    km.fit( X_TRN )\n",
    "    K_LIST.append( K )                                            # save range into a list\n",
    "    I_LIST.append( km.inertia_ )                                  # grab some scores ; inertia comes automatically\n",
    "    S_LIST.append( silhouette_score(X_TRN, km.labels_ ) )         # another score\n",
    "    C_LIST.append( calinski_harabasz_score(X_TRN, km.labels_ ) )  # another score\n",
    "    \n",
    "# plot\n",
    "def drawElbow( K, SCORE, LABEL ) :\n",
    "    plt.plot( K, SCORE, 'ro-', linewidth=2)\n",
    "    plt.title( LABEL )\n",
    "    plt.xlabel('Clusters')\n",
    "    plt.ylabel('Score')\n",
    "    plt.show()\n",
    "    \n",
    "#drawElbow( K_LIST, I_LIST, \"Inertia\" )        # K_List of each cluster #, I_list is score\n",
    "# # inertia will always go down, looking for the elbow where it starts to flatten off\n",
    "# # theory on this would be go 5, he would look at 3-5, looking for a range\n",
    "\n",
    "# drawElbow( K_LIST, S_LIST, \"Silhouette\" )\n",
    "# # want the number to be as high as posible ; he'd say seems to crash at 6 and he'd say 3-5 (though it's pushing to 3)\n",
    "\n",
    "# drawElbow( K_LIST, C_LIST, \"Calinski\" )\n",
    " \n",
    "\n",
    "g = []\n",
    "# send original data set in, then transformed data set, put it into this many clusters, see if clusters can predict target\n",
    "# purpose of clusters is not to predict target variable (predictive model would be better there) ; \n",
    "def clusterData( DATA, TRN_DATA, K, TARGET ) :\n",
    "    print(\"\\n\\n\\n\")\n",
    "    print(\"K = \",K)\n",
    "    print(\"=======\")\n",
    "    km = KMeans( n_clusters=K, random_state = 1 )\n",
    "    km.fit( TRN_DATA )\n",
    "    Y = km.predict( TRN_DATA )\n",
    "    DATA[\"CLUSTER\"] = Y\n",
    "    print( DATA.head() )\n",
    "\n",
    "    G = DATA.groupby(\"CLUSTER\")\n",
    "    g.append(G[ TARGET ].value_counts())\n",
    "    print( G.mean() )\n",
    "    print(\"\\n\\n\\n\")\n",
    "    print( G[ TARGET ].value_counts() )\n",
    "\n",
    "\n",
    "# see if we can predict which target (flower) you are \n",
    "#clusterData( df, X_TRN, 3, TARGET )     # average of these are ....   predicted all setosa in 0; others were a split\n",
    "# clusterData( df, X_TRN, 4, TARGET )\n",
    "# clusterData( df, X_TRN, 5, TARGET )\n",
    "\n",
    "\n",
    "# change random_state starting points, see if the clusters are the same ; want the clusters that keep showing up\n",
    "\n",
    "\n",
    "# How to profile clusters? break them down and calculate average values. This cluster has x,y,z"
   ]
  },
  {
   "cell_type": "code",
   "execution_count": 101,
   "id": "f4b5dfff",
   "metadata": {},
   "outputs": [
    {
     "data": {
      "image/png": "[encoded data removed]",
      "text/plain": [
       "<Figure size 432x288 with 1 Axes>"
      ]
     },
     "metadata": {
      "needs_background": "light"
     },
     "output_type": "display_data"
    }
   ],
   "source": [
    "drawElbow( K_LIST, I_LIST, \"Inertia\" )        # K_List of each cluster #, I_list is score\n",
    "# more clusters you have it'll always go lower ; looking for elbow (that's usually the limit)"
   ]
  },
  {
   "cell_type": "code",
   "execution_count": 102,
   "id": "2daa4a3c",
   "metadata": {},
   "outputs": [
    {
     "data": {
      "image/png": "[encoded data removed]",
      "text/plain": [
       "<Figure size 432x288 with 1 Axes>"
      ]
     },
     "metadata": {
      "needs_background": "light"
     },
     "output_type": "display_data"
    }
   ],
   "source": [
    "drawElbow( K_LIST, S_LIST, \"Silhouette\" )\n",
    "# want # to be as high as possible ; maybe more around 4  ; starts bouncing up probably ignore"
   ]
  },
  {
   "cell_type": "code",
   "execution_count": 103,
   "id": "ee9ab0ec",
   "metadata": {
    "scrolled": true
   },
   "outputs": [
    {
     "data": {
      "image/png": "[encoded data removed]",
      "text/plain": [
       "<Figure size 432x288 with 1 Axes>"
      ]
     },
     "metadata": {
      "needs_background": "light"
     },
     "output_type": "display_data"
    }
   ],
   "source": [
    "drawElbow( K_LIST, C_LIST, \"Calinski\" )"
   ]
  },
  {
   "cell_type": "code",
   "execution_count": 105,
   "id": "f32b5384",
   "metadata": {},
   "outputs": [
    {
     "name": "stdout",
     "output_type": "stream",
     "text": [
      "\n",
      "\n",
      "\n",
      "\n",
      "K =  4\n",
      "=======\n",
      "   EFG_PCT_RANK  TM_TOV_PCT_RANK  OREB_PCT_RANK  FTA_RATE_RANK  \\\n",
      "0            18               25             22             13   \n",
      "1            15                5             29             14   \n",
      "2            20               10              9              6   \n",
      "3            26               24             21             11   \n",
      "4            11               16             15             12   \n",
      "\n",
      "   OPP_EFG_PCT_RANK  OPP_TOV_PCT_RANK  OPP_OREB_PCT_RANK  OPP_TOV_PCT_RANK  \\\n",
      "0                28                11                  9                11   \n",
      "1                 6                 2                  5                 2   \n",
      "2                 7                18                  8                18   \n",
      "3                29                15                 12                15   \n",
      "4                27                26                  7                26   \n",
      "\n",
      "   W_PCT  CLUSTER  \n",
      "0  0.402        0  \n",
      "1  0.598        2  \n",
      "2  0.537        1  \n",
      "3  0.256        0  \n",
      "4  0.354        1  \n",
      "         EFG_PCT_RANK  TM_TOV_PCT_RANK  OREB_PCT_RANK  FTA_RATE_RANK  \\\n",
      "CLUSTER                                                                \n",
      "0           22.533333        20.162963      12.548148      13.525926   \n",
      "1           17.705521        19.987730       9.987730      13.067485   \n",
      "2           11.750000        13.953488      16.622093      15.145349   \n",
      "3           10.993631         8.248408      22.254777      19.834395   \n",
      "\n",
      "         OPP_EFG_PCT_RANK  OPP_TOV_PCT_RANK  OPP_OREB_PCT_RANK  \\\n",
      "CLUSTER                                                          \n",
      "0               23.622222         10.511111          21.755556   \n",
      "1               14.840491         23.300613          12.214724   \n",
      "2               12.052326          6.540698          17.447674   \n",
      "3               12.700637         21.222930          11.121019   \n",
      "\n",
      "         OPP_TOV_PCT_RANK     W_PCT  \n",
      "CLUSTER                              \n",
      "0               10.511111  0.360096  \n",
      "1               23.300613  0.464485  \n",
      "2                6.540698  0.588756  \n",
      "3               21.222930  0.558962  \n",
      "\n",
      "\n",
      "\n",
      "\n",
      "CLUSTER  W_PCT\n",
      "0        0.402    9\n",
      "         0.293    6\n",
      "         0.500    6\n",
      "         0.280    5\n",
      "         0.317    5\n",
      "                 ..\n",
      "3        0.732    1\n",
      "         0.758    1\n",
      "         0.767    1\n",
      "         0.768    1\n",
      "         0.890    1\n",
      "Name: W_PCT, Length: 235, dtype: int64\n",
      "[CLUSTER  W_PCT\n",
      "0        0.402    9\n",
      "         0.293    6\n",
      "         0.500    6\n",
      "         0.280    5\n",
      "         0.317    5\n",
      "                 ..\n",
      "3        0.732    1\n",
      "         0.758    1\n",
      "         0.767    1\n",
      "         0.768    1\n",
      "         0.890    1\n",
      "Name: W_PCT, Length: 235, dtype: int64, CLUSTER  W_PCT\n",
      "0        0.402    9\n",
      "         0.293    6\n",
      "         0.500    6\n",
      "         0.280    5\n",
      "         0.317    5\n",
      "                 ..\n",
      "3        0.732    1\n",
      "         0.758    1\n",
      "         0.767    1\n",
      "         0.768    1\n",
      "         0.890    1\n",
      "Name: W_PCT, Length: 235, dtype: int64]\n"
     ]
    }
   ],
   "source": [
    "clusterData( four_factors[cols], X_TRN, 4, TARGET )\n",
    "print(g)"
   ]
  },
  {
   "cell_type": "code",
   "execution_count": null,
   "id": "2d5320d7",
   "metadata": {},
   "outputs": [],
   "source": []
  },
  {
   "cell_type": "code",
   "execution_count": 55,
   "id": "b790a308",
   "metadata": {},
   "outputs": [
    {
     "name": "stdout",
     "output_type": "stream",
     "text": [
      "[]\n"
     ]
    }
   ],
   "source": [
    "print(g)"
   ]
  },
  {
   "cell_type": "code",
   "execution_count": 84,
   "id": "3308a34b",
   "metadata": {},
   "outputs": [],
   "source": [
    "#a = clusterData( df, X_TRN, 5, TARGET )\n",
    "g = pd.DataFrame(g)\n",
    "g.to_csv('cluster1.csv')"
   ]
  },
  {
   "cell_type": "code",
   "execution_count": 26,
   "id": "3f9f1165",
   "metadata": {
    "scrolled": true
   },
   "outputs": [
    {
     "data": {
      "text/plain": [
       "<AxesSubplot:xlabel='season', ylabel='W_PCT'>"
      ]
     },
     "execution_count": 26,
     "metadata": {},
     "output_type": "execute_result"
    },
    {
     "data": {
      "image/png": "[encoded data removed]",
      "text/plain": [
       "<Figure size 432x288 with 1 Axes>"
      ]
     },
     "metadata": {
      "needs_background": "light"
     },
     "output_type": "display_data"
    }
   ],
   "source": [
    "sns.regplot(x = four_factors['season'], y = four_factors['W_PCT'])"
   ]
  },
  {
   "cell_type": "code",
   "execution_count": 86,
   "id": "50c86d8d",
   "metadata": {
    "scrolled": true
   },
   "outputs": [
    {
     "name": "stdout",
     "output_type": "stream",
     "text": [
      "Index(['TEAM_ID', 'TEAM_NAME', 'GP', 'W', 'L', 'W_PCT', 'MIN', 'EFG_PCT',\n",
      "       'FTA_RATE', 'TM_TOV_PCT', 'OREB_PCT', 'OPP_EFG_PCT', 'OPP_FTA_RATE',\n",
      "       'OPP_TOV_PCT', 'OPP_OREB_PCT', 'GP_RANK', 'W_RANK', 'L_RANK',\n",
      "       'W_PCT_RANK', 'MIN_RANK', 'EFG_PCT_RANK', 'FTA_RATE_RANK',\n",
      "       'TM_TOV_PCT_RANK', 'OREB_PCT_RANK', 'OPP_EFG_PCT_RANK',\n",
      "       'OPP_FTA_RATE_RANK', 'OPP_TOV_PCT_RANK', 'OPP_OREB_PCT_RANK', 'CFID',\n",
      "       'CFPARAMS', 'season', 'FG', 'TO', 'TR', 'FT'],\n",
      "      dtype='object')\n"
     ]
    }
   ],
   "source": [
    "print(four_factors.columns)"
   ]
  },
  {
   "cell_type": "code",
   "execution_count": 94,
   "id": "37fd31f4",
   "metadata": {},
   "outputs": [
    {
     "data": {
      "text/html": [
       "<div>\n",
       "<style scoped>\n",
       "    .dataframe tbody tr th:only-of-type {\n",
       "        vertical-align: middle;\n",
       "    }\n",
       "\n",
       "    .dataframe tbody tr th {\n",
       "        vertical-align: top;\n",
       "    }\n",
       "\n",
       "    .dataframe thead th {\n",
       "        text-align: right;\n",
       "    }\n",
       "</style>\n",
       "<table border=\"1\" class=\"dataframe\">\n",
       "  <thead>\n",
       "    <tr style=\"text-align: right;\">\n",
       "      <th></th>\n",
       "      <th>TEAM_ID</th>\n",
       "      <th>TEAM_NAME</th>\n",
       "      <th>GP</th>\n",
       "      <th>W</th>\n",
       "      <th>L</th>\n",
       "      <th>W_PCT</th>\n",
       "      <th>MIN</th>\n",
       "      <th>EFG_PCT</th>\n",
       "      <th>FTA_RATE</th>\n",
       "      <th>TM_TOV_PCT</th>\n",
       "      <th>...</th>\n",
       "      <th>CFID</th>\n",
       "      <th>CFPARAMS</th>\n",
       "      <th>season</th>\n",
       "      <th>FG</th>\n",
       "      <th>TO</th>\n",
       "      <th>TR</th>\n",
       "      <th>FT</th>\n",
       "      <th>proj_wins</th>\n",
       "      <th>win_delta</th>\n",
       "      <th>abs_win_delta</th>\n",
       "    </tr>\n",
       "  </thead>\n",
       "  <tbody>\n",
       "    <tr>\n",
       "      <th>0</th>\n",
       "      <td>1610612737</td>\n",
       "      <td>Atlanta Hawks</td>\n",
       "      <td>82</td>\n",
       "      <td>33</td>\n",
       "      <td>49</td>\n",
       "      <td>0.402</td>\n",
       "      <td>3956.0</td>\n",
       "      <td>0.471</td>\n",
       "      <td>0.294</td>\n",
       "      <td>0.166</td>\n",
       "      <td>...</td>\n",
       "      <td>10</td>\n",
       "      <td>Atlanta Hawks</td>\n",
       "      <td>2002</td>\n",
       "      <td>-0.024</td>\n",
       "      <td>-0.005</td>\n",
       "      <td>-0.014</td>\n",
       "      <td>0.001</td>\n",
       "      <td>29.17</td>\n",
       "      <td>3.83</td>\n",
       "      <td>3.83</td>\n",
       "    </tr>\n",
       "    <tr>\n",
       "      <th>1</th>\n",
       "      <td>1610612738</td>\n",
       "      <td>Boston Celtics</td>\n",
       "      <td>82</td>\n",
       "      <td>49</td>\n",
       "      <td>33</td>\n",
       "      <td>0.598</td>\n",
       "      <td>3966.0</td>\n",
       "      <td>0.476</td>\n",
       "      <td>0.291</td>\n",
       "      <td>0.144</td>\n",
       "      <td>...</td>\n",
       "      <td>10</td>\n",
       "      <td>Boston Celtics</td>\n",
       "      <td>2002</td>\n",
       "      <td>0.012</td>\n",
       "      <td>0.029</td>\n",
       "      <td>-0.033</td>\n",
       "      <td>-0.027</td>\n",
       "      <td>49.43</td>\n",
       "      <td>-0.43</td>\n",
       "      <td>0.43</td>\n",
       "    </tr>\n",
       "    <tr>\n",
       "      <th>2</th>\n",
       "      <td>1610612766</td>\n",
       "      <td>Charlotte Hornets</td>\n",
       "      <td>82</td>\n",
       "      <td>44</td>\n",
       "      <td>38</td>\n",
       "      <td>0.537</td>\n",
       "      <td>3951.0</td>\n",
       "      <td>0.466</td>\n",
       "      <td>0.320</td>\n",
       "      <td>0.154</td>\n",
       "      <td>...</td>\n",
       "      <td>10</td>\n",
       "      <td>Charlotte Hornets</td>\n",
       "      <td>2002</td>\n",
       "      <td>0.001</td>\n",
       "      <td>-0.002</td>\n",
       "      <td>0.022</td>\n",
       "      <td>0.026</td>\n",
       "      <td>44.77</td>\n",
       "      <td>-0.77</td>\n",
       "      <td>0.77</td>\n",
       "    </tr>\n",
       "    <tr>\n",
       "      <th>3</th>\n",
       "      <td>1610612741</td>\n",
       "      <td>Chicago Bulls</td>\n",
       "      <td>82</td>\n",
       "      <td>21</td>\n",
       "      <td>61</td>\n",
       "      <td>0.256</td>\n",
       "      <td>3961.0</td>\n",
       "      <td>0.456</td>\n",
       "      <td>0.302</td>\n",
       "      <td>0.166</td>\n",
       "      <td>...</td>\n",
       "      <td>10</td>\n",
       "      <td>Chicago Bulls</td>\n",
       "      <td>2002</td>\n",
       "      <td>-0.041</td>\n",
       "      <td>-0.010</td>\n",
       "      <td>-0.017</td>\n",
       "      <td>-0.019</td>\n",
       "      <td>20.24</td>\n",
       "      <td>0.76</td>\n",
       "      <td>0.76</td>\n",
       "    </tr>\n",
       "    <tr>\n",
       "      <th>4</th>\n",
       "      <td>1610612739</td>\n",
       "      <td>Cleveland Cavaliers</td>\n",
       "      <td>82</td>\n",
       "      <td>29</td>\n",
       "      <td>53</td>\n",
       "      <td>0.354</td>\n",
       "      <td>3971.0</td>\n",
       "      <td>0.477</td>\n",
       "      <td>0.301</td>\n",
       "      <td>0.158</td>\n",
       "      <td>...</td>\n",
       "      <td>10</td>\n",
       "      <td>Cleveland Cavaliers</td>\n",
       "      <td>2002</td>\n",
       "      <td>-0.016</td>\n",
       "      <td>-0.017</td>\n",
       "      <td>0.009</td>\n",
       "      <td>-0.001</td>\n",
       "      <td>30.90</td>\n",
       "      <td>-1.90</td>\n",
       "      <td>1.90</td>\n",
       "    </tr>\n",
       "  </tbody>\n",
       "</table>\n",
       "<p>5 rows × 38 columns</p>\n",
       "</div>"
      ],
      "text/plain": [
       "      TEAM_ID            TEAM_NAME  GP   W   L  W_PCT     MIN  EFG_PCT  \\\n",
       "0  1610612737        Atlanta Hawks  82  33  49  0.402  3956.0    0.471   \n",
       "1  1610612738       Boston Celtics  82  49  33  0.598  3966.0    0.476   \n",
       "2  1610612766    Charlotte Hornets  82  44  38  0.537  3951.0    0.466   \n",
       "3  1610612741        Chicago Bulls  82  21  61  0.256  3961.0    0.456   \n",
       "4  1610612739  Cleveland Cavaliers  82  29  53  0.354  3971.0    0.477   \n",
       "\n",
       "   FTA_RATE  TM_TOV_PCT  ...  CFID             CFPARAMS  season     FG     TO  \\\n",
       "0     0.294       0.166  ...    10        Atlanta Hawks    2002 -0.024 -0.005   \n",
       "1     0.291       0.144  ...    10       Boston Celtics    2002  0.012  0.029   \n",
       "2     0.320       0.154  ...    10    Charlotte Hornets    2002  0.001 -0.002   \n",
       "3     0.302       0.166  ...    10        Chicago Bulls    2002 -0.041 -0.010   \n",
       "4     0.301       0.158  ...    10  Cleveland Cavaliers    2002 -0.016 -0.017   \n",
       "\n",
       "      TR     FT  proj_wins  win_delta  abs_win_delta  \n",
       "0 -0.014  0.001      29.17       3.83           3.83  \n",
       "1 -0.033 -0.027      49.43      -0.43           0.43  \n",
       "2  0.022  0.026      44.77      -0.77           0.77  \n",
       "3 -0.017 -0.019      20.24       0.76           0.76  \n",
       "4  0.009 -0.001      30.90      -1.90           1.90  \n",
       "\n",
       "[5 rows x 38 columns]"
      ]
     },
     "execution_count": 94,
     "metadata": {},
     "output_type": "execute_result"
    }
   ],
   "source": [
    "proj_wins = []\n",
    "\n",
    "for i, row in four_factors.iterrows():\n",
    "    result = 41.06 + (351.88 * row['FG']) + (333.06 * row['TO']) + (130.61 * row['TR']) + (44.43 * row['FT'])\n",
    "    total_wins = row['GP'] * (result/82)\n",
    "    proj_wins.append(round(total_wins,2))\n",
    "\n",
    "four_factors['proj_wins'] = proj_wins\n",
    "four_factors.head()"
   ]
  },
  {
   "cell_type": "code",
   "execution_count": 95,
   "id": "41b8ad5f",
   "metadata": {},
   "outputs": [],
   "source": [
    "# how far off proj wins\n",
    "four_factors['win_delta'] = four_factors['W'] - four_factors['proj_wins']\n",
    "four_factors['abs_win_delta'] = abs(four_factors['W'] - four_factors['proj_wins'])"
   ]
  },
  {
   "cell_type": "code",
   "execution_count": 96,
   "id": "e419ac1e",
   "metadata": {},
   "outputs": [
    {
     "name": "stdout",
     "output_type": "stream",
     "text": [
      "       TEAM_ID           TEAM_NAME  GP   W   L  W_PCT     MIN  EFG_PCT  \\\n",
      "2   1610612766   Charlotte Bobcats  82  18  64  0.220  3976.0    0.455   \n",
      "22  1610612755  Philadelphia 76ers  82  10  72  0.122  3961.0    0.487   \n",
      "6   1610612742    Dallas Mavericks  82  24  58  0.293  3961.0    0.513   \n",
      "22  1610612755  Philadelphia 76ers  66  35  31  0.530  3183.0    0.480   \n",
      "3   1610612766   Charlotte Hornets  82  36  46  0.439  3956.0    0.508   \n",
      "..         ...                 ...  ..  ..  ..    ...     ...      ...   \n",
      "22  1610612755  Philadelphia 76ers  82  27  55  0.329  3961.0    0.496   \n",
      "1   1610612738      Boston Celtics  82  51  31  0.622  3981.0    0.542   \n",
      "5   1610612742    Dallas Mavericks  82  57  25  0.695  3941.0    0.525   \n",
      "21  1610612756        Phoenix Suns  82  29  53  0.354  3946.0    0.475   \n",
      "4   1610612741       Chicago Bulls  65  22  43  0.338  3135.0    0.515   \n",
      "\n",
      "    FTA_RATE  TM_TOV_PCT  ...  CFID            CFPARAMS  season     FG     TO  \\\n",
      "2      0.306       0.154  ...    10   Charlotte Bobcats    2005 -0.042  0.013   \n",
      "22     0.269       0.165  ...    10  Philadelphia 76ers    2016 -0.023 -0.012   \n",
      "6      0.217       0.127  ...    10    Dallas Mavericks    2018 -0.019  0.014   \n",
      "22     0.217       0.123  ...    10  Philadelphia 76ers    2012  0.020  0.030   \n",
      "3      0.312       0.128  ...    10   Charlotte Hornets    2018 -0.024  0.009   \n",
      "..       ...         ...  ...   ...                 ...     ...    ...    ...   \n",
      "22     0.270       0.156  ...    10  Philadelphia 76ers    2010 -0.022 -0.001   \n",
      "1      0.239       0.139  ...    10      Boston Celtics    2022  0.040  0.001   \n",
      "5      0.286       0.151  ...    10    Dallas Mavericks    2011  0.037 -0.004   \n",
      "21     0.280       0.162  ...    10        Phoenix Suns    2004 -0.007  0.007   \n",
      "4      0.231       0.153  ...    10       Chicago Bulls    2020 -0.031  0.028   \n",
      "\n",
      "       TR     FT  proj_wins  win_delta  abs_win_delta  \n",
      "2   0.003 -0.044      29.05     -11.05          11.05  \n",
      "22 -0.057 -0.037      19.88      -9.88           9.88  \n",
      "6  -0.027 -0.038      33.82      -9.82           9.82  \n",
      "22 -0.011 -0.038      44.24      -9.24           9.24  \n",
      "3   0.034  0.104      44.67      -8.67           8.67  \n",
      "..    ...    ...        ...        ...            ...  \n",
      "22  0.003 -0.032      31.96      -4.96           4.96  \n",
      "1   0.002  0.005      55.95      -4.95           4.95  \n",
      "5  -0.009  0.011      52.06       4.94           4.94  \n",
      "21 -0.042 -0.034      33.93      -4.93           4.93  \n",
      "4  -0.014 -0.084      26.89      -4.89           4.89  \n",
      "\n",
      "[100 rows x 38 columns]\n"
     ]
    }
   ],
   "source": [
    "print(four_factors.sort_values(by = 'abs_win_delta', ascending = False).head(100))"
   ]
  },
  {
   "cell_type": "code",
   "execution_count": 97,
   "id": "f9ab4a3f",
   "metadata": {},
   "outputs": [],
   "source": [
    "four_factors.to_csv('cluster1.csv')"
   ]
  },
  {
   "cell_type": "code",
   "execution_count": 106,
   "id": "6a853df5",
   "metadata": {
    "scrolled": true
   },
   "outputs": [
    {
     "name": "stdout",
     "output_type": "stream",
     "text": [
      "       TEAM_ID              TEAM_NAME  GP   W   L  W_PCT     MIN  EFG_PCT  \\\n",
      "20  1610612760  Oklahoma City Thunder  82  23  59  0.280  3961.0    0.471   \n",
      "20  1610612760  Oklahoma City Thunder  82  50  32  0.610  3961.0    0.494   \n",
      "20  1610612760  Oklahoma City Thunder  82  55  27  0.671  4001.0    0.501   \n",
      "20  1610612760  Oklahoma City Thunder  66  47  19  0.712  3198.0    0.516   \n",
      "20  1610612760  Oklahoma City Thunder  82  60  22  0.732  3966.0    0.527   \n",
      "\n",
      "    FTA_RATE  TM_TOV_PCT  ...               CFPARAMS  season     FG     TO  \\\n",
      "20     0.308       0.170  ...  Oklahoma City Thunder    2009 -0.043 -0.025   \n",
      "20     0.333       0.158  ...  Oklahoma City Thunder    2010  0.011  0.001   \n",
      "20     0.363       0.148  ...  Oklahoma City Thunder    2011  0.008 -0.001   \n",
      "20     0.334       0.172  ...  Oklahoma City Thunder    2012  0.051 -0.022   \n",
      "20     0.338       0.160  ...  Oklahoma City Thunder    2013  0.058 -0.005   \n",
      "\n",
      "       TR     FT  proj_wins  win_delta  abs_win_delta  CLUSTER  \n",
      "20  0.025  0.024      21.93       1.07           1.07        1  \n",
      "20  0.014  0.033      48.56       1.44           1.44        2  \n",
      "20  0.003  0.056      46.42       8.58           8.58        1  \n",
      "20 -0.009  0.064      42.94       4.06           4.06        1  \n",
      "20 -0.007  0.084      62.62      -2.62           2.62        2  \n",
      "\n",
      "[5 rows x 39 columns]\n"
     ]
    }
   ],
   "source": [
    "print(four_factors[four_factors['TEAM_NAME'] == 'Oklahoma City Thunder'].head())"
   ]
  }
 ],
 "metadata": {
  "kernelspec": {
   "display_name": "Python 3 (ipykernel)",
   "language": "python",
   "name": "python3"
  },
  "language_info": {
   "codemirror_mode": {
    "name": "ipython",
    "version": 3
   },
   "file_extension": ".py",
   "mimetype": "text/x-python",
   "name": "python",
   "nbconvert_exporter": "python",
   "pygments_lexer": "ipython3",
   "version": "3.8.8"
  }
 },
 "nbformat": 4,
 "nbformat_minor": 5
}
